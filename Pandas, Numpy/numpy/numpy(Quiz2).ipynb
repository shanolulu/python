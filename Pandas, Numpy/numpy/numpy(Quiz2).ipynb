{
 "cells": [
  {
   "cell_type": "code",
   "execution_count": 1,
   "metadata": {
    "colab": {
     "base_uri": "https://localhost:8080/",
     "height": 127
    },
    "colab_type": "code",
    "executionInfo": {
     "elapsed": 16838,
     "status": "ok",
     "timestamp": 1598939342998,
     "user": {
      "displayName": "강주현",
      "photoUrl": "https://lh3.googleusercontent.com/a-/AOh14GhI6eR4X0pU-wyWD_lrneGGkf4JwhmGDwx7Dopr=s64",
      "userId": "12298000088270855699"
     },
     "user_tz": -540
    },
    "id": "Hl5OO3J_NQzh",
    "outputId": "d6d93634-7d75-46a2-e3cc-b7a27cee6998"
   },
   "outputs": [
    {
     "name": "stdout",
     "output_type": "stream",
     "text": [
      "Go to this URL in a browser: https://accounts.google.com/o/oauth2/auth?client_id=947318989803-6bn6qk8qdgf4n4g3pfee6491hc0brc4i.apps.googleusercontent.com&redirect_uri=urn%3aietf%3awg%3aoauth%3a2.0%3aoob&scope=email%20https%3a%2f%2fwww.googleapis.com%2fauth%2fdocs.test%20https%3a%2f%2fwww.googleapis.com%2fauth%2fdrive%20https%3a%2f%2fwww.googleapis.com%2fauth%2fdrive.photos.readonly%20https%3a%2f%2fwww.googleapis.com%2fauth%2fpeopleapi.readonly&response_type=code\n",
      "\n",
      "Enter your authorization code:\n",
      "··········\n",
      "Mounted at /content/drive\n"
     ]
    }
   ],
   "source": [
    "from google.colab import drive\n",
    "drive.mount('/content/drive')"
   ]
  },
  {
   "cell_type": "code",
   "execution_count": 62,
   "metadata": {
    "colab": {},
    "colab_type": "code",
    "executionInfo": {
     "elapsed": 1475,
     "status": "ok",
     "timestamp": 1598940890359,
     "user": {
      "displayName": "강주현",
      "photoUrl": "https://lh3.googleusercontent.com/a-/AOh14GhI6eR4X0pU-wyWD_lrneGGkf4JwhmGDwx7Dopr=s64",
      "userId": "12298000088270855699"
     },
     "user_tz": -540
    },
    "id": "PmPcLx5_NdER"
   },
   "outputs": [],
   "source": [
    "import numpy as np\n",
    "data = np.loadtxt('ex2_전년대비_시도별_교통사망사고.csv', delimiter=',', dtype=np.float, encoding='cp949')"
   ]
  },
  {
   "cell_type": "code",
   "execution_count": 61,
   "metadata": {
    "colab": {
     "base_uri": "https://localhost:8080/",
     "height": 323
    },
    "colab_type": "code",
    "executionInfo": {
     "elapsed": 1389,
     "status": "ok",
     "timestamp": 1598940882295,
     "user": {
      "displayName": "강주현",
      "photoUrl": "https://lh3.googleusercontent.com/a-/AOh14GhI6eR4X0pU-wyWD_lrneGGkf4JwhmGDwx7Dopr=s64",
      "userId": "12298000088270855699"
     },
     "user_tz": -540
    },
    "id": "PnDT8ZUKNmEG",
    "outputId": "a4dd2ff4-654f-4b27-e86e-16392645de67"
   },
   "outputs": [
    {
     "name": "stdout",
     "output_type": "stream",
     "text": [
      "[[ 2.014e+03  1.000e+00  2.180e+02  4.800e+00 -9.000e+00 -4.000e+00]\n",
      " [ 2.014e+03  2.000e+00  8.720e+02  1.900e+01 -4.500e+01 -4.900e+00]\n",
      " [ 2.014e+03  3.000e+00  4.010e+02  8.700e+00 -4.500e+01 -1.010e+01]\n",
      " [ 2.014e+03  4.000e+00  4.640e+02  1.010e+01 -4.100e+01 -8.100e+00]\n",
      " [ 2.014e+03  5.000e+00  9.900e+01  2.200e+00 -5.000e+00 -4.800e+00]\n",
      " [ 2.014e+03  6.000e+00  1.820e+02  4.000e+00  1.900e+01  1.170e+01]\n",
      " [ 2.014e+03  7.000e+00  9.900e+01  2.200e+00  8.000e+00  8.800e+00]\n",
      " [ 2.014e+03  8.000e+00  1.630e+02  3.600e+00 -4.700e+01 -2.240e+01]\n",
      " [ 2.014e+03  9.000e+00  3.860e+02  8.400e+00  1.400e+01  3.800e+00]\n",
      " [ 2.014e+03  1.000e+01  2.000e+01  4.000e-01  0.000e+00  0.000e+00]\n",
      " [ 2.014e+03  1.100e+01  1.030e+02  2.200e+00 -1.600e+01 -1.340e+01]\n",
      " [ 2.014e+03  1.200e+01  1.440e+02  3.100e+00 -6.000e+00 -4.000e+00]\n",
      " [ 2.014e+03  1.300e+01  4.000e+02  8.700e+00 -3.500e+01 -8.000e+00]\n",
      " [ 2.014e+03  1.400e+01  3.170e+02  6.900e+00 -3.500e+01 -9.900e+00]\n",
      " [ 2.014e+03  1.500e+01  8.600e+01  1.900e+00 -1.400e+01 -1.400e+01]\n",
      " [ 2.014e+03  1.600e+01  3.870e+02  8.400e+00 -5.000e+00 -1.300e+00]\n",
      " [ 2.014e+03  1.700e+01  2.420e+02  5.300e+00 -3.100e+01 -1.140e+01]]\n"
     ]
    }
   ],
   "source": [
    "# Q1\n",
    "print(data)"
   ]
  },
  {
   "cell_type": "code",
   "execution_count": 55,
   "metadata": {
    "colab": {
     "base_uri": "https://localhost:8080/",
     "height": 35
    },
    "colab_type": "code",
    "executionInfo": {
     "elapsed": 2817,
     "status": "ok",
     "timestamp": 1598940805970,
     "user": {
      "displayName": "강주현",
      "photoUrl": "https://lh3.googleusercontent.com/a-/AOh14GhI6eR4X0pU-wyWD_lrneGGkf4JwhmGDwx7Dopr=s64",
      "userId": "12298000088270855699"
     },
     "user_tz": -540
    },
    "id": "sPGlFsgKN7Ka",
    "outputId": "2c594ddd-a7f2-4331-d550-241d46ef1611"
   },
   "outputs": [
    {
     "name": "stdout",
     "output_type": "stream",
     "text": [
      "(17, 6)\n"
     ]
    }
   ],
   "source": [
    "# Q2\n",
    "print(data.shape)"
   ]
  },
  {
   "cell_type": "code",
   "execution_count": 56,
   "metadata": {
    "colab": {
     "base_uri": "https://localhost:8080/",
     "height": 233
    },
    "colab_type": "code",
    "executionInfo": {
     "elapsed": 1360,
     "status": "ok",
     "timestamp": 1598940805972,
     "user": {
      "displayName": "강주현",
      "photoUrl": "https://lh3.googleusercontent.com/a-/AOh14GhI6eR4X0pU-wyWD_lrneGGkf4JwhmGDwx7Dopr=s64",
      "userId": "12298000088270855699"
     },
     "user_tz": -540
    },
    "id": "R9biGwsWN--K",
    "outputId": "c7edb8da-95d9-407b-f99d-6179e2e089e1"
   },
   "outputs": [
    {
     "name": "stdout",
     "output_type": "stream",
     "text": [
      "[-4.700e+01 -4.500e+01 -4.100e+01 -3.500e+01 -3.100e+01 -2.240e+01\n",
      " -1.600e+01 -1.400e+01 -1.340e+01 -1.140e+01 -1.010e+01 -9.900e+00\n",
      " -9.000e+00 -8.100e+00 -8.000e+00 -6.000e+00 -5.000e+00 -4.900e+00\n",
      " -4.800e+00 -4.000e+00 -1.300e+00  0.000e+00  4.000e-01  1.000e+00\n",
      "  1.900e+00  2.000e+00  2.200e+00  3.000e+00  3.100e+00  3.600e+00\n",
      "  3.800e+00  4.000e+00  4.800e+00  5.000e+00  5.300e+00  6.000e+00\n",
      "  6.900e+00  7.000e+00  8.000e+00  8.400e+00  8.700e+00  8.800e+00\n",
      "  9.000e+00  1.000e+01  1.010e+01  1.100e+01  1.170e+01  1.200e+01\n",
      "  1.300e+01  1.400e+01  1.500e+01  1.600e+01  1.700e+01  1.900e+01\n",
      "  2.000e+01  8.600e+01  9.900e+01  1.030e+02  1.440e+02  1.630e+02\n",
      "  1.820e+02  2.180e+02  2.420e+02  3.170e+02  3.860e+02  3.870e+02\n",
      "  4.000e+02  4.010e+02  4.640e+02  8.720e+02  2.014e+03]\n"
     ]
    }
   ],
   "source": [
    "# Q3\n",
    "print(np.unique(data))"
   ]
  },
  {
   "cell_type": "code",
   "execution_count": 57,
   "metadata": {
    "colab": {
     "base_uri": "https://localhost:8080/",
     "height": 35
    },
    "colab_type": "code",
    "executionInfo": {
     "elapsed": 1478,
     "status": "ok",
     "timestamp": 1598940810204,
     "user": {
      "displayName": "강주현",
      "photoUrl": "https://lh3.googleusercontent.com/a-/AOh14GhI6eR4X0pU-wyWD_lrneGGkf4JwhmGDwx7Dopr=s64",
      "userId": "12298000088270855699"
     },
     "user_tz": -540
    },
    "id": "GHuMBmlROgPW",
    "outputId": "4094166f-1f63-453a-9533-4902b99ff0d8"
   },
   "outputs": [
    {
     "name": "stdout",
     "output_type": "stream",
     "text": [
      "[2014.     8.   163.     3.6  -47.   -22.4]\n"
     ]
    }
   ],
   "source": [
    "# Q4\n",
    "print(data[7, :])"
   ]
  },
  {
   "cell_type": "code",
   "execution_count": 49,
   "metadata": {
    "colab": {
     "base_uri": "https://localhost:8080/",
     "height": 35
    },
    "colab_type": "code",
    "executionInfo": {
     "elapsed": 946,
     "status": "ok",
     "timestamp": 1598940702962,
     "user": {
      "displayName": "강주현",
      "photoUrl": "https://lh3.googleusercontent.com/a-/AOh14GhI6eR4X0pU-wyWD_lrneGGkf4JwhmGDwx7Dopr=s64",
      "userId": "12298000088270855699"
     },
     "user_tz": -540
    },
    "id": "70t8DkNaRxuK",
    "outputId": "cde1c167-9a61-4da7-da46-c9f62b40e7c0"
   },
   "outputs": [
    {
     "name": "stdout",
     "output_type": "stream",
     "text": [
      "4583.0\n"
     ]
    }
   ],
   "source": [
    "# Q5\n",
    "print(np.sum(data[:, 2]))"
   ]
  },
  {
   "cell_type": "code",
   "execution_count": 51,
   "metadata": {
    "colab": {
     "base_uri": "https://localhost:8080/",
     "height": 35
    },
    "colab_type": "code",
    "executionInfo": {
     "elapsed": 1082,
     "status": "ok",
     "timestamp": 1598940723673,
     "user": {
      "displayName": "강주현",
      "photoUrl": "https://lh3.googleusercontent.com/a-/AOh14GhI6eR4X0pU-wyWD_lrneGGkf4JwhmGDwx7Dopr=s64",
      "userId": "12298000088270855699"
     },
     "user_tz": -540
    },
    "id": "0G1sZ27VRy4J",
    "outputId": "d7d81987-b4cd-40bf-cc09-424374e30f88"
   },
   "outputs": [
    {
     "name": "stdout",
     "output_type": "stream",
     "text": [
      "-22.4\n"
     ]
    }
   ],
   "source": [
    "# Q6\n",
    "print(np.min(data[:, 5]))"
   ]
  },
  {
   "cell_type": "code",
   "execution_count": 53,
   "metadata": {
    "colab": {
     "base_uri": "https://localhost:8080/",
     "height": 71
    },
    "colab_type": "code",
    "executionInfo": {
     "elapsed": 1151,
     "status": "ok",
     "timestamp": 1598940764942,
     "user": {
      "displayName": "강주현",
      "photoUrl": "https://lh3.googleusercontent.com/a-/AOh14GhI6eR4X0pU-wyWD_lrneGGkf4JwhmGDwx7Dopr=s64",
      "userId": "12298000088270855699"
     },
     "user_tz": -540
    },
    "id": "L6xtWeV1R7E0",
    "outputId": "9738d23e-f187-44de-ab86-782fc2d69049"
   },
   "outputs": [
    {
     "name": "stdout",
     "output_type": "stream",
     "text": [
      "[[-45.   -4.9]\n",
      " [-45.  -10.1]\n",
      " [-41.   -8.1]]\n"
     ]
    }
   ],
   "source": [
    "# Q7\n",
    "print(data[data[:, 2] > 400, 4:])\n"
   ]
  },
  {
   "cell_type": "code",
   "execution_count": null,
   "metadata": {
    "colab": {},
    "colab_type": "code",
    "id": "7N9IaIfnS2nn"
   },
   "outputs": [],
   "source": []
  }
 ],
 "metadata": {
  "colab": {
   "authorship_tag": "ABX9TyMtjXzrmraGNh/ILy6PJs9q",
   "collapsed_sections": [],
   "name": "Quiz2.ipynb",
   "provenance": []
  },
  "kernelspec": {
   "display_name": "Python 3",
   "language": "python",
   "name": "python3"
  },
  "language_info": {
   "codemirror_mode": {
    "name": "ipython",
    "version": 3
   },
   "file_extension": ".py",
   "mimetype": "text/x-python",
   "name": "python",
   "nbconvert_exporter": "python",
   "pygments_lexer": "ipython3",
   "version": "3.8.5"
  }
 },
 "nbformat": 4,
 "nbformat_minor": 1
}
