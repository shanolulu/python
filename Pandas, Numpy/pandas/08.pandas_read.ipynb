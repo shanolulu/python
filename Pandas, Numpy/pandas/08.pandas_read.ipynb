{
 "cells": [
  {
   "cell_type": "code",
   "execution_count": null,
   "metadata": {
    "colab": {
     "base_uri": "https://localhost:8080/",
     "height": 127
    },
    "colab_type": "code",
    "executionInfo": {
     "elapsed": 163769,
     "status": "ok",
     "timestamp": 1599025442501,
     "user": {
      "displayName": "강주현",
      "photoUrl": "https://lh3.googleusercontent.com/a-/AOh14GhI6eR4X0pU-wyWD_lrneGGkf4JwhmGDwx7Dopr=s64",
      "userId": "12298000088270855699"
     },
     "user_tz": -540
    },
    "id": "mfnac5OmVWrp",
    "outputId": "318eb8c4-7acd-41b8-bb3f-e841e29ca72d"
   },
   "outputs": [
    {
     "name": "stdout",
     "output_type": "stream",
     "text": [
      "Go to this URL in a browser: https://accounts.google.com/o/oauth2/auth?client_id=947318989803-6bn6qk8qdgf4n4g3pfee6491hc0brc4i.apps.googleusercontent.com&redirect_uri=urn%3aietf%3awg%3aoauth%3a2.0%3aoob&scope=email%20https%3a%2f%2fwww.googleapis.com%2fauth%2fdocs.test%20https%3a%2f%2fwww.googleapis.com%2fauth%2fdrive%20https%3a%2f%2fwww.googleapis.com%2fauth%2fdrive.photos.readonly%20https%3a%2f%2fwww.googleapis.com%2fauth%2fpeopleapi.readonly&response_type=code\n",
      "\n",
      "Enter your authorization code:\n",
      "··········\n",
      "Mounted at /content/drive\n"
     ]
    }
   ],
   "source": [
    "from google.colab import drive\n",
    "drive.mount('/content/drive')"
   ]
  },
  {
   "cell_type": "code",
   "execution_count": null,
   "metadata": {
    "colab": {
     "base_uri": "https://localhost:8080/",
     "height": 503
    },
    "colab_type": "code",
    "executionInfo": {
     "elapsed": 542,
     "status": "ok",
     "timestamp": 1599025035420,
     "user": {
      "displayName": "강주현",
      "photoUrl": "https://lh3.googleusercontent.com/a-/AOh14GhI6eR4X0pU-wyWD_lrneGGkf4JwhmGDwx7Dopr=s64",
      "userId": "12298000088270855699"
     },
     "user_tz": -540
    },
    "id": "6fJygEClTpwF",
    "outputId": "9cba67a8-0dbe-4476-a098-6031c234bbc4"
   },
   "outputs": [
    {
     "name": "stdout",
     "output_type": "stream",
     "text": [
      "DataFrame #1\n",
      "(2, 3)\n",
      "2\n",
      "[0, 1, 2]\n",
      "   0  1  2\n",
      "0  1  2  3\n",
      "1  4  5  6\n",
      "   A  B  C\n",
      "0  1  2  3\n",
      "1  4  5  6\n",
      "2  7  8  9\n",
      "DataFrame #2\n",
      "A    1\n",
      "B    2\n",
      "C    3\n",
      "Name: 0, dtype: int64\n",
      "0    1\n",
      "1    4\n",
      "2    7\n",
      "Name: A, dtype: int64\n",
      "1    5\n",
      "2    8\n",
      "Name: B, dtype: int64\n",
      "   A  B  C\n",
      "0  1  2  3\n",
      "1  4  5  6\n",
      "2  7  8  9\n"
     ]
    }
   ],
   "source": [
    "import pandas as pd\n",
    "import numpy as np\n",
    "\n",
    "df = pd.DataFrame(np.array([[1,2,3], [4,5,6]]))\n",
    "print('DataFrame #1')\n",
    "print(df.shape)\n",
    "print(len(df.index))\n",
    "print(list(df.columns))\n",
    "print(df)\n",
    "df = pd.DataFrame({'A':[1,4,7] ,'B':[2, 5, 8], 'C':[3, 6, 9]})\n",
    "print(df)\n",
    "print(\"DataFrame #2\")\n",
    "print(df.loc[0])\n",
    "print(df.loc[:, 'A'])\n",
    "print(df.loc[1:, 'B'])\n",
    "print(df)"
   ]
  },
  {
   "cell_type": "code",
   "execution_count": null,
   "metadata": {
    "colab": {},
    "colab_type": "code",
    "id": "i0no8UXWUMQN"
   },
   "outputs": [],
   "source": [
    "# # pandas01.py\n",
    "# import pandas as pd\n",
    "# import os\n",
    "\n",
    "# # dir = os.path.dirname(os.path.realpath(''))\n",
    "\n",
    "# input_file = '/content/drive/My Drive/SKinfosec/사이버 강의/csv/supplier_data.csv'\n",
    "# output_file = '/content/drive/My Drive/SKinfosec/사이버 강의/cs/pandas_output.csvv'\n",
    "\n",
    "# dat_frame = pd.read_csv(input_file)\n",
    "# df['Cost'] = df['Cost'.str.strip('$').astype(float)]\n",
    "# new_df = df.loc[(df['Supplier Name'].str.contains('Z')) | (df['Cost' > 600.0 ])] \n"
   ]
  },
  {
   "cell_type": "code",
   "execution_count": null,
   "metadata": {
    "colab": {
     "base_uri": "https://localhost:8080/",
     "height": 143
    },
    "colab_type": "code",
    "executionInfo": {
     "elapsed": 558,
     "status": "ok",
     "timestamp": 1599025564545,
     "user": {
      "displayName": "강주현",
      "photoUrl": "https://lh3.googleusercontent.com/a-/AOh14GhI6eR4X0pU-wyWD_lrneGGkf4JwhmGDwx7Dopr=s64",
      "userId": "12298000088270855699"
     },
     "user_tz": -540
    },
    "id": "AzWKnMiEV5V6",
    "outputId": "e2d221fb-6839-4cb8-f44d-5e50661746a9"
   },
   "outputs": [
    {
     "name": "stdout",
     "output_type": "stream",
     "text": [
      "   Supplier Name Invoice Number  Part Number   Cost Purchase Date\n",
      "3     Supplier X       001-1001         5467  750.0       1/20/14\n",
      "8     Supplier Z       920-4803         3321  615.0    2002-03-14\n",
      "9     Supplier Z       920-4804         3321  615.0    2002-10-14\n",
      "10    Supplier Z       920-4805         3321  615.0       2/17/14\n",
      "11    Supplier Z       920-4806         3321  615.0       2/24/14\n",
      ".Done\n"
     ]
    }
   ],
   "source": [
    "# pandas02.py\n",
    "import pandas as pd\n",
    "import os\n",
    "\n",
    "# dir = os.path.dirname(os.path.realpath(''))\n",
    "\n",
    "input_file = 'supplier_data.csv'\n",
    "output_file = 'pandas_output.csv'\n",
    "\n",
    "df = pd.read_csv(input_file)\n",
    "df['Cost'] = df['Cost'].str.strip('$').astype(float)\n",
    "new_df = df.loc[(df['Supplier Name'].str.contains('Z')) | (df['Cost'] > 600.0 )] \n",
    "print(new_df)\n",
    "print('.Done')"
   ]
  },
  {
   "cell_type": "code",
   "execution_count": null,
   "metadata": {
    "colab": {
     "base_uri": "https://localhost:8080/",
     "height": 35
    },
    "colab_type": "code",
    "executionInfo": {
     "elapsed": 939,
     "status": "ok",
     "timestamp": 1599027485645,
     "user": {
      "displayName": "강주현",
      "photoUrl": "https://lh3.googleusercontent.com/a-/AOh14GhI6eR4X0pU-wyWD_lrneGGkf4JwhmGDwx7Dopr=s64",
      "userId": "12298000088270855699"
     },
     "user_tz": -540
    },
    "id": "7U0OB1J3WA7O",
    "outputId": "db7e4189-d317-46cd-a054-5b4d732f8a42"
   },
   "outputs": [
    {
     "name": "stdout",
     "output_type": "stream",
     "text": [
      "Done.\n"
     ]
    }
   ],
   "source": [
    "# pandas03.py\n",
    "import pandas as pd\n",
    "import os\n",
    "import csv\n",
    "\n",
    "input_file = 'supplier_data.csv'\n",
    "output_file = 'pandas_output.csv'\n",
    "\n",
    "filter_date = ['1/20/14', '1/30/14']\n",
    "\n",
    "with open(input_file, 'r', newline='') as csv_in_file:\n",
    "    with open(output_file, 'w', newline='') as csv_out_file:\n",
    "        filereader = csv.reader(csv_in_file) \n",
    "        filewriter = csv.writer(csv_out_file)\n",
    "        header = next(filereader)\n",
    "        filewriter.writerow(header)\n",
    "        for row in filereader: \n",
    "            # Purchase Date:     1/20/14 or 1/30/14 \n",
    "            p_date = row[4]\n",
    "            if p_date in filter_date:\n",
    "                filewriter.writerow(row)\n",
    "print('Done.')"
   ]
  },
  {
   "cell_type": "code",
   "execution_count": null,
   "metadata": {
    "colab": {
     "base_uri": "https://localhost:8080/",
     "height": 35
    },
    "colab_type": "code",
    "executionInfo": {
     "elapsed": 1360,
     "status": "ok",
     "timestamp": 1599027552897,
     "user": {
      "displayName": "강주현",
      "photoUrl": "https://lh3.googleusercontent.com/a-/AOh14GhI6eR4X0pU-wyWD_lrneGGkf4JwhmGDwx7Dopr=s64",
      "userId": "12298000088270855699"
     },
     "user_tz": -540
    },
    "id": "T8bo7WYwbzYq",
    "outputId": "65f75a62-159c-4a95-e9bb-26653274dd89"
   },
   "outputs": [
    {
     "name": "stdout",
     "output_type": "stream",
     "text": [
      "Done.\n"
     ]
    }
   ],
   "source": [
    "# pandas04.py\n",
    "\n",
    "import sys, csv\n",
    "import re\n",
    "import os\n",
    "\n",
    "input_file = 'supplier_data.csv'\n",
    "output_file = 'pandas_output.csv'\n",
    "\n",
    "\n",
    "# 001- \n",
    "pattern = re.compile(r'(?P<my_pattern_group>^001-.*)', re.I)\n",
    "\n",
    "with open(input_file, 'r', newline='') as csv_in_file:\n",
    "    with open(output_file, 'w', newline='') as csv_out_file:\n",
    "        filereader = csv.reader(csv_in_file) \n",
    "        filewriter = csv.writer(csv_out_file)\n",
    "        header = next(filereader)\n",
    "        filewriter.writerow(header)\n",
    "        for row in filereader: \n",
    "            invoice_number = row[1]\n",
    "            # match, search, find -> 맞는 패턴만 출력\n",
    "            if pattern.search(invoice_number):\n",
    "                filewriter.writerow(row)\n",
    "\n",
    "print('Done.')"
   ]
  },
  {
   "cell_type": "code",
   "execution_count": null,
   "metadata": {
    "colab": {
     "base_uri": "https://localhost:8080/",
     "height": 251
    },
    "colab_type": "code",
    "executionInfo": {
     "elapsed": 1092,
     "status": "ok",
     "timestamp": 1599027588114,
     "user": {
      "displayName": "강주현",
      "photoUrl": "https://lh3.googleusercontent.com/a-/AOh14GhI6eR4X0pU-wyWD_lrneGGkf4JwhmGDwx7Dopr=s64",
      "userId": "12298000088270855699"
     },
     "user_tz": -540
    },
    "id": "ta0um4vlcze-",
    "outputId": "8b06df5a-104b-4b0b-9292-044660a86f7c"
   },
   "outputs": [
    {
     "name": "stdout",
     "output_type": "stream",
     "text": [
      "   Supplier Name      Cost\n",
      "0     Supplier X  $500.00 \n",
      "1     Supplier X  $500.00 \n",
      "2     Supplier X      NaN \n",
      "3     Supplier X  $750.00 \n",
      "4     Supplier Y  $250.00 \n",
      "5     Supplier Y  $250.00 \n",
      "6     Supplier Y  $125.00 \n",
      "7     Supplier Y  $125.00 \n",
      "8     Supplier Z  $615.00 \n",
      "9     Supplier Z  $615.00 \n",
      "10    Supplier Z  $615.00 \n",
      "11    Supplier Z  $615.00 \n"
     ]
    }
   ],
   "source": [
    "# pandas05.py\n",
    "import pandas as pd\n",
    "import os\n",
    "\n",
    "input_file = 'supplier_data.csv'\n",
    "output_file = 'pandas_output.csv'\n",
    "\n",
    "\n",
    "df = pd.read_csv(input_file)\n",
    "new_df = df.iloc[:, [0, 3]]\n",
    "print(new_df)\n",
    "new_df.to_csv(output_file, index=False)"
   ]
  },
  {
   "cell_type": "code",
   "execution_count": 29,
   "metadata": {
    "colab": {
     "base_uri": "https://localhost:8080/",
     "height": 35
    },
    "colab_type": "code",
    "executionInfo": {
     "elapsed": 633,
     "status": "ok",
     "timestamp": 1599028937490,
     "user": {
      "displayName": "강주현",
      "photoUrl": "https://lh3.googleusercontent.com/a-/AOh14GhI6eR4X0pU-wyWD_lrneGGkf4JwhmGDwx7Dopr=s64",
      "userId": "12298000088270855699"
     },
     "user_tz": -540
    },
    "id": "GBruLI0zchjF",
    "outputId": "22f50491-4c8a-4633-c160-5f66b13cbc95"
   },
   "outputs": [
    {
     "name": "stdout",
     "output_type": "stream",
     "text": [
      "Done\n"
     ]
    }
   ],
   "source": [
    "# pandas06.py\n",
    "\n",
    "input_file = 'supplier_data.csv'\n",
    "output_file = 'pandas_output.csv'\n",
    "\n",
    "df = pd.read_csv(input_file)\n",
    "new_df = df.loc[:, ['Invoice Number','Purchase Date']]\n",
    "\n",
    "new_df.to_csv(output_file, index=False)\n",
    "print('Done')"
   ]
  },
  {
   "cell_type": "code",
   "execution_count": null,
   "metadata": {
    "colab": {
     "base_uri": "https://localhost:8080/",
     "height": 449
    },
    "colab_type": "code",
    "executionInfo": {
     "elapsed": 1496,
     "status": "ok",
     "timestamp": 1599027952835,
     "user": {
      "displayName": "강주현",
      "photoUrl": "https://lh3.googleusercontent.com/a-/AOh14GhI6eR4X0pU-wyWD_lrneGGkf4JwhmGDwx7Dopr=s64",
      "userId": "12298000088270855699"
     },
     "user_tz": -540
    },
    "id": "KdMfLJrteU6m",
    "outputId": "fb4397ef-33d0-49bc-d6c2-a8130930c382"
   },
   "outputs": [
    {
     "name": "stdout",
     "output_type": "stream",
     "text": [
      "             0         1     2         3           4\n",
      "3   Supplier X  001-1001  5467      NaN      1/20/14\n",
      "4   Supplier X  001-1001  5467  $750.00      1/20/14\n",
      "5   Supplier Y   50-9501  7009  $250.00      1/30/14\n",
      "6   Supplier Y   50-9501  7009  $250.00      1/30/14\n",
      "7   Supplier Y   50-9505  6650  $125.00   2002-03-14\n",
      "8   Supplier Y   50-9505  6650  $125.00   2002-03-14\n",
      "9   Supplier Z  920-4803  3321  $615.00   2002-03-14\n",
      "10  Supplier Z  920-4804  3321  $615.00   2002-10-14\n",
      "# after reindex\n",
      "    index              0               1            2         3              4\n",
      "0       0  Supplier Name  Invoice Number  Part Number      Cost  Purchase Date\n",
      "1       1     Supplier X        001-1001         2341  $500.00         1/20/14\n",
      "2       2     Supplier X        001-1001         2341  $500.00         1/20/14\n",
      "3       3     Supplier X        001-1001         5467      NaN         1/20/14\n",
      "4       4     Supplier X        001-1001         5467  $750.00         1/20/14\n",
      "5       5     Supplier Y         50-9501         7009  $250.00         1/30/14\n",
      "6       6     Supplier Y         50-9501         7009  $250.00         1/30/14\n",
      "7       7     Supplier Y         50-9505         6650  $125.00      2002-03-14\n",
      "8       8     Supplier Y         50-9505         6650  $125.00      2002-03-14\n",
      "9       9     Supplier Z        920-4803         3321  $615.00      2002-03-14\n",
      "10     10     Supplier Z        920-4804         3321  $615.00      2002-10-14\n",
      "11     11     Supplier Z        920-4805         3321  $615.00         2/17/14\n",
      "12     12     Supplier Z        920-4806         3321  $615.00         2/24/14\n"
     ]
    }
   ],
   "source": [
    "# pandas07.py\n",
    "\n",
    "input_file = 'supplier_data.csv'\n",
    "output_file = 'pandas_output.csv'\n",
    "\n",
    "df = pd.read_csv(input_file, header=None)\n",
    "new_df = df.drop([0,1,2,11,12])\n",
    "print(new_df)\n",
    "new_df = df.reindex()\n",
    "print('# after reindex')\n",
    "print(new_df.reset_index())"
   ]
  },
  {
   "cell_type": "code",
   "execution_count": 46,
   "metadata": {
    "colab": {
     "base_uri": "https://localhost:8080/",
     "height": 381
    },
    "colab_type": "code",
    "executionInfo": {
     "elapsed": 1240,
     "status": "ok",
     "timestamp": 1599031007486,
     "user": {
      "displayName": "강주현",
      "photoUrl": "https://lh3.googleusercontent.com/a-/AOh14GhI6eR4X0pU-wyWD_lrneGGkf4JwhmGDwx7Dopr=s64",
      "userId": "12298000088270855699"
     },
     "user_tz": -540
    },
    "id": "9O2QyYMtemOd",
    "outputId": "7ea4fa1f-2465-4376-f474-b5e583e46a63"
   },
   "outputs": [
    {
     "name": "stdout",
     "output_type": "stream",
     "text": [
      "    Customer ID       Customer Name Invoice Number Sale Amount Purchase Date\n",
      "0          1234          John Smith       100-0002   $1,200.00        1/1/14\n",
      "1          2345       Mary Harrison       100-0003   $1,425.00        1/6/14\n",
      "2          3456          Lucy Gomez       100-0004   $1,390.00       1/11/14\n",
      "3          4567        Rupert Jones       100-0005   $1,257.00       1/18/14\n",
      "4          5678       Jenny Walters       100-0006   $1,725.00       1/24/14\n",
      "5          6789  Samantha Donaldson       100-0007   $1,995.00       1/31/14\n",
      "6          1234          John Smith       100-0014   $1,350.00        3/4/14\n",
      "7          8765           Tony Song       100-0015   $1,167.00        3/8/14\n",
      "8          2345       Mary Harrison       100-0016   $1,789.00       3/17/14\n",
      "9          6543          Rachel Paz       100-0017   $2,042.00       3/22/14\n",
      "10         3456          Lucy Gomez       100-0018   $1,511.00       3/28/14\n",
      "11         4321       Susan Wallace       100-0019   $2,280.00       3/30/14\n",
      "12         9876       Daniel Farber       100-0008   $1,115.00        2/2/14\n",
      "13         8765         Laney Stone       100-0009   $1,367.00        2/8/14\n",
      "14         7654        Roger Lipney       100-0010   $2,135.00       2/15/14\n",
      "15         6543       Thomas Haines       100-0011   $1,346.00       2/17/14\n",
      "16         5432         Anushka Vaz       100-0012   $1,560.00       2/21/14\n",
      "17         4321      Harriet Cooper       100-0013   $1,852.00       2/25/14\n",
      "done\n"
     ]
    }
   ],
   "source": [
    "# pandas08.py \n",
    "import pandas as pd\n",
    "import os, glob, sys\n",
    "\n",
    "input_path = ''\n",
    "output_file = 'pandas_output9.csv'\n",
    "\n",
    "\n",
    "all_files= glob.glob(os.path.join(input_path,'sales_*'))\n",
    "all_data_frames = []\n",
    "\n",
    "for input_file in all_files:\n",
    "    df = pd.read_csv(input_file, index_col=None)\n",
    "    all_data_frames.append(df)\n",
    "\n",
    "all_data_concat = pd.concat(all_data_frames,axis=0,ignore_index=True)\n",
    "print(all_data_concat)\n",
    "\n",
    "all_data_concat.to_csv(output_file, index=False)\n",
    "print(\"done\")"
   ]
  },
  {
   "cell_type": "code",
   "execution_count": 49,
   "metadata": {
    "colab": {
     "base_uri": "https://localhost:8080/",
     "height": 108
    },
    "colab_type": "code",
    "executionInfo": {
     "elapsed": 1216,
     "status": "ok",
     "timestamp": 1599031031700,
     "user": {
      "displayName": "강주현",
      "photoUrl": "https://lh3.googleusercontent.com/a-/AOh14GhI6eR4X0pU-wyWD_lrneGGkf4JwhmGDwx7Dopr=s64",
      "userId": "12298000088270855699"
     },
     "user_tz": -540
    },
    "id": "-vvA1GtRgt--",
    "outputId": "4e410163-e616-4dce-f107-4be3e0d5e346"
   },
   "outputs": [
    {
     "name": "stdout",
     "output_type": "stream",
     "text": [
      "                 file_name  total_sales    avg_sales\n",
      "0   sales_january_2014.csv       8992.0  1498.666667\n",
      "1     sales_march_2014.csv      10139.0  1689.833333\n",
      "2  sales_february_2014.csv       9375.0  1562.500000\n",
      "Done\n"
     ]
    }
   ],
   "source": [
    "# pandas10.py\n",
    "import pandas as pd\n",
    "import os, glob, sys\n",
    "\n",
    "input_path = ''\n",
    "output_file = 'pandas_output10.csv'\n",
    "\n",
    "all_files = glob.glob(os.path.join(input_path, 'sales_*'))\n",
    "all_data_frames = []\n",
    "\n",
    "for input_file in all_files:\n",
    "    df = pd.read_csv(input_file, index_col=None)\n",
    "    total_sales = pd.DataFrame([float(str(value).strip('$').replace(',','')) for value in df.loc[:, 'Sale Amount']]).sum()\n",
    "    # average_sales \n",
    "    avg_sales = pd.DataFrame([float(str(value).strip('$').replace(',','')) for value in df.loc[:, 'Sale Amount']]).mean()\n",
    "\n",
    "    data = {'file_name': os.path.basename(input_file), 'total_sales': total_sales, 'avg_sales': avg_sales}\n",
    "\n",
    "    all_data_frames.append(pd.DataFrame(data, columns=['file_name', 'total_sales', 'avg_sales']))\n",
    "\n",
    "all_data_concat = pd.concat(all_data_frames, axis=0, ignore_index=True)\n",
    "print(all_data_concat)\n",
    "all_data_concat.to_csv(output_file, index=False)\n",
    "print('Done')"
   ]
  },
  {
   "cell_type": "code",
   "execution_count": null,
   "metadata": {
    "colab": {},
    "colab_type": "code",
    "id": "Ife6_crCjHvw"
   },
   "outputs": [],
   "source": []
  }
 ],
 "metadata": {
  "colab": {
   "authorship_tag": "ABX9TyM70cjJtQDMxdIx4In0d84x",
   "collapsed_sections": [],
   "name": "08.pandas00.ipynb",
   "provenance": []
  },
  "kernelspec": {
   "display_name": "Python 3",
   "language": "python",
   "name": "python3"
  },
  "language_info": {
   "codemirror_mode": {
    "name": "ipython",
    "version": 3
   },
   "file_extension": ".py",
   "mimetype": "text/x-python",
   "name": "python",
   "nbconvert_exporter": "python",
   "pygments_lexer": "ipython3",
   "version": "3.8.5"
  }
 },
 "nbformat": 4,
 "nbformat_minor": 1
}
