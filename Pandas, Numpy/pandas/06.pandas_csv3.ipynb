{
 "cells": [
  {
   "cell_type": "code",
   "execution_count": 2,
   "metadata": {
    "colab": {
     "base_uri": "https://localhost:8080/",
     "height": 127
    },
    "colab_type": "code",
    "executionInfo": {
     "elapsed": 17801,
     "status": "ok",
     "timestamp": 1599015051484,
     "user": {
      "displayName": "강주현",
      "photoUrl": "https://lh3.googleusercontent.com/a-/AOh14GhI6eR4X0pU-wyWD_lrneGGkf4JwhmGDwx7Dopr=s64",
      "userId": "12298000088270855699"
     },
     "user_tz": -540
    },
    "id": "TnlhmYyMtB-I",
    "outputId": "824d50d3-62e1-4457-93c4-8189b78b38ee"
   },
   "outputs": [
    {
     "name": "stdout",
     "output_type": "stream",
     "text": [
      "Go to this URL in a browser: https://accounts.google.com/o/oauth2/auth?client_id=947318989803-6bn6qk8qdgf4n4g3pfee6491hc0brc4i.apps.googleusercontent.com&redirect_uri=urn%3aietf%3awg%3aoauth%3a2.0%3aoob&scope=email%20https%3a%2f%2fwww.googleapis.com%2fauth%2fdocs.test%20https%3a%2f%2fwww.googleapis.com%2fauth%2fdrive%20https%3a%2f%2fwww.googleapis.com%2fauth%2fdrive.photos.readonly%20https%3a%2f%2fwww.googleapis.com%2fauth%2fpeopleapi.readonly&response_type=code\n",
      "\n",
      "Enter your authorization code:\n",
      "··········\n",
      "Mounted at /content/drive\n"
     ]
    }
   ],
   "source": [
    "from google.colab import drive\n",
    "drive.mount('/content/drive')"
   ]
  },
  {
   "cell_type": "code",
   "execution_count": 5,
   "metadata": {
    "colab": {},
    "colab_type": "code",
    "executionInfo": {
     "elapsed": 1096,
     "status": "ok",
     "timestamp": 1599015122528,
     "user": {
      "displayName": "강주현",
      "photoUrl": "https://lh3.googleusercontent.com/a-/AOh14GhI6eR4X0pU-wyWD_lrneGGkf4JwhmGDwx7Dopr=s64",
      "userId": "12298000088270855699"
     },
     "user_tz": -540
    },
    "id": "Or_yZrzstFUK"
   },
   "outputs": [],
   "source": [
    "import pandas as pd"
   ]
  },
  {
   "cell_type": "code",
   "execution_count": 6,
   "metadata": {
    "colab": {
     "base_uri": "https://localhost:8080/",
     "height": 204
    },
    "colab_type": "code",
    "executionInfo": {
     "elapsed": 2099,
     "status": "ok",
     "timestamp": 1599015123781,
     "user": {
      "displayName": "강주현",
      "photoUrl": "https://lh3.googleusercontent.com/a-/AOh14GhI6eR4X0pU-wyWD_lrneGGkf4JwhmGDwx7Dopr=s64",
      "userId": "12298000088270855699"
     },
     "user_tz": -540
    },
    "id": "J-wh-WJ-tLHI",
    "outputId": "12f84bb0-b05c-4a60-d0f9-65dee9bfb8c3"
   },
   "outputs": [
    {
     "data": {
      "text/html": [
       "<div>\n",
       "<style scoped>\n",
       "    .dataframe tbody tr th:only-of-type {\n",
       "        vertical-align: middle;\n",
       "    }\n",
       "\n",
       "    .dataframe tbody tr th {\n",
       "        vertical-align: top;\n",
       "    }\n",
       "\n",
       "    .dataframe thead th {\n",
       "        text-align: right;\n",
       "    }\n",
       "</style>\n",
       "<table border=\"1\" class=\"dataframe\">\n",
       "  <thead>\n",
       "    <tr style=\"text-align: right;\">\n",
       "      <th></th>\n",
       "      <th>name</th>\n",
       "      <th>class</th>\n",
       "      <th>gender</th>\n",
       "      <th>age</th>\n",
       "    </tr>\n",
       "  </thead>\n",
       "  <tbody>\n",
       "    <tr>\n",
       "      <th>0</th>\n",
       "      <td>John</td>\n",
       "      <td>Mathematics</td>\n",
       "      <td>male</td>\n",
       "      <td>18</td>\n",
       "    </tr>\n",
       "    <tr>\n",
       "      <th>1</th>\n",
       "      <td>Liam</td>\n",
       "      <td>E-Business</td>\n",
       "      <td>female</td>\n",
       "      <td>19</td>\n",
       "    </tr>\n",
       "    <tr>\n",
       "      <th>2</th>\n",
       "      <td>Noah</td>\n",
       "      <td>Mathematics</td>\n",
       "      <td>female</td>\n",
       "      <td>20</td>\n",
       "    </tr>\n",
       "    <tr>\n",
       "      <th>3</th>\n",
       "      <td>Logan</td>\n",
       "      <td>Computer</td>\n",
       "      <td>male</td>\n",
       "      <td>20</td>\n",
       "    </tr>\n",
       "    <tr>\n",
       "      <th>4</th>\n",
       "      <td>Lucas</td>\n",
       "      <td>E-Business</td>\n",
       "      <td>male</td>\n",
       "      <td>21</td>\n",
       "    </tr>\n",
       "  </tbody>\n",
       "</table>\n",
       "</div>"
      ],
      "text/plain": [
       "    name        class  gender  age\n",
       "0   John  Mathematics    male   18\n",
       "1   Liam   E-Business  female   19\n",
       "2   Noah  Mathematics  female   20\n",
       "3  Logan     Computer    male   20\n",
       "4  Lucas   E-Business    male   21"
      ]
     },
     "execution_count": 6,
     "metadata": {
      "tags": []
     },
     "output_type": "execute_result"
    }
   ],
   "source": [
    "df = pd.read_csv('member.txt')\n",
    "df.head()"
   ]
  },
  {
   "cell_type": "code",
   "execution_count": 7,
   "metadata": {
    "colab": {
     "base_uri": "https://localhost:8080/",
     "height": 53
    },
    "colab_type": "code",
    "executionInfo": {
     "elapsed": 1827,
     "status": "ok",
     "timestamp": 1599015123782,
     "user": {
      "displayName": "강주현",
      "photoUrl": "https://lh3.googleusercontent.com/a-/AOh14GhI6eR4X0pU-wyWD_lrneGGkf4JwhmGDwx7Dopr=s64",
      "userId": "12298000088270855699"
     },
     "user_tz": -540
    },
    "id": "AejDM-TstLMR",
    "outputId": "567e4901-b600-486d-8b45-15b6122b72ef"
   },
   "outputs": [
    {
     "data": {
      "text/plain": [
       "{'female': Int64Index([1, 2, 6, 8, 9], dtype='int64'),\n",
       " 'male': Int64Index([0, 3, 4, 5, 7, 10, 11, 12, 13, 14, 15], dtype='int64')}"
      ]
     },
     "execution_count": 7,
     "metadata": {
      "tags": []
     },
     "output_type": "execute_result"
    }
   ],
   "source": [
    "group_gender = df.groupby('gender')\n",
    "group_gender.groups"
   ]
  },
  {
   "cell_type": "code",
   "execution_count": 8,
   "metadata": {
    "colab": {
     "base_uri": "https://localhost:8080/",
     "height": 35
    },
    "colab_type": "code",
    "executionInfo": {
     "elapsed": 1291,
     "status": "ok",
     "timestamp": 1599015135765,
     "user": {
      "displayName": "강주현",
      "photoUrl": "https://lh3.googleusercontent.com/a-/AOh14GhI6eR4X0pU-wyWD_lrneGGkf4JwhmGDwx7Dopr=s64",
      "userId": "12298000088270855699"
     },
     "user_tz": -540
    },
    "id": "TjmDfCwbtR1u",
    "outputId": "f98a6567-b97b-44a2-d64a-abfe2be9b89a"
   },
   "outputs": [
    {
     "data": {
      "text/plain": [
       "2"
      ]
     },
     "execution_count": 8,
     "metadata": {
      "tags": []
     },
     "output_type": "execute_result"
    }
   ],
   "source": [
    "len(group_gender)"
   ]
  },
  {
   "cell_type": "code",
   "execution_count": 9,
   "metadata": {
    "colab": {
     "base_uri": "https://localhost:8080/",
     "height": 89
    },
    "colab_type": "code",
    "executionInfo": {
     "elapsed": 953,
     "status": "ok",
     "timestamp": 1599015135766,
     "user": {
      "displayName": "강주현",
      "photoUrl": "https://lh3.googleusercontent.com/a-/AOh14GhI6eR4X0pU-wyWD_lrneGGkf4JwhmGDwx7Dopr=s64",
      "userId": "12298000088270855699"
     },
     "user_tz": -540
    },
    "id": "K6Ly47lptU-t",
    "outputId": "dd928173-1859-4658-8e9a-36ba7f289f0d"
   },
   "outputs": [
    {
     "data": {
      "text/plain": [
       "gender\n",
       "female     5\n",
       "male      11\n",
       "dtype: int64"
      ]
     },
     "execution_count": 9,
     "metadata": {
      "tags": []
     },
     "output_type": "execute_result"
    }
   ],
   "source": [
    "group_gender.size()"
   ]
  },
  {
   "cell_type": "code",
   "execution_count": 10,
   "metadata": {
    "colab": {
     "base_uri": "https://localhost:8080/",
     "height": 111
    },
    "colab_type": "code",
    "executionInfo": {
     "elapsed": 692,
     "status": "ok",
     "timestamp": 1599015135767,
     "user": {
      "displayName": "강주현",
      "photoUrl": "https://lh3.googleusercontent.com/a-/AOh14GhI6eR4X0pU-wyWD_lrneGGkf4JwhmGDwx7Dopr=s64",
      "userId": "12298000088270855699"
     },
     "user_tz": -540
    },
    "id": "-2Xb1hjrtW-2",
    "outputId": "3a7ba1d1-4372-47fe-8907-ffaf98018b6c"
   },
   "outputs": [
    {
     "data": {
      "text/html": [
       "<div>\n",
       "<style scoped>\n",
       "    .dataframe tbody tr th:only-of-type {\n",
       "        vertical-align: middle;\n",
       "    }\n",
       "\n",
       "    .dataframe tbody tr th {\n",
       "        vertical-align: top;\n",
       "    }\n",
       "\n",
       "    .dataframe thead th {\n",
       "        text-align: right;\n",
       "    }\n",
       "</style>\n",
       "<table border=\"1\" class=\"dataframe\">\n",
       "  <thead>\n",
       "    <tr style=\"text-align: right;\">\n",
       "      <th></th>\n",
       "      <th>gender</th>\n",
       "      <th>count</th>\n",
       "    </tr>\n",
       "  </thead>\n",
       "  <tbody>\n",
       "    <tr>\n",
       "      <th>0</th>\n",
       "      <td>female</td>\n",
       "      <td>5</td>\n",
       "    </tr>\n",
       "    <tr>\n",
       "      <th>1</th>\n",
       "      <td>male</td>\n",
       "      <td>11</td>\n",
       "    </tr>\n",
       "  </tbody>\n",
       "</table>\n",
       "</div>"
      ],
      "text/plain": [
       "   gender  count\n",
       "0  female      5\n",
       "1    male     11"
      ]
     },
     "execution_count": 10,
     "metadata": {
      "tags": []
     },
     "output_type": "execute_result"
    }
   ],
   "source": [
    "gender_cnt = pd.DataFrame({'count':group_gender.size()}).reset_index()\n",
    "gender_cnt"
   ]
  },
  {
   "cell_type": "code",
   "execution_count": 11,
   "metadata": {
    "colab": {
     "base_uri": "https://localhost:8080/",
     "height": 413
    },
    "colab_type": "code",
    "executionInfo": {
     "elapsed": 594,
     "status": "ok",
     "timestamp": 1599015135768,
     "user": {
      "displayName": "강주현",
      "photoUrl": "https://lh3.googleusercontent.com/a-/AOh14GhI6eR4X0pU-wyWD_lrneGGkf4JwhmGDwx7Dopr=s64",
      "userId": "12298000088270855699"
     },
     "user_tz": -540
    },
    "id": "En7qqNTDtgLO",
    "outputId": "117da0f5-d46e-411d-a0fa-a3268d837ec3"
   },
   "outputs": [
    {
     "name": "stdout",
     "output_type": "stream",
     "text": [
      "female : 5\n",
      "     name        class  gender  age\n",
      "1    Liam   E-Business  female   19\n",
      "2    Noah  Mathematics  female   20\n",
      "6  Oliver   E-Business  female   21\n",
      "8  Elijah     Computer  female   22\n",
      "9   Aiden   Accounting  female   22\n",
      "\n",
      "male : 11\n",
      "      name        class gender  age\n",
      "0     John  Mathematics   male   18\n",
      "3    Logan     Computer   male   20\n",
      "4    Lucas   E-Business   male   21\n",
      "5    Mason   E-Business   male   21\n",
      "7    Ethan     Computer   male   22\n",
      "10   James     Computer   male   22\n",
      "11  Sophia      Finance   male   23\n",
      "12    Emma   Accounting   male   23\n",
      "13   Emily      Finance   male   23\n",
      "14   Grace     Computer   male   23\n",
      "15  Hailey      Finance   male   23\n",
      "\n"
     ]
    }
   ],
   "source": [
    "for name, group in group_gender:\n",
    "    print(name, ':', str(len(group)))\n",
    "    print(group)\n",
    "    print()"
   ]
  },
  {
   "cell_type": "code",
   "execution_count": 14,
   "metadata": {
    "colab": {},
    "colab_type": "code",
    "executionInfo": {
     "elapsed": 867,
     "status": "ok",
     "timestamp": 1599019750079,
     "user": {
      "displayName": "강주현",
      "photoUrl": "https://lh3.googleusercontent.com/a-/AOh14GhI6eR4X0pU-wyWD_lrneGGkf4JwhmGDwx7Dopr=s64",
      "userId": "12298000088270855699"
     },
     "user_tz": -540
    },
    "id": "awZ_rHKYtsJY"
   },
   "outputs": [],
   "source": [
    "# class 에 대해서 groupby 적용\n",
    "group_class = df.groupby('class')\n"
   ]
  },
  {
   "cell_type": "code",
   "execution_count": 15,
   "metadata": {
    "colab": {
     "base_uri": "https://localhost:8080/",
     "height": 35
    },
    "colab_type": "code",
    "executionInfo": {
     "elapsed": 493,
     "status": "ok",
     "timestamp": 1599019751035,
     "user": {
      "displayName": "강주현",
      "photoUrl": "https://lh3.googleusercontent.com/a-/AOh14GhI6eR4X0pU-wyWD_lrneGGkf4JwhmGDwx7Dopr=s64",
      "userId": "12298000088270855699"
     },
     "user_tz": -540
    },
    "id": "jBSHYOOFuqh8",
    "outputId": "5f75f27c-c78c-4bcf-fff4-52e44a3cc62b"
   },
   "outputs": [
    {
     "data": {
      "text/plain": [
       "5"
      ]
     },
     "execution_count": 15,
     "metadata": {
      "tags": []
     },
     "output_type": "execute_result"
    }
   ],
   "source": [
    "len(group_class)"
   ]
  },
  {
   "cell_type": "code",
   "execution_count": 16,
   "metadata": {
    "colab": {
     "base_uri": "https://localhost:8080/",
     "height": 107
    },
    "colab_type": "code",
    "executionInfo": {
     "elapsed": 715,
     "status": "ok",
     "timestamp": 1599019807119,
     "user": {
      "displayName": "강주현",
      "photoUrl": "https://lh3.googleusercontent.com/a-/AOh14GhI6eR4X0pU-wyWD_lrneGGkf4JwhmGDwx7Dopr=s64",
      "userId": "12298000088270855699"
     },
     "user_tz": -540
    },
    "id": "mDFemITQAMfD",
    "outputId": "d34bd1d9-5aab-4230-f8ba-51ba7b6abd0b"
   },
   "outputs": [
    {
     "name": "stdout",
     "output_type": "stream",
     "text": [
      "Accounting : 2\n",
      "Computer : 5\n",
      "E-Business : 4\n",
      "Finance : 3\n",
      "Mathematics : 2\n"
     ]
    }
   ],
   "source": [
    "for name, group in group_class:\n",
    "    print(name, ':', str(len(group)))"
   ]
  },
  {
   "cell_type": "code",
   "execution_count": 17,
   "metadata": {
    "colab": {
     "base_uri": "https://localhost:8080/",
     "height": 204
    },
    "colab_type": "code",
    "executionInfo": {
     "elapsed": 1114,
     "status": "ok",
     "timestamp": 1599019838968,
     "user": {
      "displayName": "강주현",
      "photoUrl": "https://lh3.googleusercontent.com/a-/AOh14GhI6eR4X0pU-wyWD_lrneGGkf4JwhmGDwx7Dopr=s64",
      "userId": "12298000088270855699"
     },
     "user_tz": -540
    },
    "id": "_liuC7j_Ae4a",
    "outputId": "c7bf4c1d-5654-472b-9692-c7cd9cd5acd7"
   },
   "outputs": [
    {
     "data": {
      "text/html": [
       "<div>\n",
       "<style scoped>\n",
       "    .dataframe tbody tr th:only-of-type {\n",
       "        vertical-align: middle;\n",
       "    }\n",
       "\n",
       "    .dataframe tbody tr th {\n",
       "        vertical-align: top;\n",
       "    }\n",
       "\n",
       "    .dataframe thead th {\n",
       "        text-align: right;\n",
       "    }\n",
       "</style>\n",
       "<table border=\"1\" class=\"dataframe\">\n",
       "  <thead>\n",
       "    <tr style=\"text-align: right;\">\n",
       "      <th></th>\n",
       "      <th>class</th>\n",
       "      <th>count</th>\n",
       "    </tr>\n",
       "  </thead>\n",
       "  <tbody>\n",
       "    <tr>\n",
       "      <th>0</th>\n",
       "      <td>Accounting</td>\n",
       "      <td>2</td>\n",
       "    </tr>\n",
       "    <tr>\n",
       "      <th>1</th>\n",
       "      <td>Computer</td>\n",
       "      <td>5</td>\n",
       "    </tr>\n",
       "    <tr>\n",
       "      <th>2</th>\n",
       "      <td>E-Business</td>\n",
       "      <td>4</td>\n",
       "    </tr>\n",
       "    <tr>\n",
       "      <th>3</th>\n",
       "      <td>Finance</td>\n",
       "      <td>3</td>\n",
       "    </tr>\n",
       "    <tr>\n",
       "      <th>4</th>\n",
       "      <td>Mathematics</td>\n",
       "      <td>2</td>\n",
       "    </tr>\n",
       "  </tbody>\n",
       "</table>\n",
       "</div>"
      ],
      "text/plain": [
       "         class  count\n",
       "0   Accounting      2\n",
       "1     Computer      5\n",
       "2   E-Business      4\n",
       "3      Finance      3\n",
       "4  Mathematics      2"
      ]
     },
     "execution_count": 17,
     "metadata": {
      "tags": []
     },
     "output_type": "execute_result"
    }
   ],
   "source": [
    "class_cnt = pd.DataFrame({'count': group_class.size()}).reset_index()\n",
    "class_cnt"
   ]
  },
  {
   "cell_type": "code",
   "execution_count": 18,
   "metadata": {
    "colab": {
     "base_uri": "https://localhost:8080/",
     "height": 215
    },
    "colab_type": "code",
    "executionInfo": {
     "elapsed": 519,
     "status": "ok",
     "timestamp": 1599019870822,
     "user": {
      "displayName": "강주현",
      "photoUrl": "https://lh3.googleusercontent.com/a-/AOh14GhI6eR4X0pU-wyWD_lrneGGkf4JwhmGDwx7Dopr=s64",
      "userId": "12298000088270855699"
     },
     "user_tz": -540
    },
    "id": "ZRpxtzlMAmeR",
    "outputId": "62f4341d-da0e-46d4-d274-aa91b4579a00"
   },
   "outputs": [
    {
     "data": {
      "text/plain": [
       "class        gender\n",
       "Accounting   female    1\n",
       "             male      1\n",
       "Computer     female    1\n",
       "             male      4\n",
       "E-Business   female    2\n",
       "             male      2\n",
       "Finance      male      3\n",
       "Mathematics  female    1\n",
       "             male      1\n",
       "dtype: int64"
      ]
     },
     "execution_count": 18,
     "metadata": {
      "tags": []
     },
     "output_type": "execute_result"
    }
   ],
   "source": [
    "group_mulit = df.groupby(['class', 'gender'])\n",
    "group_mulit.size()"
   ]
  },
  {
   "cell_type": "code",
   "execution_count": 20,
   "metadata": {
    "colab": {
     "base_uri": "https://localhost:8080/",
     "height": 328
    },
    "colab_type": "code",
    "executionInfo": {
     "elapsed": 909,
     "status": "ok",
     "timestamp": 1599019924159,
     "user": {
      "displayName": "강주현",
      "photoUrl": "https://lh3.googleusercontent.com/a-/AOh14GhI6eR4X0pU-wyWD_lrneGGkf4JwhmGDwx7Dopr=s64",
      "userId": "12298000088270855699"
     },
     "user_tz": -540
    },
    "id": "esiuItkTAueZ",
    "outputId": "bc4c4583-9851-449d-f0ea-1c67fd9a4236"
   },
   "outputs": [
    {
     "data": {
      "text/html": [
       "<div>\n",
       "<style scoped>\n",
       "    .dataframe tbody tr th:only-of-type {\n",
       "        vertical-align: middle;\n",
       "    }\n",
       "\n",
       "    .dataframe tbody tr th {\n",
       "        vertical-align: top;\n",
       "    }\n",
       "\n",
       "    .dataframe thead th {\n",
       "        text-align: right;\n",
       "    }\n",
       "</style>\n",
       "<table border=\"1\" class=\"dataframe\">\n",
       "  <thead>\n",
       "    <tr style=\"text-align: right;\">\n",
       "      <th></th>\n",
       "      <th>class</th>\n",
       "      <th>gender</th>\n",
       "      <th>count</th>\n",
       "    </tr>\n",
       "  </thead>\n",
       "  <tbody>\n",
       "    <tr>\n",
       "      <th>0</th>\n",
       "      <td>Accounting</td>\n",
       "      <td>female</td>\n",
       "      <td>1</td>\n",
       "    </tr>\n",
       "    <tr>\n",
       "      <th>1</th>\n",
       "      <td>Accounting</td>\n",
       "      <td>male</td>\n",
       "      <td>1</td>\n",
       "    </tr>\n",
       "    <tr>\n",
       "      <th>2</th>\n",
       "      <td>Computer</td>\n",
       "      <td>female</td>\n",
       "      <td>1</td>\n",
       "    </tr>\n",
       "    <tr>\n",
       "      <th>3</th>\n",
       "      <td>Computer</td>\n",
       "      <td>male</td>\n",
       "      <td>4</td>\n",
       "    </tr>\n",
       "    <tr>\n",
       "      <th>4</th>\n",
       "      <td>E-Business</td>\n",
       "      <td>female</td>\n",
       "      <td>2</td>\n",
       "    </tr>\n",
       "    <tr>\n",
       "      <th>5</th>\n",
       "      <td>E-Business</td>\n",
       "      <td>male</td>\n",
       "      <td>2</td>\n",
       "    </tr>\n",
       "    <tr>\n",
       "      <th>6</th>\n",
       "      <td>Finance</td>\n",
       "      <td>male</td>\n",
       "      <td>3</td>\n",
       "    </tr>\n",
       "    <tr>\n",
       "      <th>7</th>\n",
       "      <td>Mathematics</td>\n",
       "      <td>female</td>\n",
       "      <td>1</td>\n",
       "    </tr>\n",
       "    <tr>\n",
       "      <th>8</th>\n",
       "      <td>Mathematics</td>\n",
       "      <td>male</td>\n",
       "      <td>1</td>\n",
       "    </tr>\n",
       "  </tbody>\n",
       "</table>\n",
       "</div>"
      ],
      "text/plain": [
       "         class  gender  count\n",
       "0   Accounting  female      1\n",
       "1   Accounting    male      1\n",
       "2     Computer  female      1\n",
       "3     Computer    male      4\n",
       "4   E-Business  female      2\n",
       "5   E-Business    male      2\n",
       "6      Finance    male      3\n",
       "7  Mathematics  female      1\n",
       "8  Mathematics    male      1"
      ]
     },
     "execution_count": 20,
     "metadata": {
      "tags": []
     },
     "output_type": "execute_result"
    }
   ],
   "source": [
    "pd.DataFrame({'count': group_mulit.size()}).reset_index()"
   ]
  },
  {
   "cell_type": "code",
   "execution_count": 21,
   "metadata": {
    "colab": {},
    "colab_type": "code",
    "executionInfo": {
     "elapsed": 937,
     "status": "ok",
     "timestamp": 1599019978923,
     "user": {
      "displayName": "강주현",
      "photoUrl": "https://lh3.googleusercontent.com/a-/AOh14GhI6eR4X0pU-wyWD_lrneGGkf4JwhmGDwx7Dopr=s64",
      "userId": "12298000088270855699"
     },
     "user_tz": -540
    },
    "id": "8ZS_5_PVA5D5"
   },
   "outputs": [],
   "source": [
    "# Quiz"
   ]
  },
  {
   "cell_type": "code",
   "execution_count": 25,
   "metadata": {
    "colab": {},
    "colab_type": "code",
    "executionInfo": {
     "elapsed": 1843,
     "status": "ok",
     "timestamp": 1599020149445,
     "user": {
      "displayName": "강주현",
      "photoUrl": "https://lh3.googleusercontent.com/a-/AOh14GhI6eR4X0pU-wyWD_lrneGGkf4JwhmGDwx7Dopr=s64",
      "userId": "12298000088270855699"
     },
     "user_tz": -540
    },
    "id": "pCx9QyOgBIx5"
   },
   "outputs": [],
   "source": [
    "import pandas as pd\n",
    "df = pd.read_csv('emp.txt')"
   ]
  },
  {
   "cell_type": "code",
   "execution_count": 26,
   "metadata": {
    "colab": {
     "base_uri": "https://localhost:8080/",
     "height": 143
    },
    "colab_type": "code",
    "executionInfo": {
     "elapsed": 832,
     "status": "ok",
     "timestamp": 1599020149446,
     "user": {
      "displayName": "강주현",
      "photoUrl": "https://lh3.googleusercontent.com/a-/AOh14GhI6eR4X0pU-wyWD_lrneGGkf4JwhmGDwx7Dopr=s64",
      "userId": "12298000088270855699"
     },
     "user_tz": -540
    },
    "id": "w5hx_vNNBQL-",
    "outputId": "a8d40034-2eec-4652-d86f-275d9b9613eb"
   },
   "outputs": [
    {
     "data": {
      "text/plain": [
       "job\n",
       "analyst      2\n",
       "clerk        4\n",
       "manager      3\n",
       "president    1\n",
       "salesman     4\n",
       "dtype: int64"
      ]
     },
     "execution_count": 26,
     "metadata": {
      "tags": []
     },
     "output_type": "execute_result"
    }
   ],
   "source": [
    "# Q1\n",
    "group_job = df.groupby('job')\n",
    "group_job.size()"
   ]
  },
  {
   "cell_type": "code",
   "execution_count": 27,
   "metadata": {
    "colab": {
     "base_uri": "https://localhost:8080/",
     "height": 204
    },
    "colab_type": "code",
    "executionInfo": {
     "elapsed": 925,
     "status": "ok",
     "timestamp": 1599020199548,
     "user": {
      "displayName": "강주현",
      "photoUrl": "https://lh3.googleusercontent.com/a-/AOh14GhI6eR4X0pU-wyWD_lrneGGkf4JwhmGDwx7Dopr=s64",
      "userId": "12298000088270855699"
     },
     "user_tz": -540
    },
    "id": "Sji7-AckBvZc",
    "outputId": "bcb9d4b9-e434-41de-b641-e12c1108c9ac"
   },
   "outputs": [
    {
     "data": {
      "text/html": [
       "<div>\n",
       "<style scoped>\n",
       "    .dataframe tbody tr th:only-of-type {\n",
       "        vertical-align: middle;\n",
       "    }\n",
       "\n",
       "    .dataframe tbody tr th {\n",
       "        vertical-align: top;\n",
       "    }\n",
       "\n",
       "    .dataframe thead th {\n",
       "        text-align: right;\n",
       "    }\n",
       "</style>\n",
       "<table border=\"1\" class=\"dataframe\">\n",
       "  <thead>\n",
       "    <tr style=\"text-align: right;\">\n",
       "      <th></th>\n",
       "      <th>job</th>\n",
       "      <th>count</th>\n",
       "    </tr>\n",
       "  </thead>\n",
       "  <tbody>\n",
       "    <tr>\n",
       "      <th>0</th>\n",
       "      <td>analyst</td>\n",
       "      <td>2</td>\n",
       "    </tr>\n",
       "    <tr>\n",
       "      <th>1</th>\n",
       "      <td>clerk</td>\n",
       "      <td>4</td>\n",
       "    </tr>\n",
       "    <tr>\n",
       "      <th>2</th>\n",
       "      <td>manager</td>\n",
       "      <td>3</td>\n",
       "    </tr>\n",
       "    <tr>\n",
       "      <th>3</th>\n",
       "      <td>president</td>\n",
       "      <td>1</td>\n",
       "    </tr>\n",
       "    <tr>\n",
       "      <th>4</th>\n",
       "      <td>salesman</td>\n",
       "      <td>4</td>\n",
       "    </tr>\n",
       "  </tbody>\n",
       "</table>\n",
       "</div>"
      ],
      "text/plain": [
       "         job  count\n",
       "0    analyst      2\n",
       "1      clerk      4\n",
       "2    manager      3\n",
       "3  president      1\n",
       "4   salesman      4"
      ]
     },
     "execution_count": 27,
     "metadata": {
      "tags": []
     },
     "output_type": "execute_result"
    }
   ],
   "source": [
    "pd.DataFrame({'count':group_job.size()}).reset_index()"
   ]
  },
  {
   "cell_type": "code",
   "execution_count": 29,
   "metadata": {
    "colab": {
     "base_uri": "https://localhost:8080/",
     "height": 215
    },
    "colab_type": "code",
    "executionInfo": {
     "elapsed": 1086,
     "status": "ok",
     "timestamp": 1599020233230,
     "user": {
      "displayName": "강주현",
      "photoUrl": "https://lh3.googleusercontent.com/a-/AOh14GhI6eR4X0pU-wyWD_lrneGGkf4JwhmGDwx7Dopr=s64",
      "userId": "12298000088270855699"
     },
     "user_tz": -540
    },
    "id": "Dy7SrTUAB-oh",
    "outputId": "a191340c-e233-4711-ac6a-baf6d2023db9"
   },
   "outputs": [
    {
     "data": {
      "text/plain": [
       "deptno  job      \n",
       "10      clerk        1\n",
       "        manager      1\n",
       "        president    1\n",
       "20      analyst      2\n",
       "        clerk        2\n",
       "        manager      1\n",
       "30      clerk        1\n",
       "        manager      1\n",
       "        salesman     4\n",
       "dtype: int64"
      ]
     },
     "execution_count": 29,
     "metadata": {
      "tags": []
     },
     "output_type": "execute_result"
    }
   ],
   "source": [
    "group_job_deptno = df.groupby(['deptno', 'job'])\n",
    "group_job_deptno.size()"
   ]
  },
  {
   "cell_type": "code",
   "execution_count": 32,
   "metadata": {
    "colab": {
     "base_uri": "https://localhost:8080/",
     "height": 328
    },
    "colab_type": "code",
    "executionInfo": {
     "elapsed": 981,
     "status": "ok",
     "timestamp": 1599020368919,
     "user": {
      "displayName": "강주현",
      "photoUrl": "https://lh3.googleusercontent.com/a-/AOh14GhI6eR4X0pU-wyWD_lrneGGkf4JwhmGDwx7Dopr=s64",
      "userId": "12298000088270855699"
     },
     "user_tz": -540
    },
    "id": "6JjAH4cTCFXJ",
    "outputId": "97768f88-b726-4ab3-fc9a-35db896215e2"
   },
   "outputs": [
    {
     "data": {
      "text/html": [
       "<div>\n",
       "<style scoped>\n",
       "    .dataframe tbody tr th:only-of-type {\n",
       "        vertical-align: middle;\n",
       "    }\n",
       "\n",
       "    .dataframe tbody tr th {\n",
       "        vertical-align: top;\n",
       "    }\n",
       "\n",
       "    .dataframe thead th {\n",
       "        text-align: right;\n",
       "    }\n",
       "</style>\n",
       "<table border=\"1\" class=\"dataframe\">\n",
       "  <thead>\n",
       "    <tr style=\"text-align: right;\">\n",
       "      <th></th>\n",
       "      <th>부서번호</th>\n",
       "      <th>직무</th>\n",
       "      <th>인원</th>\n",
       "    </tr>\n",
       "  </thead>\n",
       "  <tbody>\n",
       "    <tr>\n",
       "      <th>0</th>\n",
       "      <td>10</td>\n",
       "      <td>clerk</td>\n",
       "      <td>1</td>\n",
       "    </tr>\n",
       "    <tr>\n",
       "      <th>1</th>\n",
       "      <td>10</td>\n",
       "      <td>manager</td>\n",
       "      <td>1</td>\n",
       "    </tr>\n",
       "    <tr>\n",
       "      <th>2</th>\n",
       "      <td>10</td>\n",
       "      <td>president</td>\n",
       "      <td>1</td>\n",
       "    </tr>\n",
       "    <tr>\n",
       "      <th>3</th>\n",
       "      <td>20</td>\n",
       "      <td>analyst</td>\n",
       "      <td>2</td>\n",
       "    </tr>\n",
       "    <tr>\n",
       "      <th>4</th>\n",
       "      <td>20</td>\n",
       "      <td>clerk</td>\n",
       "      <td>2</td>\n",
       "    </tr>\n",
       "    <tr>\n",
       "      <th>5</th>\n",
       "      <td>20</td>\n",
       "      <td>manager</td>\n",
       "      <td>1</td>\n",
       "    </tr>\n",
       "    <tr>\n",
       "      <th>6</th>\n",
       "      <td>30</td>\n",
       "      <td>clerk</td>\n",
       "      <td>1</td>\n",
       "    </tr>\n",
       "    <tr>\n",
       "      <th>7</th>\n",
       "      <td>30</td>\n",
       "      <td>manager</td>\n",
       "      <td>1</td>\n",
       "    </tr>\n",
       "    <tr>\n",
       "      <th>8</th>\n",
       "      <td>30</td>\n",
       "      <td>salesman</td>\n",
       "      <td>4</td>\n",
       "    </tr>\n",
       "  </tbody>\n",
       "</table>\n",
       "</div>"
      ],
      "text/plain": [
       "   부서번호         직무   인원\n",
       "0    10      clerk    1\n",
       "1    10    manager    1\n",
       "2    10  president    1\n",
       "3    20    analyst    2\n",
       "4    20      clerk    2\n",
       "5    20    manager    1\n",
       "6    30      clerk    1\n",
       "7    30    manager    1\n",
       "8    30   salesman    4"
      ]
     },
     "execution_count": 32,
     "metadata": {
      "tags": []
     },
     "output_type": "execute_result"
    }
   ],
   "source": [
    "df2 = pd.DataFrame({'인원': group_job_deptno.size()}).reset_index()\n",
    "df2.columns = ['부서번호', '직무',' 인원']\n",
    "df2"
   ]
  },
  {
   "cell_type": "markdown",
   "metadata": {
    "colab_type": "text",
    "id": "KQVuIggACf-h"
   },
   "source": [
    "04_02_data.csv"
   ]
  },
  {
   "cell_type": "code",
   "execution_count": 34,
   "metadata": {
    "colab": {
     "base_uri": "https://localhost:8080/",
     "height": 359
    },
    "colab_type": "code",
    "executionInfo": {
     "elapsed": 1458,
     "status": "ok",
     "timestamp": 1599020509192,
     "user": {
      "displayName": "강주현",
      "photoUrl": "https://lh3.googleusercontent.com/a-/AOh14GhI6eR4X0pU-wyWD_lrneGGkf4JwhmGDwx7Dopr=s64",
      "userId": "12298000088270855699"
     },
     "user_tz": -540
    },
    "id": "LePaQarqDDIi",
    "outputId": "2c4312de-9fb1-435a-8669-5c2bc262ab9b"
   },
   "outputs": [
    {
     "data": {
      "text/html": [
       "<div>\n",
       "<style scoped>\n",
       "    .dataframe tbody tr th:only-of-type {\n",
       "        vertical-align: middle;\n",
       "    }\n",
       "\n",
       "    .dataframe tbody tr th {\n",
       "        vertical-align: top;\n",
       "    }\n",
       "\n",
       "    .dataframe thead th {\n",
       "        text-align: right;\n",
       "    }\n",
       "</style>\n",
       "<table border=\"1\" class=\"dataframe\">\n",
       "  <thead>\n",
       "    <tr style=\"text-align: right;\">\n",
       "      <th></th>\n",
       "      <th>지역명</th>\n",
       "      <th>규모구분</th>\n",
       "      <th>연도</th>\n",
       "      <th>월</th>\n",
       "      <th>분양가격(㎡)</th>\n",
       "    </tr>\n",
       "  </thead>\n",
       "  <tbody>\n",
       "    <tr>\n",
       "      <th>0</th>\n",
       "      <td>서울</td>\n",
       "      <td>전체</td>\n",
       "      <td>2015</td>\n",
       "      <td>10</td>\n",
       "      <td>5841</td>\n",
       "    </tr>\n",
       "    <tr>\n",
       "      <th>1</th>\n",
       "      <td>서울</td>\n",
       "      <td>전용면적 60㎡이하</td>\n",
       "      <td>2015</td>\n",
       "      <td>10</td>\n",
       "      <td>5652</td>\n",
       "    </tr>\n",
       "    <tr>\n",
       "      <th>2</th>\n",
       "      <td>서울</td>\n",
       "      <td>전용면적 60㎡초과 85㎡이하</td>\n",
       "      <td>2015</td>\n",
       "      <td>10</td>\n",
       "      <td>5882</td>\n",
       "    </tr>\n",
       "    <tr>\n",
       "      <th>3</th>\n",
       "      <td>서울</td>\n",
       "      <td>전용면적 85㎡초과 102㎡이하</td>\n",
       "      <td>2015</td>\n",
       "      <td>10</td>\n",
       "      <td>5721</td>\n",
       "    </tr>\n",
       "    <tr>\n",
       "      <th>4</th>\n",
       "      <td>서울</td>\n",
       "      <td>전용면적 102㎡초과</td>\n",
       "      <td>2015</td>\n",
       "      <td>10</td>\n",
       "      <td>5879</td>\n",
       "    </tr>\n",
       "    <tr>\n",
       "      <th>5</th>\n",
       "      <td>인천</td>\n",
       "      <td>전체</td>\n",
       "      <td>2015</td>\n",
       "      <td>10</td>\n",
       "      <td>3163</td>\n",
       "    </tr>\n",
       "    <tr>\n",
       "      <th>6</th>\n",
       "      <td>인천</td>\n",
       "      <td>전용면적 60㎡이하</td>\n",
       "      <td>2015</td>\n",
       "      <td>10</td>\n",
       "      <td>3488</td>\n",
       "    </tr>\n",
       "    <tr>\n",
       "      <th>7</th>\n",
       "      <td>인천</td>\n",
       "      <td>전용면적 60㎡초과 85㎡이하</td>\n",
       "      <td>2015</td>\n",
       "      <td>10</td>\n",
       "      <td>3119</td>\n",
       "    </tr>\n",
       "    <tr>\n",
       "      <th>8</th>\n",
       "      <td>인천</td>\n",
       "      <td>전용면적 85㎡초과 102㎡이하</td>\n",
       "      <td>2015</td>\n",
       "      <td>10</td>\n",
       "      <td>3545</td>\n",
       "    </tr>\n",
       "    <tr>\n",
       "      <th>9</th>\n",
       "      <td>인천</td>\n",
       "      <td>전용면적 102㎡초과</td>\n",
       "      <td>2015</td>\n",
       "      <td>10</td>\n",
       "      <td>3408</td>\n",
       "    </tr>\n",
       "  </tbody>\n",
       "</table>\n",
       "</div>"
      ],
      "text/plain": [
       "  지역명               규모구분    연도   월  분양가격(㎡)\n",
       "0  서울                 전체  2015  10     5841\n",
       "1  서울         전용면적 60㎡이하  2015  10     5652\n",
       "2  서울   전용면적 60㎡초과 85㎡이하  2015  10     5882\n",
       "3  서울  전용면적 85㎡초과 102㎡이하  2015  10     5721\n",
       "4  서울        전용면적 102㎡초과  2015  10     5879\n",
       "5  인천                 전체  2015  10     3163\n",
       "6  인천         전용면적 60㎡이하  2015  10     3488\n",
       "7  인천   전용면적 60㎡초과 85㎡이하  2015  10     3119\n",
       "8  인천  전용면적 85㎡초과 102㎡이하  2015  10     3545\n",
       "9  인천        전용면적 102㎡초과  2015  10     3408"
      ]
     },
     "execution_count": 34,
     "metadata": {
      "tags": []
     },
     "output_type": "execute_result"
    }
   ],
   "source": [
    "df3 = pd.read_csv('04_02_data.csv', nrows=10)\n",
    "df3"
   ]
  },
  {
   "cell_type": "code",
   "execution_count": null,
   "metadata": {
    "colab": {},
    "colab_type": "code",
    "id": "7v1KUFlPDH4r"
   },
   "outputs": [],
   "source": []
  }
 ],
 "metadata": {
  "colab": {
   "authorship_tag": "ABX9TyMf/AYS6OhwCx5M+Hv2fp3j",
   "collapsed_sections": [],
   "name": "pandas_csv3.ipynb",
   "provenance": []
  },
  "kernelspec": {
   "display_name": "Python 3",
   "language": "python",
   "name": "python3"
  },
  "language_info": {
   "codemirror_mode": {
    "name": "ipython",
    "version": 3
   },
   "file_extension": ".py",
   "mimetype": "text/x-python",
   "name": "python",
   "nbconvert_exporter": "python",
   "pygments_lexer": "ipython3",
   "version": "3.8.5"
  }
 },
 "nbformat": 4,
 "nbformat_minor": 1
}
