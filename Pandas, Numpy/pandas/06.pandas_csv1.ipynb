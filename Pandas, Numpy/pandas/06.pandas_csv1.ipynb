{
 "cells": [
  {
   "cell_type": "code",
   "execution_count": 3,
   "metadata": {
    "colab": {
     "base_uri": "https://localhost:8080/",
     "height": 127
    },
    "colab_type": "code",
    "executionInfo": {
     "elapsed": 24338,
     "status": "ok",
     "timestamp": 1599010201544,
     "user": {
      "displayName": "강주현",
      "photoUrl": "https://lh3.googleusercontent.com/a-/AOh14GhI6eR4X0pU-wyWD_lrneGGkf4JwhmGDwx7Dopr=s64",
      "userId": "12298000088270855699"
     },
     "user_tz": -540
    },
    "id": "khWJBOpfTPJD",
    "outputId": "095d0161-58c3-404d-9bf5-b75c81f08c10"
   },
   "outputs": [
    {
     "name": "stdout",
     "output_type": "stream",
     "text": [
      "Go to this URL in a browser: https://accounts.google.com/o/oauth2/auth?client_id=947318989803-6bn6qk8qdgf4n4g3pfee6491hc0brc4i.apps.googleusercontent.com&redirect_uri=urn%3aietf%3awg%3aoauth%3a2.0%3aoob&scope=email%20https%3a%2f%2fwww.googleapis.com%2fauth%2fdocs.test%20https%3a%2f%2fwww.googleapis.com%2fauth%2fdrive%20https%3a%2f%2fwww.googleapis.com%2fauth%2fdrive.photos.readonly%20https%3a%2f%2fwww.googleapis.com%2fauth%2fpeopleapi.readonly&response_type=code\n",
      "\n",
      "Enter your authorization code:\n",
      "··········\n",
      "Mounted at /content/drive\n"
     ]
    }
   ],
   "source": [
    "from google.colab import drive\n",
    "drive.mount('/content/drive')"
   ]
  },
  {
   "cell_type": "code",
   "execution_count": null,
   "metadata": {
    "colab": {},
    "colab_type": "code",
    "id": "Us1CKT9fStwF"
   },
   "outputs": [],
   "source": [
    "import pandas as pd"
   ]
  },
  {
   "cell_type": "code",
   "execution_count": null,
   "metadata": {
    "colab": {
     "base_uri": "https://localhost:8080/",
     "height": 341
    },
    "colab_type": "code",
    "executionInfo": {
     "elapsed": 537,
     "status": "ok",
     "timestamp": 1599008718833,
     "user": {
      "displayName": "강주현",
      "photoUrl": "https://lh3.googleusercontent.com/a-/AOh14GhI6eR4X0pU-wyWD_lrneGGkf4JwhmGDwx7Dopr=s64",
      "userId": "12298000088270855699"
     },
     "user_tz": -540
    },
    "id": "9mXYJULpSwXV",
    "outputId": "3fc59989-4a2a-4119-fffa-8e1ea22882ba"
   },
   "outputs": [
    {
     "name": "stdout",
     "output_type": "stream",
     "text": [
      "<class 'pandas.core.frame.DataFrame'>\n",
      "RangeIndex: 240 entries, 0 to 239\n",
      "Data columns (total 11 columns):\n",
      " #   Column           Non-Null Count  Dtype \n",
      "---  ------           --------------  ----- \n",
      " 0   기준년월             240 non-null    int64 \n",
      " 1   국가코드             239 non-null    object\n",
      " 2   수출입구분코드          240 non-null    object\n",
      " 3   순위               240 non-null    int64 \n",
      " 4   국가명              240 non-null    object\n",
      " 5   수출입구분명           240 non-null    object\n",
      " 6   당월수출입중량(KG)      240 non-null    int64 \n",
      " 7   당월수출입미화금액(1$)    240 non-null    int64 \n",
      " 8   당해누계수출입중량(KG)    240 non-null    int64 \n",
      " 9   당해누계수출입미화금액(1$)  240 non-null    int64 \n",
      " 10  데이터기준일자          240 non-null    object\n",
      "dtypes: int64(6), object(5)\n",
      "memory usage: 20.8+ KB\n"
     ]
    }
   ],
   "source": [
    "df = pd.read_csv('02_03_import_export.csv')\n",
    "df.info()"
   ]
  },
  {
   "cell_type": "code",
   "execution_count": null,
   "metadata": {
    "colab": {
     "base_uri": "https://localhost:8080/",
     "height": 341
    },
    "colab_type": "code",
    "executionInfo": {
     "elapsed": 592,
     "status": "ok",
     "timestamp": 1599008733887,
     "user": {
      "displayName": "강주현",
      "photoUrl": "https://lh3.googleusercontent.com/a-/AOh14GhI6eR4X0pU-wyWD_lrneGGkf4JwhmGDwx7Dopr=s64",
      "userId": "12298000088270855699"
     },
     "user_tz": -540
    },
    "id": "EkLwOgnGVBSI",
    "outputId": "d0ccdeac-dd32-499e-f1b5-176e831e9ba8"
   },
   "outputs": [
    {
     "name": "stdout",
     "output_type": "stream",
     "text": [
      "<class 'pandas.core.frame.DataFrame'>\n",
      "RangeIndex: 240 entries, 0 to 239\n",
      "Data columns (total 11 columns):\n",
      " #   Column           Non-Null Count  Dtype \n",
      "---  ------           --------------  ----- \n",
      " 0   기준년월             240 non-null    int64 \n",
      " 1   국가코드             239 non-null    object\n",
      " 2   수출입구분코드          240 non-null    object\n",
      " 3   순위               240 non-null    int64 \n",
      " 4   국가명              240 non-null    object\n",
      " 5   수출입구분명           240 non-null    object\n",
      " 6   당월수출입중량(KG)      240 non-null    int64 \n",
      " 7   당월수출입미화금액(1$)    240 non-null    int64 \n",
      " 8   당해누계수출입중량(KG)    240 non-null    int64 \n",
      " 9   당해누계수출입미화금액(1$)  240 non-null    int64 \n",
      " 10  데이터기준일자          240 non-null    object\n",
      "dtypes: int64(6), object(5)\n",
      "memory usage: 18.9+ KB\n"
     ]
    }
   ],
   "source": [
    "df['기준년월'].drop_duplicates(inplace=True)\n",
    "df.info()"
   ]
  },
  {
   "cell_type": "code",
   "execution_count": null,
   "metadata": {
    "colab": {
     "base_uri": "https://localhost:8080/",
     "height": 419
    },
    "colab_type": "code",
    "executionInfo": {
     "elapsed": 667,
     "status": "ok",
     "timestamp": 1599008869272,
     "user": {
      "displayName": "강주현",
      "photoUrl": "https://lh3.googleusercontent.com/a-/AOh14GhI6eR4X0pU-wyWD_lrneGGkf4JwhmGDwx7Dopr=s64",
      "userId": "12298000088270855699"
     },
     "user_tz": -540
    },
    "id": "TiTT5n2oV9UD",
    "outputId": "f9c44ba7-5f89-44cd-9934-04c5aea7d05c"
   },
   "outputs": [
    {
     "data": {
      "text/html": [
       "<div>\n",
       "<style scoped>\n",
       "    .dataframe tbody tr th:only-of-type {\n",
       "        vertical-align: middle;\n",
       "    }\n",
       "\n",
       "    .dataframe tbody tr th {\n",
       "        vertical-align: top;\n",
       "    }\n",
       "\n",
       "    .dataframe thead th {\n",
       "        text-align: right;\n",
       "    }\n",
       "</style>\n",
       "<table border=\"1\" class=\"dataframe\">\n",
       "  <thead>\n",
       "    <tr style=\"text-align: right;\">\n",
       "      <th></th>\n",
       "      <th>국가코드</th>\n",
       "      <th>수출입구분코드</th>\n",
       "      <th>순위</th>\n",
       "      <th>국가명</th>\n",
       "      <th>수출입구분명</th>\n",
       "      <th>당월수출입중량(KG)</th>\n",
       "      <th>당월수출입미화금액(1$)</th>\n",
       "      <th>당해누계수출입중량(KG)</th>\n",
       "      <th>당해누계수출입미화금액(1$)</th>\n",
       "      <th>데이터기준일자</th>\n",
       "    </tr>\n",
       "  </thead>\n",
       "  <tbody>\n",
       "    <tr>\n",
       "      <th>0</th>\n",
       "      <td>JP</td>\n",
       "      <td>E</td>\n",
       "      <td>1</td>\n",
       "      <td>일본</td>\n",
       "      <td>수출</td>\n",
       "      <td>14426904</td>\n",
       "      <td>73605638</td>\n",
       "      <td>55539745</td>\n",
       "      <td>299424316</td>\n",
       "      <td>2018-06-30</td>\n",
       "    </tr>\n",
       "    <tr>\n",
       "      <th>1</th>\n",
       "      <td>CN</td>\n",
       "      <td>E</td>\n",
       "      <td>2</td>\n",
       "      <td>중국</td>\n",
       "      <td>수출</td>\n",
       "      <td>5923309</td>\n",
       "      <td>34450973</td>\n",
       "      <td>36693396</td>\n",
       "      <td>146829048</td>\n",
       "      <td>2018-06-30</td>\n",
       "    </tr>\n",
       "    <tr>\n",
       "      <th>2</th>\n",
       "      <td>US</td>\n",
       "      <td>E</td>\n",
       "      <td>3</td>\n",
       "      <td>미국</td>\n",
       "      <td>수출</td>\n",
       "      <td>2077235</td>\n",
       "      <td>21625850</td>\n",
       "      <td>11334472</td>\n",
       "      <td>122340001</td>\n",
       "      <td>2018-06-30</td>\n",
       "    </tr>\n",
       "    <tr>\n",
       "      <th>3</th>\n",
       "      <td>TH</td>\n",
       "      <td>E</td>\n",
       "      <td>4</td>\n",
       "      <td>태국</td>\n",
       "      <td>수출</td>\n",
       "      <td>10507579</td>\n",
       "      <td>26962422</td>\n",
       "      <td>45091849</td>\n",
       "      <td>109772167</td>\n",
       "      <td>2018-06-30</td>\n",
       "    </tr>\n",
       "    <tr>\n",
       "      <th>4</th>\n",
       "      <td>VN</td>\n",
       "      <td>E</td>\n",
       "      <td>5</td>\n",
       "      <td>베트남</td>\n",
       "      <td>수출</td>\n",
       "      <td>6099235</td>\n",
       "      <td>10115595</td>\n",
       "      <td>27220329</td>\n",
       "      <td>50271653</td>\n",
       "      <td>2018-06-30</td>\n",
       "    </tr>\n",
       "    <tr>\n",
       "      <th>...</th>\n",
       "      <td>...</td>\n",
       "      <td>...</td>\n",
       "      <td>...</td>\n",
       "      <td>...</td>\n",
       "      <td>...</td>\n",
       "      <td>...</td>\n",
       "      <td>...</td>\n",
       "      <td>...</td>\n",
       "      <td>...</td>\n",
       "      <td>...</td>\n",
       "    </tr>\n",
       "    <tr>\n",
       "      <th>235</th>\n",
       "      <td>LA</td>\n",
       "      <td>I</td>\n",
       "      <td>114</td>\n",
       "      <td>라오스</td>\n",
       "      <td>수입</td>\n",
       "      <td>130</td>\n",
       "      <td>176</td>\n",
       "      <td>130</td>\n",
       "      <td>176</td>\n",
       "      <td>2018-06-30</td>\n",
       "    </tr>\n",
       "    <tr>\n",
       "      <th>236</th>\n",
       "      <td>MN</td>\n",
       "      <td>I</td>\n",
       "      <td>115</td>\n",
       "      <td>몽고</td>\n",
       "      <td>수입</td>\n",
       "      <td>7</td>\n",
       "      <td>46</td>\n",
       "      <td>21</td>\n",
       "      <td>141</td>\n",
       "      <td>2018-06-30</td>\n",
       "    </tr>\n",
       "    <tr>\n",
       "      <th>237</th>\n",
       "      <td>FI</td>\n",
       "      <td>I</td>\n",
       "      <td>116</td>\n",
       "      <td>핀란드</td>\n",
       "      <td>수입</td>\n",
       "      <td>0</td>\n",
       "      <td>0</td>\n",
       "      <td>6</td>\n",
       "      <td>120</td>\n",
       "      <td>2018-06-30</td>\n",
       "    </tr>\n",
       "    <tr>\n",
       "      <th>238</th>\n",
       "      <td>GT</td>\n",
       "      <td>I</td>\n",
       "      <td>117</td>\n",
       "      <td>과테말라</td>\n",
       "      <td>수입</td>\n",
       "      <td>0</td>\n",
       "      <td>0</td>\n",
       "      <td>2</td>\n",
       "      <td>93</td>\n",
       "      <td>2018-06-30</td>\n",
       "    </tr>\n",
       "    <tr>\n",
       "      <th>239</th>\n",
       "      <td>JO</td>\n",
       "      <td>I</td>\n",
       "      <td>118</td>\n",
       "      <td>요르단</td>\n",
       "      <td>수입</td>\n",
       "      <td>0</td>\n",
       "      <td>0</td>\n",
       "      <td>2</td>\n",
       "      <td>54</td>\n",
       "      <td>2018-06-30</td>\n",
       "    </tr>\n",
       "  </tbody>\n",
       "</table>\n",
       "<p>240 rows × 10 columns</p>\n",
       "</div>"
      ],
      "text/plain": [
       "    국가코드 수출입구분코드   순위  ... 당해누계수출입중량(KG) 당해누계수출입미화금액(1$)     데이터기준일자\n",
       "0     JP       E    1  ...      55539745       299424316  2018-06-30\n",
       "1     CN       E    2  ...      36693396       146829048  2018-06-30\n",
       "2     US       E    3  ...      11334472       122340001  2018-06-30\n",
       "3     TH       E    4  ...      45091849       109772167  2018-06-30\n",
       "4     VN       E    5  ...      27220329        50271653  2018-06-30\n",
       "..   ...     ...  ...  ...           ...             ...         ...\n",
       "235   LA       I  114  ...           130             176  2018-06-30\n",
       "236   MN       I  115  ...            21             141  2018-06-30\n",
       "237   FI       I  116  ...             6             120  2018-06-30\n",
       "238   GT       I  117  ...             2              93  2018-06-30\n",
       "239   JO       I  118  ...             2              54  2018-06-30\n",
       "\n",
       "[240 rows x 10 columns]"
      ]
     },
     "execution_count": 15,
     "metadata": {
      "tags": []
     },
     "output_type": "execute_result"
    }
   ],
   "source": [
    "df.drop(['기준년월'], axis=1)"
   ]
  },
  {
   "cell_type": "markdown",
   "metadata": {
    "colab_type": "text",
    "id": "vbnTO0yjYDVE"
   },
   "source": [
    "Noheader"
   ]
  },
  {
   "cell_type": "code",
   "execution_count": null,
   "metadata": {
    "colab": {
     "base_uri": "https://localhost:8080/",
     "height": 576
    },
    "colab_type": "code",
    "executionInfo": {
     "elapsed": 548,
     "status": "ok",
     "timestamp": 1599009297902,
     "user": {
      "displayName": "강주현",
      "photoUrl": "https://lh3.googleusercontent.com/a-/AOh14GhI6eR4X0pU-wyWD_lrneGGkf4JwhmGDwx7Dopr=s64",
      "userId": "12298000088270855699"
     },
     "user_tz": -540
    },
    "id": "6Gl5vJ2JWslL",
    "outputId": "55ceddf0-3e0a-49ce-cfb5-79a8e8181f0c"
   },
   "outputs": [
    {
     "data": {
      "text/html": [
       "<div>\n",
       "<style scoped>\n",
       "    .dataframe tbody tr th:only-of-type {\n",
       "        vertical-align: middle;\n",
       "    }\n",
       "\n",
       "    .dataframe tbody tr th {\n",
       "        vertical-align: top;\n",
       "    }\n",
       "\n",
       "    .dataframe thead th {\n",
       "        text-align: right;\n",
       "    }\n",
       "</style>\n",
       "<table border=\"1\" class=\"dataframe\">\n",
       "  <thead>\n",
       "    <tr style=\"text-align: right;\">\n",
       "      <th></th>\n",
       "      <th>0</th>\n",
       "      <th>1</th>\n",
       "      <th>2</th>\n",
       "      <th>3</th>\n",
       "    </tr>\n",
       "  </thead>\n",
       "  <tbody>\n",
       "    <tr>\n",
       "      <th>0</th>\n",
       "      <td>name</td>\n",
       "      <td>class</td>\n",
       "      <td>gender</td>\n",
       "      <td>age</td>\n",
       "    </tr>\n",
       "    <tr>\n",
       "      <th>1</th>\n",
       "      <td>John</td>\n",
       "      <td>Mathematics</td>\n",
       "      <td>male</td>\n",
       "      <td>18</td>\n",
       "    </tr>\n",
       "    <tr>\n",
       "      <th>2</th>\n",
       "      <td>Liam</td>\n",
       "      <td>E-Business</td>\n",
       "      <td>female</td>\n",
       "      <td>19</td>\n",
       "    </tr>\n",
       "    <tr>\n",
       "      <th>3</th>\n",
       "      <td>Noah</td>\n",
       "      <td>Mathematics</td>\n",
       "      <td>female</td>\n",
       "      <td>20</td>\n",
       "    </tr>\n",
       "    <tr>\n",
       "      <th>4</th>\n",
       "      <td>Logan</td>\n",
       "      <td>Computer</td>\n",
       "      <td>male</td>\n",
       "      <td>20</td>\n",
       "    </tr>\n",
       "    <tr>\n",
       "      <th>5</th>\n",
       "      <td>Lucas</td>\n",
       "      <td>E-Business</td>\n",
       "      <td>male</td>\n",
       "      <td>21</td>\n",
       "    </tr>\n",
       "    <tr>\n",
       "      <th>6</th>\n",
       "      <td>Mason</td>\n",
       "      <td>E-Business</td>\n",
       "      <td>male</td>\n",
       "      <td>21</td>\n",
       "    </tr>\n",
       "    <tr>\n",
       "      <th>7</th>\n",
       "      <td>Oliver</td>\n",
       "      <td>E-Business</td>\n",
       "      <td>female</td>\n",
       "      <td>21</td>\n",
       "    </tr>\n",
       "    <tr>\n",
       "      <th>8</th>\n",
       "      <td>Ethan</td>\n",
       "      <td>Computer</td>\n",
       "      <td>male</td>\n",
       "      <td>22</td>\n",
       "    </tr>\n",
       "    <tr>\n",
       "      <th>9</th>\n",
       "      <td>Elijah</td>\n",
       "      <td>Computer</td>\n",
       "      <td>female</td>\n",
       "      <td>22</td>\n",
       "    </tr>\n",
       "    <tr>\n",
       "      <th>10</th>\n",
       "      <td>Aiden</td>\n",
       "      <td>Accounting</td>\n",
       "      <td>female</td>\n",
       "      <td>22</td>\n",
       "    </tr>\n",
       "    <tr>\n",
       "      <th>11</th>\n",
       "      <td>James</td>\n",
       "      <td>Computer</td>\n",
       "      <td>male</td>\n",
       "      <td>22</td>\n",
       "    </tr>\n",
       "    <tr>\n",
       "      <th>12</th>\n",
       "      <td>Sophia</td>\n",
       "      <td>Finance</td>\n",
       "      <td>male</td>\n",
       "      <td>23</td>\n",
       "    </tr>\n",
       "    <tr>\n",
       "      <th>13</th>\n",
       "      <td>Emma</td>\n",
       "      <td>Accounting</td>\n",
       "      <td>male</td>\n",
       "      <td>23</td>\n",
       "    </tr>\n",
       "    <tr>\n",
       "      <th>14</th>\n",
       "      <td>Emily</td>\n",
       "      <td>Finance</td>\n",
       "      <td>male</td>\n",
       "      <td>23</td>\n",
       "    </tr>\n",
       "    <tr>\n",
       "      <th>15</th>\n",
       "      <td>Grace</td>\n",
       "      <td>Computer</td>\n",
       "      <td>male</td>\n",
       "      <td>23</td>\n",
       "    </tr>\n",
       "    <tr>\n",
       "      <th>16</th>\n",
       "      <td>Hailey</td>\n",
       "      <td>Finance</td>\n",
       "      <td>male</td>\n",
       "      <td>23</td>\n",
       "    </tr>\n",
       "  </tbody>\n",
       "</table>\n",
       "</div>"
      ],
      "text/plain": [
       "         0            1       2    3\n",
       "0     name        class  gender  age\n",
       "1     John  Mathematics    male   18\n",
       "2     Liam   E-Business  female   19\n",
       "3     Noah  Mathematics  female   20\n",
       "4    Logan     Computer    male   20\n",
       "5    Lucas   E-Business    male   21\n",
       "6    Mason   E-Business    male   21\n",
       "7   Oliver   E-Business  female   21\n",
       "8    Ethan     Computer    male   22\n",
       "9   Elijah     Computer  female   22\n",
       "10   Aiden   Accounting  female   22\n",
       "11   James     Computer    male   22\n",
       "12  Sophia      Finance    male   23\n",
       "13    Emma   Accounting    male   23\n",
       "14   Emily      Finance    male   23\n",
       "15   Grace     Computer    male   23\n",
       "16  Hailey      Finance    male   23"
      ]
     },
     "execution_count": 20,
     "metadata": {
      "tags": []
     },
     "output_type": "execute_result"
    }
   ],
   "source": [
    "df = pd.read_csv('member.txt', header=None)\n",
    "df"
   ]
  },
  {
   "cell_type": "code",
   "execution_count": null,
   "metadata": {
    "colab": {},
    "colab_type": "code",
    "id": "_Q4fvPvrYTEv"
   },
   "outputs": [],
   "source": [
    "df.to_csv('save.csv')"
   ]
  },
  {
   "cell_type": "code",
   "execution_count": null,
   "metadata": {
    "colab": {},
    "colab_type": "code",
    "id": "a0lPvNA9YqER"
   },
   "outputs": [],
   "source": [
    "# 깨진데이터 읽어오기"
   ]
  },
  {
   "cell_type": "code",
   "execution_count": null,
   "metadata": {
    "colab": {
     "base_uri": "https://localhost:8080/",
     "height": 173
    },
    "colab_type": "code",
    "executionInfo": {
     "elapsed": 856,
     "status": "ok",
     "timestamp": 1599009737645,
     "user": {
      "displayName": "강주현",
      "photoUrl": "https://lh3.googleusercontent.com/a-/AOh14GhI6eR4X0pU-wyWD_lrneGGkf4JwhmGDwx7Dopr=s64",
      "userId": "12298000088270855699"
     },
     "user_tz": -540
    },
    "id": "zEwHXRzxZmbs",
    "outputId": "ea52fc63-325e-4598-e646-77023e91e2ca"
   },
   "outputs": [
    {
     "data": {
      "text/html": [
       "<div>\n",
       "<style scoped>\n",
       "    .dataframe tbody tr th:only-of-type {\n",
       "        vertical-align: middle;\n",
       "    }\n",
       "\n",
       "    .dataframe tbody tr th {\n",
       "        vertical-align: top;\n",
       "    }\n",
       "\n",
       "    .dataframe thead th {\n",
       "        text-align: right;\n",
       "    }\n",
       "</style>\n",
       "<table border=\"1\" class=\"dataframe\">\n",
       "  <thead>\n",
       "    <tr style=\"text-align: right;\">\n",
       "      <th></th>\n",
       "      <th>0</th>\n",
       "      <th>1</th>\n",
       "      <th>2</th>\n",
       "      <th>3</th>\n",
       "      <th>4</th>\n",
       "      <th>5</th>\n",
       "    </tr>\n",
       "  </thead>\n",
       "  <tbody>\n",
       "    <tr>\n",
       "      <th>0</th>\n",
       "      <td>1</td>\n",
       "      <td>김</td>\n",
       "      <td>100</td>\n",
       "      <td>100</td>\n",
       "      <td>15</td>\n",
       "      <td>True</td>\n",
       "    </tr>\n",
       "    <tr>\n",
       "      <th>1</th>\n",
       "      <td>2</td>\n",
       "      <td>이</td>\n",
       "      <td>90</td>\n",
       "      <td>80</td>\n",
       "      <td>16</td>\n",
       "      <td>True</td>\n",
       "    </tr>\n",
       "    <tr>\n",
       "      <th>2</th>\n",
       "      <td>3</td>\n",
       "      <td>나</td>\n",
       "      <td>80</td>\n",
       "      <td>70</td>\n",
       "      <td>15</td>\n",
       "      <td>False</td>\n",
       "    </tr>\n",
       "    <tr>\n",
       "      <th>3</th>\n",
       "      <td>4</td>\n",
       "      <td>박</td>\n",
       "      <td>70</td>\n",
       "      <td>60</td>\n",
       "      <td>14</td>\n",
       "      <td>False</td>\n",
       "    </tr>\n",
       "  </tbody>\n",
       "</table>\n",
       "</div>"
      ],
      "text/plain": [
       "   0  1    2    3   4      5\n",
       "0  1  김  100  100  15   True\n",
       "1  2  이   90   80  16   True\n",
       "2  3  나   80   70  15  False\n",
       "3  4  박   70   60  14  False"
      ]
     },
     "execution_count": 30,
     "metadata": {
      "tags": []
     },
     "output_type": "execute_result"
    }
   ],
   "source": [
    "df = pd.read_csv('03_05_data.csv', header=None, encoding='euc-kr')\n",
    "df"
   ]
  },
  {
   "cell_type": "code",
   "execution_count": null,
   "metadata": {
    "colab": {},
    "colab_type": "code",
    "id": "LCJpLa5-ZtIT"
   },
   "outputs": [],
   "source": [
    "df = pd.read_csv('03_05_data.csv', header=None, encoding='euc-kr', delimiter='/')\n",
    "df"
   ]
  },
  {
   "cell_type": "code",
   "execution_count": null,
   "metadata": {
    "colab": {},
    "colab_type": "code",
    "id": "tJS6FM2WaZPN"
   },
   "outputs": [],
   "source": [
    "df.columns=['번호', '이름', '국어', '영어', '나이', '합격여부']"
   ]
  }
 ],
 "metadata": {
  "accelerator": "GPU",
  "colab": {
   "authorship_tag": "ABX9TyNqvq4At1eUj4J3hjxFXF0d",
   "collapsed_sections": [],
   "name": "pandas_csv1.ipynb",
   "provenance": []
  },
  "kernelspec": {
   "display_name": "Python 3",
   "language": "python",
   "name": "python3"
  },
  "language_info": {
   "codemirror_mode": {
    "name": "ipython",
    "version": 3
   },
   "file_extension": ".py",
   "mimetype": "text/x-python",
   "name": "python",
   "nbconvert_exporter": "python",
   "pygments_lexer": "ipython3",
   "version": "3.8.5"
  }
 },
 "nbformat": 4,
 "nbformat_minor": 1
}
