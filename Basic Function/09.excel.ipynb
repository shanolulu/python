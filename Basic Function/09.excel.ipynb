{
 "cells": [
  {
   "cell_type": "code",
   "execution_count": null,
   "metadata": {
    "colab": {
     "base_uri": "https://localhost:8080/",
     "height": 128
    },
    "colab_type": "code",
    "executionInfo": {
     "elapsed": 28074,
     "status": "ok",
     "timestamp": 1599029706226,
     "user": {
      "displayName": "강주현",
      "photoUrl": "https://lh3.googleusercontent.com/a-/AOh14GhI6eR4X0pU-wyWD_lrneGGkf4JwhmGDwx7Dopr=s64",
      "userId": "12298000088270855699"
     },
     "user_tz": -540
    },
    "id": "IWX--NMOmHBM",
    "outputId": "05ef2220-84b7-4a64-b9d2-4e2ec1ca2909"
   },
   "outputs": [
    {
     "name": "stdout",
     "output_type": "stream",
     "text": [
      "Go to this URL in a browser: https://accounts.google.com/o/oauth2/auth?client_id=947318989803-6bn6qk8qdgf4n4g3pfee6491hc0brc4i.apps.googleusercontent.com&redirect_uri=urn%3aietf%3awg%3aoauth%3a2.0%3aoob&scope=email%20https%3a%2f%2fwww.googleapis.com%2fauth%2fdocs.test%20https%3a%2f%2fwww.googleapis.com%2fauth%2fdrive%20https%3a%2f%2fwww.googleapis.com%2fauth%2fdrive.photos.readonly%20https%3a%2f%2fwww.googleapis.com%2fauth%2fpeopleapi.readonly&response_type=code\n",
      "\n",
      "Enter your authorization code:\n",
      "··········\n",
      "Mounted at /content/drive\n"
     ]
    }
   ],
   "source": [
    "from google.colab import drive\n",
    "drive.mount('/content/drive')"
   ]
  },
  {
   "cell_type": "code",
   "execution_count": null,
   "metadata": {
    "colab": {
     "base_uri": "https://localhost:8080/",
     "height": 90
    },
    "colab_type": "code",
    "executionInfo": {
     "elapsed": 1291,
     "status": "ok",
     "timestamp": 1599029746002,
     "user": {
      "displayName": "강주현",
      "photoUrl": "https://lh3.googleusercontent.com/a-/AOh14GhI6eR4X0pU-wyWD_lrneGGkf4JwhmGDwx7Dopr=s64",
      "userId": "12298000088270855699"
     },
     "user_tz": -540
    },
    "id": "dQcE-vy9lbu8",
    "outputId": "3a4b1adf-659b-4713-b047-7c9cb119d15f"
   },
   "outputs": [
    {
     "name": "stdout",
     "output_type": "stream",
     "text": [
      "Numbers of worksheets: 3\n",
      "Worksheet name: january_2017 \tRows: 7 \tColumns: 5\n",
      "Worksheet name: february_2017 \tRows: 7 \tColumns: 5\n",
      "Worksheet name: march_2017 \tRows: 7 \tColumns: 5\n"
     ]
    }
   ],
   "source": [
    "# basic01.py\n",
    "from xlrd import open_workbook\n",
    "\n",
    "input_file = 'sales_2017.xlsx'\n",
    "worksheet = open_workbook(input_file)\n",
    "print('Numbers of worksheets:', worksheet.nsheets)\n",
    "\n",
    "for worksheet in worksheet.sheets():\n",
    "    print('Worksheet name:', worksheet.name, '\\tRows:', worksheet.nrows, '\\tColumns:', worksheet.ncols)"
   ]
  },
  {
   "cell_type": "code",
   "execution_count": null,
   "metadata": {
    "colab": {
     "base_uri": "https://localhost:8080/",
     "height": 35
    },
    "colab_type": "code",
    "executionInfo": {
     "elapsed": 3752,
     "status": "ok",
     "timestamp": 1599037214990,
     "user": {
      "displayName": "강주현",
      "photoUrl": "https://lh3.googleusercontent.com/a-/AOh14GhI6eR4X0pU-wyWD_lrneGGkf4JwhmGDwx7Dopr=s64",
      "userId": "12298000088270855699"
     },
     "user_tz": -540
    },
    "id": "BaeWRFfrmX-d",
    "outputId": "3b5db769-5afc-47a9-8c21-32a67c16606e"
   },
   "outputs": [
    {
     "name": "stdout",
     "output_type": "stream",
     "text": [
      "basic02.py executed\n"
     ]
    }
   ],
   "source": [
    "# basic02.py\n",
    "from xlrd import open_workbook, xldate_as_tuple\n",
    "from xlwt import Workbook\n",
    "from datetime import date\n",
    "\n",
    "input_file = 'sales_2017.xlsx'\n",
    "output_file = 'output02.xls'\n",
    "\n",
    "output_workbook = Workbook()\n",
    "output_worksheet = output_workbook.add_sheet('jan_2017_output')\n",
    "\n",
    "with open_workbook(input_file) as workbook:\n",
    "    worksheet = workbook.sheet_by_name('january_2017')\n",
    "    \n",
    "    for row_index in range(worksheet.nrows):\n",
    "        for col_index in range(worksheet.ncols):\n",
    "            output_worksheet.write(row_index, col_index, \\\n",
    "                                        worksheet.cell_value(row_index, col_index))\n",
    "\n",
    "output_workbook.save(output_file)\n",
    "print('basic02.py executed')"
   ]
  },
  {
   "cell_type": "code",
   "execution_count": null,
   "metadata": {
    "colab": {
     "base_uri": "https://localhost:8080/",
     "height": 35
    },
    "colab_type": "code",
    "executionInfo": {
     "elapsed": 2225,
     "status": "ok",
     "timestamp": 1599037215486,
     "user": {
      "displayName": "강주현",
      "photoUrl": "https://lh3.googleusercontent.com/a-/AOh14GhI6eR4X0pU-wyWD_lrneGGkf4JwhmGDwx7Dopr=s64",
      "userId": "12298000088270855699"
     },
     "user_tz": -540
    },
    "id": "v0icgPzYAQ86",
    "outputId": "b36f8986-00d6-473d-ae05-d810541eced1"
   },
   "outputs": [
    {
     "name": "stdout",
     "output_type": "stream",
     "text": [
      "basic03.py executed\n"
     ]
    }
   ],
   "source": [
    "# basic03.py\n",
    "from xlrd import open_workbook, xldate_as_tuple\n",
    "from xlwt import Workbook\n",
    "from datetime import date\n",
    "\n",
    "input_file = 'sales_2017.xlsx'\n",
    "output_file = 'output03.xls'\n",
    "\n",
    "output_workbook = Workbook()\n",
    "output_worksheet = output_workbook.add_sheet('jan_2017_output')\n",
    "\n",
    "filter_column = 3\n",
    "with open_workbook(input_file) as workbook:\n",
    "    worksheet = workbook.sheet_by_name('january_2017')\n",
    "    data = []\n",
    "    header = worksheet.row_values(0)\n",
    "    data.append(header)\n",
    "    for row_index in range(1, worksheet.nrows):\n",
    "        row_info = []\n",
    "        sale_amount = worksheet.cell_value(row_index, filter_column)\n",
    "        if sale_amount > 1400.0:\n",
    "            # 조건에 맞는 경우에만 row 데이터 취득 \n",
    "            for col_index in range(worksheet.ncols):\n",
    "                cell_value = worksheet.cell_value(row_index, col_index)\n",
    "                cell_type = worksheet.cell_type(row_index, col_index)\n",
    "\n",
    "                if cell_type == 3: # 날짜데이터형식\n",
    "                    date_cell = xldate_as_tuple(cell_value, workbook.datemode) # (2017, 1, 1, 0, 0, 0)\n",
    "                    date_cell = date(*date_cell[0:3]).strftime('%m/%d/%Y')\n",
    "                    row_info.append(date_cell)\n",
    "                else:\n",
    "                    row_info.append(cell_value)\n",
    "            data.append(row_info) # 조건에 맞는 row의 내용을 추가 \n",
    "    # data에 있는 내용을 write\n",
    "    \n",
    "    for row_index, row_info in enumerate(data):\n",
    "        for col_index, value in enumerate(row_info):\n",
    "            output_worksheet.write(row_index, col_index, value)\n",
    "\n",
    "output_workbook.save(output_file)\n",
    "print('basic03.py executed')"
   ]
  },
  {
   "cell_type": "code",
   "execution_count": null,
   "metadata": {
    "colab": {
     "base_uri": "https://localhost:8080/",
     "height": 35
    },
    "colab_type": "code",
    "executionInfo": {
     "elapsed": 1994,
     "status": "ok",
     "timestamp": 1599037242143,
     "user": {
      "displayName": "강주현",
      "photoUrl": "https://lh3.googleusercontent.com/a-/AOh14GhI6eR4X0pU-wyWD_lrneGGkf4JwhmGDwx7Dopr=s64",
      "userId": "12298000088270855699"
     },
     "user_tz": -540
    },
    "id": "quCouv4jAqGn",
    "outputId": "c90a107b-d255-47af-f64a-59ba61fb3729"
   },
   "outputs": [
    {
     "name": "stdout",
     "output_type": "stream",
     "text": [
      "basic04.py executed\n"
     ]
    }
   ],
   "source": [
    "# basic04.py\n",
    "from datetime import date\n",
    "from xlrd import open_workbook, xldate_as_tuple\n",
    "from xlwt import Workbook\n",
    "\n",
    "input_file = 'sales_2017.xlsx'\n",
    "output_file = 'output04.xls'\n",
    "\n",
    "output_workbook = Workbook()\n",
    "output_worksheet = output_workbook.add_sheet('jan_2017_output')\n",
    "\n",
    "important_dates = ['01/24/2017', '01/31/2017']\n",
    "\n",
    "purchase_date_column_index = 4\n",
    "with open_workbook(input_file) as workbook:\n",
    "\tworksheet = workbook.sheet_by_name('january_2017')\n",
    "\tdata = []\n",
    "\theader = worksheet.row_values(0)\n",
    "\tdata.append(header)\n",
    "\tfor row_index in range(1, worksheet.nrows):\t\t\n",
    "\t\tpurchase_datetime = xldate_as_tuple(worksheet.cell_value(row_index, purchase_date_column_index), \\\n",
    "\t\t\t\t\t\t\t\t\t\t\tworkbook.datemode) # (2017, 1, 1, 0, 0, 0)\n",
    "\t\tpurchase_date = date(*purchase_datetime[0:3]).strftime('%m/%d/%Y')\n",
    "\t\trow_list = []\n",
    "\t\tif purchase_date in important_dates:\n",
    "\t\t\tfor column_index in range(worksheet.ncols):\n",
    "\t\t\t\tcell_value = worksheet.cell_value(row_index, column_index)\n",
    "\t\t\t\tcell_type = worksheet.cell_type(row_index, column_index)\n",
    "\t\t\t\tif cell_type == 3:\n",
    "\t\t\t\t\tdate_cell = xldate_as_tuple(cell_value, workbook.datemode)\n",
    "\t\t\t\t\tdate_cell = date(*date_cell[0:3]).strftime('%m/%d/%Y')\n",
    "\t\t\t\t\trow_list.append(date_cell)\n",
    "\t\t\t\telse:\n",
    "\t\t\t\t\trow_list.append(cell_value)\n",
    "\t\tif row_list:\n",
    "\t\t\tdata.append(row_list)\n",
    "\n",
    "\tfor list_index, output_list in enumerate(data):\n",
    "\t\tfor element_index, element in enumerate(output_list):\n",
    "\t\t\toutput_worksheet.write(list_index, element_index, element)\n",
    "\n",
    "output_workbook.save(output_file)\n",
    "print('basic04.py executed')"
   ]
  },
  {
   "cell_type": "code",
   "execution_count": null,
   "metadata": {
    "colab": {
     "base_uri": "https://localhost:8080/",
     "height": 35
    },
    "colab_type": "code",
    "executionInfo": {
     "elapsed": 2124,
     "status": "ok",
     "timestamp": 1599037251211,
     "user": {
      "displayName": "강주현",
      "photoUrl": "https://lh3.googleusercontent.com/a-/AOh14GhI6eR4X0pU-wyWD_lrneGGkf4JwhmGDwx7Dopr=s64",
      "userId": "12298000088270855699"
     },
     "user_tz": -540
    },
    "id": "2kXSq127BaRV",
    "outputId": "136c4c45-ff61-4d62-80fc-f476f22c259e"
   },
   "outputs": [
    {
     "name": "stdout",
     "output_type": "stream",
     "text": [
      "basic05.py executed\n"
     ]
    }
   ],
   "source": [
    "# basic05.py\n",
    "import re\n",
    "from datetime import date\n",
    "from xlrd import open_workbook, xldate_as_tuple\n",
    "from xlwt import Workbook\n",
    "\n",
    "input_file = 'sales_2017.xlsx'\n",
    "output_file = 'output05.xls'\n",
    "\n",
    "output_workbook = Workbook()\n",
    "output_worksheet = output_workbook.add_sheet('jan_2017_output')\n",
    "\n",
    "# pattern = re.compile(r'(?P<my_pattern>^J.*)')\n",
    "pattern = re.compile(r'(?P<my_pattern>.*s$)')\n",
    "\n",
    "customer_name_column_index = 1\n",
    "with open_workbook(input_file) as workbook:\n",
    "\tworksheet = workbook.sheet_by_name('january_2017')\n",
    "\tdata = []\n",
    "\theader = worksheet.row_values(0)\n",
    "\tdata.append(header)\n",
    "\tfor row_index in range(1, worksheet.nrows):\t\t\n",
    "\t\trow_list = []\n",
    "\t\tif pattern.search(worksheet.cell_value(row_index, customer_name_column_index)):\n",
    "\t\t\tfor column_index in range(worksheet.ncols):\n",
    "\t\t\t\tcell_value = worksheet.cell_value(row_index, column_index)\n",
    "\t\t\t\tcell_type = worksheet.cell_type(row_index, column_index)\n",
    "\t\t\t\tif cell_type == 3:\n",
    "\t\t\t\t\tdate_cell = xldate_as_tuple(cell_value,workbook.datemode)\n",
    "\t\t\t\t\tdate_cell = date(*date_cell[0:3]).strftime('%m/%d/%Y')\n",
    "\t\t\t\t\trow_list.append(date_cell)\n",
    "\t\t\t\telse:\n",
    "\t\t\t\t\trow_list.append(cell_value)\n",
    "\t\tif row_list:\n",
    "\t\t\tdata.append(row_list)\n",
    "\n",
    "\tfor list_index, output_list in enumerate(data):\n",
    "\t\tfor element_index, element in enumerate(output_list):\n",
    "\t\t\toutput_worksheet.write(list_index, element_index, element)\n",
    "\n",
    "output_workbook.save(output_file)\n",
    "print('basic05.py executed')"
   ]
  },
  {
   "cell_type": "code",
   "execution_count": null,
   "metadata": {
    "colab": {
     "base_uri": "https://localhost:8080/",
     "height": 35
    },
    "colab_type": "code",
    "executionInfo": {
     "elapsed": 2029,
     "status": "ok",
     "timestamp": 1599037263573,
     "user": {
      "displayName": "강주현",
      "photoUrl": "https://lh3.googleusercontent.com/a-/AOh14GhI6eR4X0pU-wyWD_lrneGGkf4JwhmGDwx7Dopr=s64",
      "userId": "12298000088270855699"
     },
     "user_tz": -540
    },
    "id": "Qaf_9JgTBanS",
    "outputId": "a4613a61-4d18-41e7-d662-9027ee47c1dc"
   },
   "outputs": [
    {
     "name": "stdout",
     "output_type": "stream",
     "text": [
      "basic06.py executed\n"
     ]
    }
   ],
   "source": [
    "# base06.py\n",
    "from xlrd import open_workbook, xldate_as_tuple\n",
    "from xlwt import Workbook\n",
    "from datetime import date\n",
    "\n",
    "input_file = 'sales_2017.xlsx'\n",
    "output_file = 'output06.xls'\n",
    "\n",
    "output_workbook = Workbook()\n",
    "output_worksheet = output_workbook.add_sheet('jan_2017_output')\n",
    "\n",
    "filter_column = [1, 4]\n",
    "with open_workbook(input_file) as workbook:\n",
    "    worksheet = workbook.sheet_by_name('january_2017')\n",
    "    data = []\n",
    "    for row_index in range(worksheet.nrows):\n",
    "        row_info = []\n",
    "        for col_index in filter_column:\n",
    "            cell_value = worksheet.cell_value(row_index, col_index)\n",
    "            cell_type = worksheet.cell_type(row_index, col_index)\n",
    "\n",
    "            if cell_type == 3: # 날짜데이터형식\n",
    "                date_cell = xldate_as_tuple(cell_value, workbook.datemode) # (2017, 1, 1, 0, 0, 0)\n",
    "                date_cell = date(*date_cell[0:3]).strftime('%m/%d/%Y')\n",
    "                row_info.append(date_cell)\n",
    "            else:\n",
    "                row_info.append(cell_value)\n",
    "        data.append(row_info) # 조건에 맞는 row의 내용을 추가 \n",
    "    \n",
    "    for row_index, row_info in enumerate(data):\n",
    "        for col_index, value in enumerate(row_info):\n",
    "            output_worksheet.write(row_index, col_index, value)\n",
    "\n",
    "output_workbook.save(output_file)\n",
    "print('basic06.py executed')"
   ]
  },
  {
   "cell_type": "code",
   "execution_count": null,
   "metadata": {
    "colab": {
     "base_uri": "https://localhost:8080/",
     "height": 108
    },
    "colab_type": "code",
    "executionInfo": {
     "elapsed": 2219,
     "status": "ok",
     "timestamp": 1599037306163,
     "user": {
      "displayName": "강주현",
      "photoUrl": "https://lh3.googleusercontent.com/a-/AOh14GhI6eR4X0pU-wyWD_lrneGGkf4JwhmGDwx7Dopr=s64",
      "userId": "12298000088270855699"
     },
     "user_tz": -540
    },
    "id": "LsRNL7YJBavR",
    "outputId": "4dc6b1cb-146d-47d4-c491-f9660bb3fa1f"
   },
   "outputs": [
    {
     "name": "stdout",
     "output_type": "stream",
     "text": [
      "   Customer ID  Customer Name Invoice Number  Sale Amount Purchase Date\n",
      "0         7654   Roger Lipney       100-0010         2135    2017-02-15\n",
      "1         6543     Rachel Paz       100-0017         2042    2017-03-22\n",
      "2         4321  Susan Wallace       100-0019         2280    2017-03-30\n",
      "pandas07.py executed\n"
     ]
    }
   ],
   "source": [
    "# pandas07.py\n",
    "import pandas as pd\n",
    "import os\n",
    "\n",
    "input_file = 'sales_2017.xlsx'\n",
    "output_file = 'output07.xls'\n",
    "\n",
    "df = pd.read_excel(input_file, sheet_name=None)\n",
    "\n",
    "row_output = []\n",
    "for worksheet_name, data_frame in df.items():\n",
    "    row_output.append(data_frame[data_frame['Sale Amount'].replace('$', '').replace(',','').astype(float) > 2000.0])\n",
    "\n",
    "new_df = pd.concat(row_output, axis=0, ignore_index=True)\n",
    "print(new_df)\n",
    "\n",
    "writer = pd.ExcelWriter(output_file)\n",
    "new_df.to_excel(writer, sheet_name='sale_amount', index=False)\n",
    "writer.save()\n",
    "print(\"pandas07.py executed\")"
   ]
  },
  {
   "cell_type": "code",
   "execution_count": null,
   "metadata": {
    "colab": {
     "base_uri": "https://localhost:8080/",
     "height": 35
    },
    "colab_type": "code",
    "executionInfo": {
     "elapsed": 2217,
     "status": "ok",
     "timestamp": 1599037309797,
     "user": {
      "displayName": "강주현",
      "photoUrl": "https://lh3.googleusercontent.com/a-/AOh14GhI6eR4X0pU-wyWD_lrneGGkf4JwhmGDwx7Dopr=s64",
      "userId": "12298000088270855699"
     },
     "user_tz": -540
    },
    "id": "UQ0L9iw7Ba3M",
    "outputId": "6d111f0e-16e1-4118-b464-920a2d7ac4af"
   },
   "outputs": [
    {
     "name": "stdout",
     "output_type": "stream",
     "text": [
      "basic08.py executed\n"
     ]
    }
   ],
   "source": [
    "# base08.py (all_sheets)\n",
    "from xlrd import open_workbook, xldate_as_tuple\n",
    "from xlwt import Workbook\n",
    "from datetime import date\n",
    "\n",
    "input_file = 'sales_2017.xlsx'\n",
    "output_file = 'output08.xls'\n",
    "\n",
    "output_workbook = Workbook()\n",
    "output_worksheet = output_workbook.add_sheet('filtered_rows_all_worksheets')\n",
    "\n",
    "sales_column_index = 3 # 0, 3 (4th)\n",
    "threshold = 2000\n",
    "\n",
    "with open_workbook(input_file) as workbook:\n",
    "    # worksheet = workbook.sheet_by_name('january_2017')\n",
    "    data = []\n",
    "    first_sheet = True\n",
    "    for worksheet in workbook.sheets():\n",
    "        if first_sheet:\n",
    "            header_row = worksheet.row_values(0)\n",
    "            data.append(header_row)\n",
    "            first_sheet = False\n",
    "        for row_index in range(1, worksheet.nrows):\n",
    "            row_info = []\n",
    "            sale_amount = worksheet.cell_value(row_index, sales_column_index)\n",
    "            # $,  제거 \n",
    "            sale_amount = float(str(sale_amount).replace('$', '').replace(',', ''))\n",
    "\n",
    "            if sale_amount > threshold:\n",
    "                for col_index in range(worksheet.ncols):\n",
    "                    cell_value = worksheet.cell_value(row_index, col_index)\n",
    "                    cell_type = worksheet.cell_type(row_index, col_index)\n",
    "\n",
    "                    if cell_type == 3: # 날짜데이터형식\n",
    "                        date_cell = xldate_as_tuple(cell_value, workbook.datemode) # (2017, 1, 1, 0, 0, 0)\n",
    "                        date_cell = date(*date_cell[0:3]).strftime('%m/%d/%Y')\n",
    "                        row_info.append(date_cell)\n",
    "                    else:\n",
    "                        row_info.append(cell_value)\n",
    "                data.append(row_info) \n",
    "    \n",
    "    for row_index, row_info in enumerate(data):\n",
    "        for col_index, value in enumerate(row_info):\n",
    "            output_worksheet.write(row_index, col_index, value)\n",
    "\n",
    "output_workbook.save(output_file)\n",
    "print('basic08.py executed')"
   ]
  },
  {
   "cell_type": "code",
   "execution_count": null,
   "metadata": {
    "colab": {
     "base_uri": "https://localhost:8080/",
     "height": 35
    },
    "colab_type": "code",
    "executionInfo": {
     "elapsed": 4622,
     "status": "ok",
     "timestamp": 1599037411428,
     "user": {
      "displayName": "강주현",
      "photoUrl": "https://lh3.googleusercontent.com/a-/AOh14GhI6eR4X0pU-wyWD_lrneGGkf4JwhmGDwx7Dopr=s64",
      "userId": "12298000088270855699"
     },
     "user_tz": -540
    },
    "id": "-JnjcVKgBa__",
    "outputId": "6ddb877a-87f4-42de-f01e-6e07f28c7f2c"
   },
   "outputs": [
    {
     "name": "stdout",
     "output_type": "stream",
     "text": [
      "basic09.py executed\n"
     ]
    }
   ],
   "source": [
    "# basic09.py\n",
    "from datetime import date\n",
    "from xlrd import open_workbook, xldate_as_tuple\n",
    "from xlwt import Workbook\n",
    "\n",
    "input_file = 'sales_2017.xlsx'\n",
    "output_file = 'output09.xls'\n",
    "output_workbook = Workbook()\n",
    "output_worksheet = output_workbook.add_sheet('selected_columns_all_worksheets')\n",
    "\n",
    "my_columns = ['Customer Name', 'Sale Amount']\n",
    "\t\n",
    "first_worksheet = True\n",
    "with open_workbook(input_file) as workbook:\n",
    "\tdata = [my_columns]\n",
    "\tindex_of_cols_to_keep = []\n",
    "\tfor worksheet in workbook.sheets():\n",
    "\t\tif first_worksheet:\n",
    "\t\t\theader = worksheet.row_values(0)\n",
    "\t\t\tfor column_index in range(len(header)):\n",
    "\t\t\t\tif header[column_index] in my_columns:\n",
    "\t\t\t\t\tindex_of_cols_to_keep.append(column_index)\n",
    "\t\t\tfirst_worksheet = False\n",
    "\t\tfor row_index in range(1, worksheet.nrows):\n",
    "\t\t\trow_list = []\n",
    "\t\t\tfor column_index in index_of_cols_to_keep:\t\n",
    "\t\t\t\tcell_value = worksheet.cell_value(row_index, column_index)\n",
    "\t\t\t\tcell_type = worksheet.cell_type(row_index, column_index)\n",
    "\t\t\t\tif cell_type == 3:\n",
    "\t\t\t\t\tdate_cell = xldate_as_tuple(cell_value,workbook.datemode)\n",
    "\t\t\t\t\tdate_cell = date(*date_cell[0:3]).strftime('%m/%d/%Y')\n",
    "\t\t\t\t\trow_list.append(date_cell)\n",
    "\t\t\t\telse:\n",
    "\t\t\t\t\trow_list.append(cell_value)\n",
    "\t\t\tdata.append(row_list)\n",
    "\t\n",
    "\tfor list_index, output_list in enumerate(data):\n",
    "\t\tfor element_index, element in enumerate(output_list):\n",
    "\t\t\toutput_worksheet.write(list_index, element_index, element)\n",
    "\n",
    "output_workbook.save(output_file)\n",
    "print('basic09.py executed')"
   ]
  },
  {
   "cell_type": "code",
   "execution_count": 30,
   "metadata": {
    "colab": {
     "base_uri": "https://localhost:8080/",
     "height": 567
    },
    "colab_type": "code",
    "executionInfo": {
     "elapsed": 1257,
     "status": "error",
     "timestamp": 1599040204894,
     "user": {
      "displayName": "강주현",
      "photoUrl": "https://lh3.googleusercontent.com/a-/AOh14GhI6eR4X0pU-wyWD_lrneGGkf4JwhmGDwx7Dopr=s64",
      "userId": "12298000088270855699"
     },
     "user_tz": -540
    },
    "id": "xuZvLRnjBbDC",
    "outputId": "97c8b2d9-57fc-414e-f685-09cbee0c8c92"
   },
   "outputs": [
    {
     "name": "stdout",
     "output_type": "stream",
     "text": [
      "Workbook: sales_2013.xlsx\n",
      "Number of worksheets: 3\n",
      "Worksheet name: january_2013 \tRows: 7 \tColumns: 5\n",
      "Worksheet name: february_2013 \tRows: 7 \tColumns: 5\n",
      "Worksheet name: march_2013 \tRows: 7 \tColumns: 5\n",
      "Workbook: sales_2017.xlsx\n",
      "Number of worksheets: 3\n",
      "Worksheet name: january_2017 \tRows: 7 \tColumns: 5\n",
      "Worksheet name: february_2017 \tRows: 7 \tColumns: 5\n",
      "Worksheet name: march_2017 \tRows: 7 \tColumns: 5\n"
     ]
    },
    {
     "ename": "XLRDError",
     "evalue": "ignored",
     "output_type": "error",
     "traceback": [
      "\u001b[0;31m---------------------------------------------------------------------------\u001b[0m",
      "\u001b[0;31mXLRDError\u001b[0m                                 Traceback (most recent call last)",
      "\u001b[0;32m<ipython-input-30-16aab0e6de4e>\u001b[0m in \u001b[0;36m<module>\u001b[0;34m()\u001b[0m\n\u001b[1;32m     15\u001b[0m \u001b[0;34m\u001b[0m\u001b[0m\n\u001b[1;32m     16\u001b[0m \u001b[0;32mfor\u001b[0m \u001b[0minput_file\u001b[0m \u001b[0;32min\u001b[0m \u001b[0mglob\u001b[0m\u001b[0;34m.\u001b[0m\u001b[0mglob\u001b[0m\u001b[0;34m(\u001b[0m\u001b[0mos\u001b[0m\u001b[0;34m.\u001b[0m\u001b[0mpath\u001b[0m\u001b[0;34m.\u001b[0m\u001b[0mjoin\u001b[0m\u001b[0;34m(\u001b[0m\u001b[0minput_directory\u001b[0m\u001b[0;34m,\u001b[0m \u001b[0;34m'*.xls*'\u001b[0m\u001b[0;34m)\u001b[0m\u001b[0;34m)\u001b[0m\u001b[0;34m:\u001b[0m\u001b[0;34m\u001b[0m\u001b[0;34m\u001b[0m\u001b[0m\n\u001b[0;32m---> 17\u001b[0;31m     \u001b[0mworkbook\u001b[0m \u001b[0;34m=\u001b[0m \u001b[0mopen_workbook\u001b[0m\u001b[0;34m(\u001b[0m\u001b[0minput_file\u001b[0m\u001b[0;34m)\u001b[0m\u001b[0;34m\u001b[0m\u001b[0;34m\u001b[0m\u001b[0m\n\u001b[0m\u001b[1;32m     18\u001b[0m     \u001b[0mprint\u001b[0m\u001b[0;34m(\u001b[0m\u001b[0;34m'Workbook: {}'\u001b[0m\u001b[0;34m.\u001b[0m\u001b[0mformat\u001b[0m\u001b[0;34m(\u001b[0m\u001b[0mos\u001b[0m\u001b[0;34m.\u001b[0m\u001b[0mpath\u001b[0m\u001b[0;34m.\u001b[0m\u001b[0mbasename\u001b[0m\u001b[0;34m(\u001b[0m\u001b[0minput_file\u001b[0m\u001b[0;34m)\u001b[0m\u001b[0;34m)\u001b[0m\u001b[0;34m)\u001b[0m\u001b[0;34m\u001b[0m\u001b[0;34m\u001b[0m\u001b[0m\n\u001b[1;32m     19\u001b[0m     \u001b[0mprint\u001b[0m\u001b[0;34m(\u001b[0m\u001b[0;34m'Number of worksheets:'\u001b[0m\u001b[0;34m,\u001b[0m \u001b[0mworkbook\u001b[0m\u001b[0;34m.\u001b[0m\u001b[0mnsheets\u001b[0m\u001b[0;34m)\u001b[0m\u001b[0;34m\u001b[0m\u001b[0;34m\u001b[0m\u001b[0m\n",
      "\u001b[0;32m/usr/local/lib/python3.6/dist-packages/xlrd/__init__.py\u001b[0m in \u001b[0;36mopen_workbook\u001b[0;34m(filename, logfile, verbosity, use_mmap, file_contents, encoding_override, formatting_info, on_demand, ragged_rows)\u001b[0m\n\u001b[1;32m    160\u001b[0m         \u001b[0mformatting_info\u001b[0m\u001b[0;34m=\u001b[0m\u001b[0mformatting_info\u001b[0m\u001b[0;34m,\u001b[0m\u001b[0;34m\u001b[0m\u001b[0;34m\u001b[0m\u001b[0m\n\u001b[1;32m    161\u001b[0m         \u001b[0mon_demand\u001b[0m\u001b[0;34m=\u001b[0m\u001b[0mon_demand\u001b[0m\u001b[0;34m,\u001b[0m\u001b[0;34m\u001b[0m\u001b[0;34m\u001b[0m\u001b[0m\n\u001b[0;32m--> 162\u001b[0;31m         \u001b[0mragged_rows\u001b[0m\u001b[0;34m=\u001b[0m\u001b[0mragged_rows\u001b[0m\u001b[0;34m,\u001b[0m\u001b[0;34m\u001b[0m\u001b[0;34m\u001b[0m\u001b[0m\n\u001b[0m\u001b[1;32m    163\u001b[0m         )\n\u001b[1;32m    164\u001b[0m     \u001b[0;32mreturn\u001b[0m \u001b[0mbk\u001b[0m\u001b[0;34m\u001b[0m\u001b[0;34m\u001b[0m\u001b[0m\n",
      "\u001b[0;32m/usr/local/lib/python3.6/dist-packages/xlrd/book.py\u001b[0m in \u001b[0;36mopen_workbook_xls\u001b[0;34m(filename, logfile, verbosity, use_mmap, file_contents, encoding_override, formatting_info, on_demand, ragged_rows)\u001b[0m\n\u001b[1;32m     89\u001b[0m         \u001b[0mt1\u001b[0m \u001b[0;34m=\u001b[0m \u001b[0mtime\u001b[0m\u001b[0;34m.\u001b[0m\u001b[0mclock\u001b[0m\u001b[0;34m(\u001b[0m\u001b[0;34m)\u001b[0m\u001b[0;34m\u001b[0m\u001b[0;34m\u001b[0m\u001b[0m\n\u001b[1;32m     90\u001b[0m         \u001b[0mbk\u001b[0m\u001b[0;34m.\u001b[0m\u001b[0mload_time_stage_1\u001b[0m \u001b[0;34m=\u001b[0m \u001b[0mt1\u001b[0m \u001b[0;34m-\u001b[0m \u001b[0mt0\u001b[0m\u001b[0;34m\u001b[0m\u001b[0;34m\u001b[0m\u001b[0m\n\u001b[0;32m---> 91\u001b[0;31m         \u001b[0mbiff_version\u001b[0m \u001b[0;34m=\u001b[0m \u001b[0mbk\u001b[0m\u001b[0;34m.\u001b[0m\u001b[0mgetbof\u001b[0m\u001b[0;34m(\u001b[0m\u001b[0mXL_WORKBOOK_GLOBALS\u001b[0m\u001b[0;34m)\u001b[0m\u001b[0;34m\u001b[0m\u001b[0;34m\u001b[0m\u001b[0m\n\u001b[0m\u001b[1;32m     92\u001b[0m         \u001b[0;32mif\u001b[0m \u001b[0;32mnot\u001b[0m \u001b[0mbiff_version\u001b[0m\u001b[0;34m:\u001b[0m\u001b[0;34m\u001b[0m\u001b[0;34m\u001b[0m\u001b[0m\n\u001b[1;32m     93\u001b[0m             \u001b[0;32mraise\u001b[0m \u001b[0mXLRDError\u001b[0m\u001b[0;34m(\u001b[0m\u001b[0;34m\"Can't determine file's BIFF version\"\u001b[0m\u001b[0;34m)\u001b[0m\u001b[0;34m\u001b[0m\u001b[0;34m\u001b[0m\u001b[0m\n",
      "\u001b[0;32m/usr/local/lib/python3.6/dist-packages/xlrd/book.py\u001b[0m in \u001b[0;36mgetbof\u001b[0;34m(self, rqd_stream)\u001b[0m\n\u001b[1;32m   1269\u001b[0m             \u001b[0mbof_error\u001b[0m\u001b[0;34m(\u001b[0m\u001b[0;34m'Expected BOF record; met end of file'\u001b[0m\u001b[0;34m)\u001b[0m\u001b[0;34m\u001b[0m\u001b[0;34m\u001b[0m\u001b[0m\n\u001b[1;32m   1270\u001b[0m         \u001b[0;32mif\u001b[0m \u001b[0mopcode\u001b[0m \u001b[0;32mnot\u001b[0m \u001b[0;32min\u001b[0m \u001b[0mbofcodes\u001b[0m\u001b[0;34m:\u001b[0m\u001b[0;34m\u001b[0m\u001b[0;34m\u001b[0m\u001b[0m\n\u001b[0;32m-> 1271\u001b[0;31m             \u001b[0mbof_error\u001b[0m\u001b[0;34m(\u001b[0m\u001b[0;34m'Expected BOF record; found %r'\u001b[0m \u001b[0;34m%\u001b[0m \u001b[0mself\u001b[0m\u001b[0;34m.\u001b[0m\u001b[0mmem\u001b[0m\u001b[0;34m[\u001b[0m\u001b[0msavpos\u001b[0m\u001b[0;34m:\u001b[0m\u001b[0msavpos\u001b[0m\u001b[0;34m+\u001b[0m\u001b[0;36m8\u001b[0m\u001b[0;34m]\u001b[0m\u001b[0;34m)\u001b[0m\u001b[0;34m\u001b[0m\u001b[0;34m\u001b[0m\u001b[0m\n\u001b[0m\u001b[1;32m   1272\u001b[0m         \u001b[0mlength\u001b[0m \u001b[0;34m=\u001b[0m \u001b[0mself\u001b[0m\u001b[0;34m.\u001b[0m\u001b[0mget2bytes\u001b[0m\u001b[0;34m(\u001b[0m\u001b[0;34m)\u001b[0m\u001b[0;34m\u001b[0m\u001b[0;34m\u001b[0m\u001b[0m\n\u001b[1;32m   1273\u001b[0m         \u001b[0;32mif\u001b[0m \u001b[0mlength\u001b[0m \u001b[0;34m==\u001b[0m \u001b[0mMY_EOF\u001b[0m\u001b[0;34m:\u001b[0m\u001b[0;34m\u001b[0m\u001b[0;34m\u001b[0m\u001b[0m\n",
      "\u001b[0;32m/usr/local/lib/python3.6/dist-packages/xlrd/book.py\u001b[0m in \u001b[0;36mbof_error\u001b[0;34m(msg)\u001b[0m\n\u001b[1;32m   1263\u001b[0m         \u001b[0;32mif\u001b[0m \u001b[0mDEBUG\u001b[0m\u001b[0;34m:\u001b[0m \u001b[0mprint\u001b[0m\u001b[0;34m(\u001b[0m\u001b[0;34m\"reqd: 0x%04x\"\u001b[0m \u001b[0;34m%\u001b[0m \u001b[0mrqd_stream\u001b[0m\u001b[0;34m,\u001b[0m \u001b[0mfile\u001b[0m\u001b[0;34m=\u001b[0m\u001b[0mself\u001b[0m\u001b[0;34m.\u001b[0m\u001b[0mlogfile\u001b[0m\u001b[0;34m)\u001b[0m\u001b[0;34m\u001b[0m\u001b[0;34m\u001b[0m\u001b[0m\n\u001b[1;32m   1264\u001b[0m         \u001b[0;32mdef\u001b[0m \u001b[0mbof_error\u001b[0m\u001b[0;34m(\u001b[0m\u001b[0mmsg\u001b[0m\u001b[0;34m)\u001b[0m\u001b[0;34m:\u001b[0m\u001b[0;34m\u001b[0m\u001b[0;34m\u001b[0m\u001b[0m\n\u001b[0;32m-> 1265\u001b[0;31m             \u001b[0;32mraise\u001b[0m \u001b[0mXLRDError\u001b[0m\u001b[0;34m(\u001b[0m\u001b[0;34m'Unsupported format, or corrupt file: '\u001b[0m \u001b[0;34m+\u001b[0m \u001b[0mmsg\u001b[0m\u001b[0;34m)\u001b[0m\u001b[0;34m\u001b[0m\u001b[0;34m\u001b[0m\u001b[0m\n\u001b[0m\u001b[1;32m   1266\u001b[0m         \u001b[0msavpos\u001b[0m \u001b[0;34m=\u001b[0m \u001b[0mself\u001b[0m\u001b[0;34m.\u001b[0m\u001b[0m_position\u001b[0m\u001b[0;34m\u001b[0m\u001b[0;34m\u001b[0m\u001b[0m\n\u001b[1;32m   1267\u001b[0m         \u001b[0mopcode\u001b[0m \u001b[0;34m=\u001b[0m \u001b[0mself\u001b[0m\u001b[0;34m.\u001b[0m\u001b[0mget2bytes\u001b[0m\u001b[0;34m(\u001b[0m\u001b[0;34m)\u001b[0m\u001b[0;34m\u001b[0m\u001b[0;34m\u001b[0m\u001b[0m\n",
      "\u001b[0;31mXLRDError\u001b[0m: Unsupported format, or corrupt file: Expected BOF record; found b'\\tLee Dow'"
     ]
    }
   ],
   "source": [
    "# basic11.py\n",
    "\n",
    "from xlrd import open_workbook\n",
    "import glob, os, sys\n",
    "\n",
    "input_file = 'sales_2017.xlsx'\n",
    "input_directory = 'input'\n",
    "\n",
    "\n",
    "output_workbook = Workbook()\n",
    "output_worksheet = output_workbook.add_sheet('all_data_all_worksheets')\n",
    "\n",
    "\n",
    "workbook_count = 0\n",
    "\n",
    "for input_file in glob.glob(os.path.join(input_directory, '*.xls*')):\n",
    "    workbook = open_workbook(input_file)\n",
    "    print('Workbook: {}'.format(os.path.basename(input_file)))\n",
    "    print('Number of worksheets:', workbook.nsheets)\n",
    "    for worksheet in workbook.sheets():\n",
    "        print('Worksheet name:', worksheet.name,'\\tRows:', worksheet.nrows, '\\tColumns:', worksheet.ncols)\n",
    "    workbook_count += 1\n",
    "print('Number of Excel workbooks: {}'.format(workbook_count))\n",
    "print('basic11.py executed')"
   ]
  },
  {
   "cell_type": "code",
   "execution_count": 26,
   "metadata": {
    "colab": {
     "base_uri": "https://localhost:8080/",
     "height": 390
    },
    "colab_type": "code",
    "executionInfo": {
     "elapsed": 927,
     "status": "error",
     "timestamp": 1599040013272,
     "user": {
      "displayName": "강주현",
      "photoUrl": "https://lh3.googleusercontent.com/a-/AOh14GhI6eR4X0pU-wyWD_lrneGGkf4JwhmGDwx7Dopr=s64",
      "userId": "12298000088270855699"
     },
     "user_tz": -540
    },
    "id": "sdjOfcMhBbK5",
    "outputId": "00629a3b-492d-4ea0-f608-5cdd6cfdef38"
   },
   "outputs": [
    {
     "ename": "XLRDError",
     "evalue": "ignored",
     "output_type": "error",
     "traceback": [
      "\u001b[0;31m---------------------------------------------------------------------------\u001b[0m",
      "\u001b[0;31mXLRDError\u001b[0m                                 Traceback (most recent call last)",
      "\u001b[0;32m<ipython-input-26-73a4a1d6ab71>\u001b[0m in \u001b[0;36m<module>\u001b[0;34m()\u001b[0m\n\u001b[1;32m     14\u001b[0m \u001b[0mfirst_sheet\u001b[0m \u001b[0;34m=\u001b[0m \u001b[0;32mTrue\u001b[0m\u001b[0;34m\u001b[0m\u001b[0;34m\u001b[0m\u001b[0m\n\u001b[1;32m     15\u001b[0m \u001b[0;32mfor\u001b[0m \u001b[0minput_file\u001b[0m \u001b[0;32min\u001b[0m \u001b[0mglob\u001b[0m\u001b[0;34m.\u001b[0m\u001b[0mglob\u001b[0m\u001b[0;34m(\u001b[0m\u001b[0mos\u001b[0m\u001b[0;34m.\u001b[0m\u001b[0mpath\u001b[0m\u001b[0;34m.\u001b[0m\u001b[0mjoin\u001b[0m\u001b[0;34m(\u001b[0m\u001b[0minput_folder\u001b[0m\u001b[0;34m,\u001b[0m \u001b[0;34m'*.xls*'\u001b[0m\u001b[0;34m)\u001b[0m\u001b[0;34m)\u001b[0m\u001b[0;34m:\u001b[0m\u001b[0;34m\u001b[0m\u001b[0;34m\u001b[0m\u001b[0m\n\u001b[0;32m---> 16\u001b[0;31m     \u001b[0;32mwith\u001b[0m \u001b[0mopen_workbook\u001b[0m\u001b[0;34m(\u001b[0m\u001b[0minput_file\u001b[0m\u001b[0;34m)\u001b[0m \u001b[0;32mas\u001b[0m \u001b[0mworkbook\u001b[0m\u001b[0;34m:\u001b[0m\u001b[0;34m\u001b[0m\u001b[0;34m\u001b[0m\u001b[0m\n\u001b[0m\u001b[1;32m     17\u001b[0m         \u001b[0;32mfor\u001b[0m \u001b[0mworksheet\u001b[0m \u001b[0;32min\u001b[0m \u001b[0mworkbook\u001b[0m\u001b[0;34m.\u001b[0m\u001b[0msheets\u001b[0m\u001b[0;34m(\u001b[0m\u001b[0;34m)\u001b[0m\u001b[0;34m:\u001b[0m\u001b[0;34m\u001b[0m\u001b[0;34m\u001b[0m\u001b[0m\n\u001b[1;32m     18\u001b[0m             \u001b[0;32mif\u001b[0m \u001b[0mfirst_sheet\u001b[0m\u001b[0;34m:\u001b[0m\u001b[0;34m\u001b[0m\u001b[0;34m\u001b[0m\u001b[0m\n",
      "\u001b[0;32m/usr/local/lib/python3.6/dist-packages/xlrd/__init__.py\u001b[0m in \u001b[0;36mopen_workbook\u001b[0;34m(filename, logfile, verbosity, use_mmap, file_contents, encoding_override, formatting_info, on_demand, ragged_rows)\u001b[0m\n\u001b[1;32m    160\u001b[0m         \u001b[0mformatting_info\u001b[0m\u001b[0;34m=\u001b[0m\u001b[0mformatting_info\u001b[0m\u001b[0;34m,\u001b[0m\u001b[0;34m\u001b[0m\u001b[0;34m\u001b[0m\u001b[0m\n\u001b[1;32m    161\u001b[0m         \u001b[0mon_demand\u001b[0m\u001b[0;34m=\u001b[0m\u001b[0mon_demand\u001b[0m\u001b[0;34m,\u001b[0m\u001b[0;34m\u001b[0m\u001b[0;34m\u001b[0m\u001b[0m\n\u001b[0;32m--> 162\u001b[0;31m         \u001b[0mragged_rows\u001b[0m\u001b[0;34m=\u001b[0m\u001b[0mragged_rows\u001b[0m\u001b[0;34m,\u001b[0m\u001b[0;34m\u001b[0m\u001b[0;34m\u001b[0m\u001b[0m\n\u001b[0m\u001b[1;32m    163\u001b[0m         )\n\u001b[1;32m    164\u001b[0m     \u001b[0;32mreturn\u001b[0m \u001b[0mbk\u001b[0m\u001b[0;34m\u001b[0m\u001b[0;34m\u001b[0m\u001b[0m\n",
      "\u001b[0;32m/usr/local/lib/python3.6/dist-packages/xlrd/book.py\u001b[0m in \u001b[0;36mopen_workbook_xls\u001b[0;34m(filename, logfile, verbosity, use_mmap, file_contents, encoding_override, formatting_info, on_demand, ragged_rows)\u001b[0m\n\u001b[1;32m     89\u001b[0m         \u001b[0mt1\u001b[0m \u001b[0;34m=\u001b[0m \u001b[0mtime\u001b[0m\u001b[0;34m.\u001b[0m\u001b[0mclock\u001b[0m\u001b[0;34m(\u001b[0m\u001b[0;34m)\u001b[0m\u001b[0;34m\u001b[0m\u001b[0;34m\u001b[0m\u001b[0m\n\u001b[1;32m     90\u001b[0m         \u001b[0mbk\u001b[0m\u001b[0;34m.\u001b[0m\u001b[0mload_time_stage_1\u001b[0m \u001b[0;34m=\u001b[0m \u001b[0mt1\u001b[0m \u001b[0;34m-\u001b[0m \u001b[0mt0\u001b[0m\u001b[0;34m\u001b[0m\u001b[0;34m\u001b[0m\u001b[0m\n\u001b[0;32m---> 91\u001b[0;31m         \u001b[0mbiff_version\u001b[0m \u001b[0;34m=\u001b[0m \u001b[0mbk\u001b[0m\u001b[0;34m.\u001b[0m\u001b[0mgetbof\u001b[0m\u001b[0;34m(\u001b[0m\u001b[0mXL_WORKBOOK_GLOBALS\u001b[0m\u001b[0;34m)\u001b[0m\u001b[0;34m\u001b[0m\u001b[0;34m\u001b[0m\u001b[0m\n\u001b[0m\u001b[1;32m     92\u001b[0m         \u001b[0;32mif\u001b[0m \u001b[0;32mnot\u001b[0m \u001b[0mbiff_version\u001b[0m\u001b[0;34m:\u001b[0m\u001b[0;34m\u001b[0m\u001b[0;34m\u001b[0m\u001b[0m\n\u001b[1;32m     93\u001b[0m             \u001b[0;32mraise\u001b[0m \u001b[0mXLRDError\u001b[0m\u001b[0;34m(\u001b[0m\u001b[0;34m\"Can't determine file's BIFF version\"\u001b[0m\u001b[0;34m)\u001b[0m\u001b[0;34m\u001b[0m\u001b[0;34m\u001b[0m\u001b[0m\n",
      "\u001b[0;32m/usr/local/lib/python3.6/dist-packages/xlrd/book.py\u001b[0m in \u001b[0;36mgetbof\u001b[0;34m(self, rqd_stream)\u001b[0m\n\u001b[1;32m   1269\u001b[0m             \u001b[0mbof_error\u001b[0m\u001b[0;34m(\u001b[0m\u001b[0;34m'Expected BOF record; met end of file'\u001b[0m\u001b[0;34m)\u001b[0m\u001b[0;34m\u001b[0m\u001b[0;34m\u001b[0m\u001b[0m\n\u001b[1;32m   1270\u001b[0m         \u001b[0;32mif\u001b[0m \u001b[0mopcode\u001b[0m \u001b[0;32mnot\u001b[0m \u001b[0;32min\u001b[0m \u001b[0mbofcodes\u001b[0m\u001b[0;34m:\u001b[0m\u001b[0;34m\u001b[0m\u001b[0;34m\u001b[0m\u001b[0m\n\u001b[0;32m-> 1271\u001b[0;31m             \u001b[0mbof_error\u001b[0m\u001b[0;34m(\u001b[0m\u001b[0;34m'Expected BOF record; found %r'\u001b[0m \u001b[0;34m%\u001b[0m \u001b[0mself\u001b[0m\u001b[0;34m.\u001b[0m\u001b[0mmem\u001b[0m\u001b[0;34m[\u001b[0m\u001b[0msavpos\u001b[0m\u001b[0;34m:\u001b[0m\u001b[0msavpos\u001b[0m\u001b[0;34m+\u001b[0m\u001b[0;36m8\u001b[0m\u001b[0;34m]\u001b[0m\u001b[0;34m)\u001b[0m\u001b[0;34m\u001b[0m\u001b[0;34m\u001b[0m\u001b[0m\n\u001b[0m\u001b[1;32m   1272\u001b[0m         \u001b[0mlength\u001b[0m \u001b[0;34m=\u001b[0m \u001b[0mself\u001b[0m\u001b[0;34m.\u001b[0m\u001b[0mget2bytes\u001b[0m\u001b[0;34m(\u001b[0m\u001b[0;34m)\u001b[0m\u001b[0;34m\u001b[0m\u001b[0;34m\u001b[0m\u001b[0m\n\u001b[1;32m   1273\u001b[0m         \u001b[0;32mif\u001b[0m \u001b[0mlength\u001b[0m \u001b[0;34m==\u001b[0m \u001b[0mMY_EOF\u001b[0m\u001b[0;34m:\u001b[0m\u001b[0;34m\u001b[0m\u001b[0;34m\u001b[0m\u001b[0m\n",
      "\u001b[0;32m/usr/local/lib/python3.6/dist-packages/xlrd/book.py\u001b[0m in \u001b[0;36mbof_error\u001b[0;34m(msg)\u001b[0m\n\u001b[1;32m   1263\u001b[0m         \u001b[0;32mif\u001b[0m \u001b[0mDEBUG\u001b[0m\u001b[0;34m:\u001b[0m \u001b[0mprint\u001b[0m\u001b[0;34m(\u001b[0m\u001b[0;34m\"reqd: 0x%04x\"\u001b[0m \u001b[0;34m%\u001b[0m \u001b[0mrqd_stream\u001b[0m\u001b[0;34m,\u001b[0m \u001b[0mfile\u001b[0m\u001b[0;34m=\u001b[0m\u001b[0mself\u001b[0m\u001b[0;34m.\u001b[0m\u001b[0mlogfile\u001b[0m\u001b[0;34m)\u001b[0m\u001b[0;34m\u001b[0m\u001b[0;34m\u001b[0m\u001b[0m\n\u001b[1;32m   1264\u001b[0m         \u001b[0;32mdef\u001b[0m \u001b[0mbof_error\u001b[0m\u001b[0;34m(\u001b[0m\u001b[0mmsg\u001b[0m\u001b[0;34m)\u001b[0m\u001b[0;34m:\u001b[0m\u001b[0;34m\u001b[0m\u001b[0;34m\u001b[0m\u001b[0m\n\u001b[0;32m-> 1265\u001b[0;31m             \u001b[0;32mraise\u001b[0m \u001b[0mXLRDError\u001b[0m\u001b[0;34m(\u001b[0m\u001b[0;34m'Unsupported format, or corrupt file: '\u001b[0m \u001b[0;34m+\u001b[0m \u001b[0mmsg\u001b[0m\u001b[0;34m)\u001b[0m\u001b[0;34m\u001b[0m\u001b[0;34m\u001b[0m\u001b[0m\n\u001b[0m\u001b[1;32m   1266\u001b[0m         \u001b[0msavpos\u001b[0m \u001b[0;34m=\u001b[0m \u001b[0mself\u001b[0m\u001b[0;34m.\u001b[0m\u001b[0m_position\u001b[0m\u001b[0;34m\u001b[0m\u001b[0;34m\u001b[0m\u001b[0m\n\u001b[1;32m   1267\u001b[0m         \u001b[0mopcode\u001b[0m \u001b[0;34m=\u001b[0m \u001b[0mself\u001b[0m\u001b[0;34m.\u001b[0m\u001b[0mget2bytes\u001b[0m\u001b[0;34m(\u001b[0m\u001b[0;34m)\u001b[0m\u001b[0;34m\u001b[0m\u001b[0;34m\u001b[0m\u001b[0m\n",
      "\u001b[0;31mXLRDError\u001b[0m: Unsupported format, or corrupt file: Expected BOF record; found b'\\tLee Dow'"
     ]
    }
   ],
   "source": [
    "# base12.py (all workbooks)\n",
    "from xlrd import open_workbook, xldate_as_tuple\n",
    "from xlwt import Workbook\n",
    "from datetime import date\n",
    "import glob, os, sys\n",
    "\n",
    "input_folder = 'input'\n",
    "output_file = 'output12.xls'\n",
    "\n",
    "output_workbook = Workbook()\n",
    "output_worksheet = output_workbook.add_sheet('all_data_all_worksheets')\n",
    "\n",
    "data = []\n",
    "first_sheet = True\n",
    "for input_file in glob.glob(os.path.join(input_folder, '*.xls*')):\n",
    "    with open_workbook(input_file) as workbook:\n",
    "        for worksheet in workbook.sheets():\n",
    "            if first_sheet:\n",
    "                header_row = worksheet.row_values(0)\n",
    "                data.append(header_row)\n",
    "                first_sheet = False\n",
    "            for row_index in range(1, worksheet.nrows):\n",
    "                row_info = []\n",
    "                for col_index in range(worksheet.ncols):\n",
    "                    cell_value = worksheet.cell_value(row_index, col_index)\n",
    "                    cell_type = worksheet.cell_type(row_index, col_index)\n",
    "\n",
    "                    if cell_type == 3: # 날짜데이터형식\n",
    "                        date_cell = xldate_as_tuple(cell_value, workbook.datemode) # (2017, 1, 1, 0, 0, 0)\n",
    "                        date_cell = date(*date_cell[0:3]).strftime('%m/%d/%Y')\n",
    "                        row_info.append(date_cell)\n",
    "                    else:\n",
    "                        row_info.append(cell_value)\n",
    "                data.append(row_info) \n",
    "        \n",
    "for row_index, row_info in enumerate(data):\n",
    "    for col_index, value in enumerate(row_info):\n",
    "        output_worksheet.write(row_index, col_index, value)\n",
    "\n",
    "output_workbook.save(output_file)\n",
    "print('basic12.py executed')"
   ]
  },
  {
   "cell_type": "code",
   "execution_count": 33,
   "metadata": {
    "colab": {
     "base_uri": "https://localhost:8080/",
     "height": 390
    },
    "colab_type": "code",
    "executionInfo": {
     "elapsed": 1428,
     "status": "error",
     "timestamp": 1599040346723,
     "user": {
      "displayName": "강주현",
      "photoUrl": "https://lh3.googleusercontent.com/a-/AOh14GhI6eR4X0pU-wyWD_lrneGGkf4JwhmGDwx7Dopr=s64",
      "userId": "12298000088270855699"
     },
     "user_tz": -540
    },
    "id": "kwu6NSAoB_Y_",
    "outputId": "3959bce1-6d52-4bd4-b35f-8a3f58809d5d"
   },
   "outputs": [
    {
     "ename": "XLRDError",
     "evalue": "ignored",
     "output_type": "error",
     "traceback": [
      "\u001b[0;31m---------------------------------------------------------------------------\u001b[0m",
      "\u001b[0;31mXLRDError\u001b[0m                                 Traceback (most recent call last)",
      "\u001b[0;32m<ipython-input-33-cafad7cbf10e>\u001b[0m in \u001b[0;36m<module>\u001b[0;34m()\u001b[0m\n\u001b[1;32m     17\u001b[0m \u001b[0;34m\u001b[0m\u001b[0m\n\u001b[1;32m     18\u001b[0m \u001b[0;32mfor\u001b[0m \u001b[0minput_file\u001b[0m \u001b[0;32min\u001b[0m \u001b[0mglob\u001b[0m\u001b[0;34m.\u001b[0m\u001b[0mglob\u001b[0m\u001b[0;34m(\u001b[0m\u001b[0mos\u001b[0m\u001b[0;34m.\u001b[0m\u001b[0mpath\u001b[0m\u001b[0;34m.\u001b[0m\u001b[0mjoin\u001b[0m\u001b[0;34m(\u001b[0m\u001b[0minput_folder\u001b[0m\u001b[0;34m,\u001b[0m \u001b[0;34m'*.xls*'\u001b[0m\u001b[0;34m)\u001b[0m\u001b[0;34m)\u001b[0m\u001b[0;34m:\u001b[0m\u001b[0;34m\u001b[0m\u001b[0;34m\u001b[0m\u001b[0m\n\u001b[0;32m---> 19\u001b[0;31m     \u001b[0;32mwith\u001b[0m \u001b[0mopen_workbook\u001b[0m\u001b[0;34m(\u001b[0m\u001b[0minput_file\u001b[0m\u001b[0;34m)\u001b[0m \u001b[0;32mas\u001b[0m \u001b[0mworkbook\u001b[0m\u001b[0;34m:\u001b[0m\u001b[0;34m\u001b[0m\u001b[0;34m\u001b[0m\u001b[0m\n\u001b[0m\u001b[1;32m     20\u001b[0m         \u001b[0mlist_of_totals\u001b[0m \u001b[0;34m=\u001b[0m \u001b[0;34m[\u001b[0m\u001b[0;34m]\u001b[0m\u001b[0;34m\u001b[0m\u001b[0;34m\u001b[0m\u001b[0m\n\u001b[1;32m     21\u001b[0m         \u001b[0mlist_of_numbers\u001b[0m \u001b[0;34m=\u001b[0m \u001b[0;34m[\u001b[0m\u001b[0;34m]\u001b[0m\u001b[0;34m\u001b[0m\u001b[0;34m\u001b[0m\u001b[0m\n",
      "\u001b[0;32m/usr/local/lib/python3.6/dist-packages/xlrd/__init__.py\u001b[0m in \u001b[0;36mopen_workbook\u001b[0;34m(filename, logfile, verbosity, use_mmap, file_contents, encoding_override, formatting_info, on_demand, ragged_rows)\u001b[0m\n\u001b[1;32m    160\u001b[0m         \u001b[0mformatting_info\u001b[0m\u001b[0;34m=\u001b[0m\u001b[0mformatting_info\u001b[0m\u001b[0;34m,\u001b[0m\u001b[0;34m\u001b[0m\u001b[0;34m\u001b[0m\u001b[0m\n\u001b[1;32m    161\u001b[0m         \u001b[0mon_demand\u001b[0m\u001b[0;34m=\u001b[0m\u001b[0mon_demand\u001b[0m\u001b[0;34m,\u001b[0m\u001b[0;34m\u001b[0m\u001b[0;34m\u001b[0m\u001b[0m\n\u001b[0;32m--> 162\u001b[0;31m         \u001b[0mragged_rows\u001b[0m\u001b[0;34m=\u001b[0m\u001b[0mragged_rows\u001b[0m\u001b[0;34m,\u001b[0m\u001b[0;34m\u001b[0m\u001b[0;34m\u001b[0m\u001b[0m\n\u001b[0m\u001b[1;32m    163\u001b[0m         )\n\u001b[1;32m    164\u001b[0m     \u001b[0;32mreturn\u001b[0m \u001b[0mbk\u001b[0m\u001b[0;34m\u001b[0m\u001b[0;34m\u001b[0m\u001b[0m\n",
      "\u001b[0;32m/usr/local/lib/python3.6/dist-packages/xlrd/book.py\u001b[0m in \u001b[0;36mopen_workbook_xls\u001b[0;34m(filename, logfile, verbosity, use_mmap, file_contents, encoding_override, formatting_info, on_demand, ragged_rows)\u001b[0m\n\u001b[1;32m     89\u001b[0m         \u001b[0mt1\u001b[0m \u001b[0;34m=\u001b[0m \u001b[0mtime\u001b[0m\u001b[0;34m.\u001b[0m\u001b[0mclock\u001b[0m\u001b[0;34m(\u001b[0m\u001b[0;34m)\u001b[0m\u001b[0;34m\u001b[0m\u001b[0;34m\u001b[0m\u001b[0m\n\u001b[1;32m     90\u001b[0m         \u001b[0mbk\u001b[0m\u001b[0;34m.\u001b[0m\u001b[0mload_time_stage_1\u001b[0m \u001b[0;34m=\u001b[0m \u001b[0mt1\u001b[0m \u001b[0;34m-\u001b[0m \u001b[0mt0\u001b[0m\u001b[0;34m\u001b[0m\u001b[0;34m\u001b[0m\u001b[0m\n\u001b[0;32m---> 91\u001b[0;31m         \u001b[0mbiff_version\u001b[0m \u001b[0;34m=\u001b[0m \u001b[0mbk\u001b[0m\u001b[0;34m.\u001b[0m\u001b[0mgetbof\u001b[0m\u001b[0;34m(\u001b[0m\u001b[0mXL_WORKBOOK_GLOBALS\u001b[0m\u001b[0;34m)\u001b[0m\u001b[0;34m\u001b[0m\u001b[0;34m\u001b[0m\u001b[0m\n\u001b[0m\u001b[1;32m     92\u001b[0m         \u001b[0;32mif\u001b[0m \u001b[0;32mnot\u001b[0m \u001b[0mbiff_version\u001b[0m\u001b[0;34m:\u001b[0m\u001b[0;34m\u001b[0m\u001b[0;34m\u001b[0m\u001b[0m\n\u001b[1;32m     93\u001b[0m             \u001b[0;32mraise\u001b[0m \u001b[0mXLRDError\u001b[0m\u001b[0;34m(\u001b[0m\u001b[0;34m\"Can't determine file's BIFF version\"\u001b[0m\u001b[0;34m)\u001b[0m\u001b[0;34m\u001b[0m\u001b[0;34m\u001b[0m\u001b[0m\n",
      "\u001b[0;32m/usr/local/lib/python3.6/dist-packages/xlrd/book.py\u001b[0m in \u001b[0;36mgetbof\u001b[0;34m(self, rqd_stream)\u001b[0m\n\u001b[1;32m   1269\u001b[0m             \u001b[0mbof_error\u001b[0m\u001b[0;34m(\u001b[0m\u001b[0;34m'Expected BOF record; met end of file'\u001b[0m\u001b[0;34m)\u001b[0m\u001b[0;34m\u001b[0m\u001b[0;34m\u001b[0m\u001b[0m\n\u001b[1;32m   1270\u001b[0m         \u001b[0;32mif\u001b[0m \u001b[0mopcode\u001b[0m \u001b[0;32mnot\u001b[0m \u001b[0;32min\u001b[0m \u001b[0mbofcodes\u001b[0m\u001b[0;34m:\u001b[0m\u001b[0;34m\u001b[0m\u001b[0;34m\u001b[0m\u001b[0m\n\u001b[0;32m-> 1271\u001b[0;31m             \u001b[0mbof_error\u001b[0m\u001b[0;34m(\u001b[0m\u001b[0;34m'Expected BOF record; found %r'\u001b[0m \u001b[0;34m%\u001b[0m \u001b[0mself\u001b[0m\u001b[0;34m.\u001b[0m\u001b[0mmem\u001b[0m\u001b[0;34m[\u001b[0m\u001b[0msavpos\u001b[0m\u001b[0;34m:\u001b[0m\u001b[0msavpos\u001b[0m\u001b[0;34m+\u001b[0m\u001b[0;36m8\u001b[0m\u001b[0;34m]\u001b[0m\u001b[0;34m)\u001b[0m\u001b[0;34m\u001b[0m\u001b[0;34m\u001b[0m\u001b[0m\n\u001b[0m\u001b[1;32m   1272\u001b[0m         \u001b[0mlength\u001b[0m \u001b[0;34m=\u001b[0m \u001b[0mself\u001b[0m\u001b[0;34m.\u001b[0m\u001b[0mget2bytes\u001b[0m\u001b[0;34m(\u001b[0m\u001b[0;34m)\u001b[0m\u001b[0;34m\u001b[0m\u001b[0;34m\u001b[0m\u001b[0m\n\u001b[1;32m   1273\u001b[0m         \u001b[0;32mif\u001b[0m \u001b[0mlength\u001b[0m \u001b[0;34m==\u001b[0m \u001b[0mMY_EOF\u001b[0m\u001b[0;34m:\u001b[0m\u001b[0;34m\u001b[0m\u001b[0;34m\u001b[0m\u001b[0m\n",
      "\u001b[0;32m/usr/local/lib/python3.6/dist-packages/xlrd/book.py\u001b[0m in \u001b[0;36mbof_error\u001b[0;34m(msg)\u001b[0m\n\u001b[1;32m   1263\u001b[0m         \u001b[0;32mif\u001b[0m \u001b[0mDEBUG\u001b[0m\u001b[0;34m:\u001b[0m \u001b[0mprint\u001b[0m\u001b[0;34m(\u001b[0m\u001b[0;34m\"reqd: 0x%04x\"\u001b[0m \u001b[0;34m%\u001b[0m \u001b[0mrqd_stream\u001b[0m\u001b[0;34m,\u001b[0m \u001b[0mfile\u001b[0m\u001b[0;34m=\u001b[0m\u001b[0mself\u001b[0m\u001b[0;34m.\u001b[0m\u001b[0mlogfile\u001b[0m\u001b[0;34m)\u001b[0m\u001b[0;34m\u001b[0m\u001b[0;34m\u001b[0m\u001b[0m\n\u001b[1;32m   1264\u001b[0m         \u001b[0;32mdef\u001b[0m \u001b[0mbof_error\u001b[0m\u001b[0;34m(\u001b[0m\u001b[0mmsg\u001b[0m\u001b[0;34m)\u001b[0m\u001b[0;34m:\u001b[0m\u001b[0;34m\u001b[0m\u001b[0;34m\u001b[0m\u001b[0m\n\u001b[0;32m-> 1265\u001b[0;31m             \u001b[0;32mraise\u001b[0m \u001b[0mXLRDError\u001b[0m\u001b[0;34m(\u001b[0m\u001b[0;34m'Unsupported format, or corrupt file: '\u001b[0m \u001b[0;34m+\u001b[0m \u001b[0mmsg\u001b[0m\u001b[0;34m)\u001b[0m\u001b[0;34m\u001b[0m\u001b[0;34m\u001b[0m\u001b[0m\n\u001b[0m\u001b[1;32m   1266\u001b[0m         \u001b[0msavpos\u001b[0m \u001b[0;34m=\u001b[0m \u001b[0mself\u001b[0m\u001b[0;34m.\u001b[0m\u001b[0m_position\u001b[0m\u001b[0;34m\u001b[0m\u001b[0;34m\u001b[0m\u001b[0m\n\u001b[1;32m   1267\u001b[0m         \u001b[0mopcode\u001b[0m \u001b[0;34m=\u001b[0m \u001b[0mself\u001b[0m\u001b[0;34m.\u001b[0m\u001b[0mget2bytes\u001b[0m\u001b[0;34m(\u001b[0m\u001b[0;34m)\u001b[0m\u001b[0;34m\u001b[0m\u001b[0;34m\u001b[0m\u001b[0m\n",
      "\u001b[0;31mXLRDError\u001b[0m: Unsupported format, or corrupt file: Expected BOF record; found b'\\tLee Dow'"
     ]
    }
   ],
   "source": [
    "# base13.py (all workbooks)\n",
    "from xlrd import open_workbook, xldate_as_tuple\n",
    "from xlwt import Workbook\n",
    "from datetime import date\n",
    "import glob, os, sys\n",
    "\n",
    "input_folder = ''\n",
    "output_file = 'output13.xls'\n",
    "\n",
    "output_workbook = Workbook()\n",
    "output_worksheet = output_workbook.add_sheet('sums_and_averages')\n",
    "\n",
    "all_data = []\n",
    "sales_column_index = 3\n",
    "header = ['workbook', 'worksheet', 'worksheet_total', 'worksheet_average', \\\n",
    "            'workbook_total', 'workbook_average']\n",
    "all_data.append(header)\n",
    "\n",
    "for input_file in glob.glob(os.path.join(input_folder, '*.xls*')):\n",
    "    with open_workbook(input_file) as workbook:\n",
    "        list_of_totals = []\n",
    "        list_of_numbers = []\n",
    "        workbook_output = []\n",
    "        \n",
    "        for worksheet in workbook.sheets():\n",
    "            total_sales = 0\n",
    "            number_of_sales = 0\n",
    "            worksheet_list = []\n",
    "            worksheet_list.append(os.path.basename(input_file))\n",
    "            worksheet_list.append(worksheet.name)\n",
    "            for row_index in range(1, worksheet.nrows):\n",
    "                total_sales += float(str(worksheet.cell_value(row_index, sales_column_index)).strip('$').replace(',', ''))\n",
    "                number_of_sales += 1\n",
    "\n",
    "            average_sales = '%.2f' % (total_sales / number_of_sales)\n",
    "            worksheet_list.append(total_sales)\n",
    "            worksheet_list.append(float(average_sales))\n",
    "            list_of_totals.append(total_sales)\n",
    "            list_of_numbers.append(number_of_sales)\n",
    "            workbook_output.append(worksheet_list)\n",
    "\n",
    "        workbook_total = sum(list_of_totals)\n",
    "        workbook_average = sum(list_of_totals) / sum(list_of_numbers)\n",
    "\n",
    "        for list_element in workbook_output:\n",
    "            list_element.append(workbook_total)\n",
    "            list_element.append(workbook_average)\n",
    "            \n",
    "        all_data.extend(workbook_output)\n",
    "\n",
    "for row_index, row_info in enumerate(all_data):\n",
    "    for col_index, value in enumerate(row_info):\n",
    "        output_worksheet.write(row_index, col_index, value)\n",
    "\n",
    "output_workbook.save(output_file)\n",
    "print('basic13.py executed')"
   ]
  },
  {
   "cell_type": "code",
   "execution_count": null,
   "metadata": {
    "colab": {},
    "colab_type": "code",
    "id": "ePOy6CtoDvIB"
   },
   "outputs": [],
   "source": [
    "# pandas02.py\n",
    "import pandas as pd\n",
    "import os\n",
    "\n",
    "_dir = os.path.dirname(os.path.realpath(__file__))\n",
    "\n",
    "input_file = _dir + '/input/sales_2017.xlsx'\n",
    "output_file = _dir + '/output/pandas_output02.xls'\n",
    "\n",
    "df = pd.read_excel(input_file, sheet_name='january_2017')\n",
    "new_df = df[df['Sale Amount'].astype(float) > 1400.0]\n",
    "\n",
    "writer = pd.ExcelWriter(output_file)\n",
    "new_df.to_excel(writer, sheet_name='jan_17_output', index=False)\n",
    "writer.save()\n",
    "print(\"pandas02.py executed\")"
   ]
  },
  {
   "cell_type": "code",
   "execution_count": null,
   "metadata": {
    "colab": {},
    "colab_type": "code",
    "id": "QIIjgr2aVbU-"
   },
   "outputs": [],
   "source": [
    "# pandas04.py\n",
    "import pandas as pd\n",
    "import os\n",
    "\n",
    "_dir = os.path.dirname(os.path.realpath(__file__))\n",
    "\n",
    "input_file = _dir + '/input/sales_2017.xlsx'\n",
    "output_file = _dir + '/output/pandas_output04.xls'\n",
    "\n",
    "df = pd.read_excel(input_file, sheet_name='january_2017')\n",
    "\n",
    "new_df = df[df['Customer Name'].str.startswith('J')]\n",
    "print(new_df)\n",
    "\n",
    "writer = pd.ExcelWriter(output_file)\n",
    "new_df.to_excel(writer, sheet_name='jan_17_output', index=False)\n",
    "writer.save()\n",
    "print(\"pandas04.py executed\")"
   ]
  },
  {
   "cell_type": "code",
   "execution_count": null,
   "metadata": {
    "colab": {},
    "colab_type": "code",
    "id": "RXExDpo2VbuW"
   },
   "outputs": [],
   "source": [
    "import pandas as pd\n",
    "import sys\n",
    "\n",
    "input_file = 'input/sales_2017.xlsx'\n",
    "output_file = 'output/pandas_output05.xls'\n",
    "\n",
    "data_frame = pd.read_excel(input_file, 'january_2017', index_col=None)\n",
    "\n",
    "data_frame_column_by_index = data_frame.iloc[:, [1, 4]]\n",
    "\n",
    "writer = pd.ExcelWriter(output_file)\n",
    "data_frame_column_by_index.to_excel(writer, sheet_name='jan_17_output', index=False)\n",
    "writer.save()\n",
    "print(\"pandas05.py executed\")"
   ]
  },
  {
   "cell_type": "code",
   "execution_count": null,
   "metadata": {
    "colab": {},
    "colab_type": "code",
    "id": "iegprfbuVbxN"
   },
   "outputs": [],
   "source": [
    "# pandas05.py\n",
    "import pandas as pd\n",
    "\n",
    "input_file = 'input/sales_2017.xlsx'\n",
    "output_file = 'output/pandas_output06.xls'\n",
    "\n",
    "df = pd.read_excel(input_file, sheet_name='january_2017')\n",
    "\n",
    "# new_df = df[df['Customer Name'].str.startswith('J')]\n",
    "# new_df = df.iloc[:,[1,4]]\n",
    "new_df = df.loc[:, ['Customer ID', 'Customer Name', 'Purchase Date']]\n",
    "\n",
    "print(new_df)\n",
    "\n",
    "writer = pd.ExcelWriter(output_file)\n",
    "new_df.to_excel(writer, sheet_name='jan_17_output', index=False)\n",
    "writer.save()\n",
    "print(\"pandas06.py executed\")"
   ]
  },
  {
   "cell_type": "code",
   "execution_count": null,
   "metadata": {
    "colab": {},
    "colab_type": "code",
    "id": "x68m55daVbs_"
   },
   "outputs": [],
   "source": [
    "# pandas06.py\n",
    "import pandas as pd\n",
    "\n",
    "import os\n",
    "\n",
    "_dir = os.path.dirname(os.path.realpath(__file__))\n",
    "\n",
    "input_file = _dir + '/input/sales_2017.xlsx'\n",
    "output_file = _dir + '/output/pandas_output07.xls'\n",
    "\n",
    "df = pd.read_excel(input_file, sheet_name=None)\n",
    "\n",
    "row_output = []\n",
    "for worksheet_name, data_frame in df.items():\n",
    "    row_output.append(data_frame[data_frame['Sale Amount'].replace('$', '').replace(',','').astype(float) > 2000.0])\n",
    "\n",
    "new_df = pd.concat(row_output, axis=0, ignore_index=True)\n",
    "print(new_df)\n",
    "\n",
    "writer = pd.ExcelWriter(output_file)\n",
    "new_df.to_excel(writer, sheet_name='sale_amount', index=False)\n",
    "writer.save()\n",
    "print(\"pandas07.py executed\")"
   ]
  },
  {
   "cell_type": "code",
   "execution_count": null,
   "metadata": {
    "colab": {},
    "colab_type": "code",
    "id": "T9C3Oy_CVbsH"
   },
   "outputs": [],
   "source": [
    "\n",
    "import pandas as pd\n",
    "\n",
    "import os\n",
    "\n",
    "_dir = os.path.dirname(os.path.realpath(__file__))\n",
    "\n",
    "input_file = _dir + '/input/sales_2017.xlsx'\n",
    "output_file = _dir + '/output/pandas_output08.xls'\n",
    "\n",
    "data_frame = pd.read_excel(input_file, sheet_name=None, index_col=None)\n",
    "\n",
    "column_output = []\n",
    "for worksheet_name, data in data_frame.items():\n",
    "\tcolumn_output.append(data.loc[:, ['Customer Name', 'Sale Amount']])\n",
    "selected_columns = pd.concat(column_output, axis=0, ignore_index=True)\n",
    "print(selected_columns)\n",
    "\n",
    "writer = pd.ExcelWriter(output_file)\n",
    "selected_columns.to_excel(writer, sheet_name='selected_columns_all_worksheets', index=False)\n",
    "writer.save()\n",
    "print(\"pandas08.py executed\")"
   ]
  },
  {
   "cell_type": "code",
   "execution_count": null,
   "metadata": {
    "colab": {},
    "colab_type": "code",
    "id": "NU0Atx4IVbrQ"
   },
   "outputs": [],
   "source": [
    "import pandas as pd\n",
    "\n",
    "input_file = 'input/sales_2017.xlsx'\n",
    "output_file = 'output/pandas_output09.xls'\n",
    "\n",
    "my_sheets = [0, 1]\n",
    "threshold = 1900.0\n",
    "\n",
    "data_frame = pd.read_excel(input_file, sheet_name=my_sheets, index_col=None)\n",
    "\n",
    "row_list = []\n",
    "for worksheet_name, data in data_frame.items():\n",
    "\ttempAmt = data['Sale Amount'].replace('$', '').replace(',', '').astype(float)\n",
    "\trow_list.append(data[ tempAmt > threshold ])\n",
    "\t\n",
    "filtered_rows = pd.concat(row_list, axis=0, ignore_index=True)\n",
    "\n",
    "writer = pd.ExcelWriter(output_file)\n",
    "filtered_rows.to_excel(writer, sheet_name='set_of_worksheets', index=False)\n",
    "writer.save()\n",
    "print(\"pandas09.py executed\")"
   ]
  },
  {
   "cell_type": "code",
   "execution_count": null,
   "metadata": {
    "colab": {},
    "colab_type": "code",
    "id": "cV66Lqu4Vbqb"
   },
   "outputs": [],
   "source": [
    "import pandas as pd\n",
    "import glob\n",
    "import os\n",
    "\n",
    "_dir = os.path.dirname(os.path.realpath(__file__))\n",
    "\n",
    "input_path = _dir + '/input'\n",
    "output_file = _dir + '/output/pandas_output10.xls'\n",
    "\n",
    "all_workbooks = glob.glob(os.path.join(input_path,'*.xls*'))\n",
    "data_frames = []\n",
    "for workbook in all_workbooks:\n",
    "\tall_worksheets = pd.read_excel(workbook, sheet_name=None, index_col=None)\n",
    "\tfor worksheet_name, data in all_worksheets.items():\n",
    "\t\tdata_frames.append(data)\n",
    "\n",
    "all_data_concatenated = pd.concat(data_frames, axis=1, ignore_index=True)\n",
    "print(all_data_concatenated)\n",
    "\n",
    "writer = pd.ExcelWriter(output_file)\n",
    "all_data_concatenated.to_excel(writer, sheet_name='all_data_all_workbooks', index=False)\n",
    "writer.save()\n",
    "print(\"pandas10.py executed\")"
   ]
  },
  {
   "cell_type": "code",
   "execution_count": null,
   "metadata": {
    "colab": {},
    "colab_type": "code",
    "id": "sEgKxgryVbZj"
   },
   "outputs": [],
   "source": [
    "import pandas as pd\n",
    "\n",
    "member_list = {\n",
    "    '고객번호': [1001, 1002, 1003, 1004, 1005, 1006, 1007],\n",
    "    '이름': ['AAA', 'BBB', 'CCC', 'DDD', 'EEE', 'FFF', 'GGG']\n",
    "}\n",
    "\n",
    "transaction_list = {\n",
    "    '고객번호': [1001, 1001, 1005, 1006, 1008, 1001],\n",
    "    '금액': [10000, 20000, 15000, 5000, 100000, 30000]\n",
    "}\n",
    "\n",
    "member_df = pd.DataFrame(member_list, columns=['고객번호', '이름'])\n",
    "member_df = member_df.drop([0,3])\n",
    "print(member_df)\n",
    "member_df = member_df.reset_index(drop=True)\n",
    "print(member_df)\n",
    "transaction_df = pd.DataFrame(transaction_list, columns=['고객번호', '금액'])\n",
    "print(transaction_df)\n",
    "\n",
    "inner_result = pd.merge(member_df, transaction_df)\n",
    "print(inner_result)\n",
    "print(\"-------------\")\n",
    "outer_result = pd.merge(member_df, transaction_df, how='outer')\n",
    "print(outer_result)"
   ]
  }
 ],
 "metadata": {
  "colab": {
   "authorship_tag": "ABX9TyMZuhTAyiFHBAKvjx19ISux",
   "collapsed_sections": [],
   "name": "09.basic.ipynb",
   "provenance": []
  },
  "kernelspec": {
   "display_name": "Python 3",
   "language": "python",
   "name": "python3"
  },
  "language_info": {
   "codemirror_mode": {
    "name": "ipython",
    "version": 3
   },
   "file_extension": ".py",
   "mimetype": "text/x-python",
   "name": "python",
   "nbconvert_exporter": "python",
   "pygments_lexer": "ipython3",
   "version": "3.8.5"
  }
 },
 "nbformat": 4,
 "nbformat_minor": 1
}
