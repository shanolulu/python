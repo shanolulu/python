{
 "cells": [
  {
   "cell_type": "markdown",
   "metadata": {},
   "source": [
    "C:\\Python38\\Lib 위치에 모듈들이 정의되어 있음 (window)\n",
    "import math # 수식\n",
    "import random # 난수\n",
    "import os # 시스템에서 받아오는 정보로, C언어로 되어있지만, python에서 이용할 수 있도록\n",
    "import datetime # 날짜 관련\n",
    "import time # 시간 관련\n",
    "import urllib # 인터넷 주소"
   ]
  },
  {
   "cell_type": "code",
   "execution_count": 5,
   "metadata": {},
   "outputs": [
    {
     "name": "stdout",
     "output_type": "stream",
     "text": [
      "3 4 4\n",
      "2\n"
     ]
    }
   ],
   "source": [
    "import math\n",
    "# floor 내림, ceil 올림\n",
    "print(math.floor(3.6), math.ceil(3.6), math.ceil(3.2))\n",
    "# 반올림은 기존 파이썬에 내장된 함수를 사용\n",
    "print(round(2.5))"
   ]
  },
  {
   "cell_type": "code",
   "execution_count": 12,
   "metadata": {},
   "outputs": [
    {
     "name": "stdout",
     "output_type": "stream",
     "text": [
      "- random(): 0.9635190215823141\n",
      "- uniform(10, 20): 17.454059983053362\n",
      "- randrange(10) 6\n"
     ]
    }
   ],
   "source": [
    "import random\n",
    "\n",
    "# random: 0.0 <= x < 1.0 사이의 float타입 x를 리턴\n",
    "print('- random():', random.random())\n",
    "\n",
    "# uniform(min, max): 범위의 float타입 x를 리턴\n",
    "print('- uniform(10, 20):', random.uniform(10, 20))\n",
    "\n",
    "# 지정 범위의 int 값을 리턴\n",
    "# randrange(max): 0~max 사이의 값 리턴\n",
    "# randrange(min, max): min~max 사이의 값 출력\n",
    "print('- randrange(10)', random.randrange(10))"
   ]
  },
  {
   "cell_type": "code",
   "execution_count": 16,
   "metadata": {
    "scrolled": true
   },
   "outputs": [
    {
     "name": "stdout",
     "output_type": "stream",
     "text": [
      "name >>  posix\n",
      "getcwd >>  <built-in function getcwd>\n",
      "list >>  ['.DS_Store', '.localized', 'python_module.ipynb', '파일 관리.ipynb', 'Git Upload', 'Desktop', '.ipynb_checkpoints', '정리할 애들']\n"
     ]
    }
   ],
   "source": [
    "# 파일을 다루는데 사용 ( 유닉스 명령어를 생각하면 좋을듯 하다. )\n",
    "import os\n",
    "\n",
    "print('name >> ', os.name) # 현재 운영체제 출력\n",
    "print('getcwd >> ', os.getcwd) # 현재 폴더 이름 얻어옴\n",
    "print('list >> ', os.listdir()) # 폴더의 내부요소\n",
    "# 폴더 제작 및 삭제\n",
    "os.mkdir('hello')\n",
    "os.rmdir('hello')"
   ]
  },
  {
   "cell_type": "code",
   "execution_count": 17,
   "metadata": {},
   "outputs": [],
   "source": [
    "# 파일을 생성 + 이름 수정\n",
    "import os\n",
    "with open('origin.txt', 'w') as file:\n",
    "    file.write('hello')\n",
    "os.rename('original.txt', 'rename.txt')\n"
   ]
  },
  {
   "cell_type": "code",
   "execution_count": 18,
   "metadata": {},
   "outputs": [
    {
     "name": "stdout",
     "output_type": "stream",
     "text": [
      "현재 시간은 2021년 4월 2일 21시 59분 13초입니다.\n",
      "====================================================\n",
      "월을 입력해주세요: 12\n",
      "12월의 날짜는 31일까지 있습니다.\n",
      "12월은 겨울입니다.\n"
     ]
    }
   ],
   "source": [
    "# datetime\n",
    "import datetime\n",
    "\n",
    "now = datetime.datetime.now()\n",
    "y = now.year\n",
    "m = now.month\n",
    "d = now.day\n",
    "h = now.hour\n",
    "mi = now.minute\n",
    "s = now.second\n",
    "\n",
    "print('현재 시간은 {0}년 {1}월 {2}일 {3}시 {4}분 {5}초입니다.'.format(y, m, d, h, mi, s))\n",
    "# m = now.month\n",
    "print('====================================================')\n",
    "m = int(input('월을 입력해주세요: '))\n",
    "if m==1 or m==3 or m==5 or m==7 or m ==8 or m ==10 or m==12:\n",
    "    print('{0}월의 날짜는 31일까지 있습니다.'.format(m))\n",
    "elif m==4 or m==6 or m==9 or m==11:\n",
    "    print('{0}월의 날짜는 30일까지 있습니다.'.format(m))\n",
    "elif m==2:\n",
    "    print('{0}월의 날짜는 28일까지 있습니다.'.format(m))\n",
    "else:\n",
    "    print('월은 1~12까지만 존재합니다.')\n",
    "\n",
    "if m==12 or m==1 or m==2:\n",
    "    print('{0}월은 겨울입니다.'.format(m))\n",
    "elif m==3 or m==4 or m==5:\n",
    "    print('{0}월은 봄입니다.'.format(m))\n",
    "elif m==6 or m==7 or m==8:\n",
    "    print('{0}월은 여름입니다.'.format(m))\n",
    "elif m==9 or m==10 or m==11:\n",
    "    print('{0}월은 가을입니다.'.format(m))"
   ]
  },
  {
   "cell_type": "code",
   "execution_count": 21,
   "metadata": {},
   "outputs": [
    {
     "name": "stdout",
     "output_type": "stream",
     "text": [
      "2021-04-02 21:59:13\n",
      "2021년-04월-02일 21시:59분:13초\n",
      "2021-04-10 23:00:14.043599\n",
      "2022-04-02 21:59:13.043599\n"
     ]
    }
   ],
   "source": [
    "# 간단하게 날짜 표시\n",
    "output_a = now.strftime('%Y-%m-%d %H:%M:%S')\n",
    "print('현재시간: ', output_a)\n",
    "output_b = now.strftime('%Y{}-%m{}-%d{} %H{}:%M{}:%S{}'.format(*'년월일시분초')) # 문자열, 리스트 등 앞에 *를 붙이면 요소가 모두 매개변수로 지정\n",
    "print('현재시간: ', output_b)\n",
    "after = now + datetime.timedelta(weeks=1, days=1, hours=1, minutes=1, seconds=1) # 적어둔 옵션에 차이나는 시간을 알려줌\n",
    "print(after)\n",
    "# 날짜 더해주기\n",
    "output_a = now.replace(year=(now.year+1)) # 옵션에 맞게 시간을 교체\n",
    "print(output_a)"
   ]
  },
  {
   "cell_type": "code",
   "execution_count": 22,
   "metadata": {},
   "outputs": [
    {
     "name": "stdout",
     "output_type": "stream",
     "text": [
      "time 정지\n"
     ]
    }
   ],
   "source": [
    "# time 모듈\n",
    "import time\n",
    "time.sleep(2) # 코드의 진행이 정지, 단위 '초'\n",
    "print('time 정지')"
   ]
  },
  {
   "cell_type": "code",
   "execution_count": 23,
   "metadata": {},
   "outputs": [
    {
     "name": "stdout",
     "output_type": "stream",
     "text": [
      "b'<!doctype html><html itemscope=\"\" itemtype=\"http://schema.org/WebPage\" lang=\"ko\"><head><meta content=\"text/html; charset=UTF-8\" http-equiv=\"Content-Type\"><meta content=\"/images/branding/googleg/1x/googleg_standard_color_128dp.png\" itemprop=\"image\"><title>Google</title><script nonce=\"CRO2R9p0MU9d18eSLDO5PQ==\">(function(){window.google={kEI:\\'eBlnYOSuIoG-wAOcm5Uo\\',kEXPI:\\'0,1302440,96,56873,954,3110,1995,206,4804,2316,383,246,5,1354,5250,6,7674,1114836,1233,1196555,494,28,328957,51224,16114,28684,9188,8384,4859,1361,9291,3021,2823,1923,8000,4841,4020,978,13228,2054,920,873,10622,14528,235,4285,2774,919,2278,7,2796,885,708,1279,2212,241,289,149,1103,840,517,1522,4258,3514,606,2023,2297,1704,2565,328,1284,8789,3227,1989,856,7,5599,6755,5096,7876,4929,108,3407,908,2,941,2614,2397,7470,3275,3,346,230,1846,4613,149,5990,6324,1661,4,1528,2304,1236,1145,4082,576,1791,2892,204,256,1555,4067,2506,7038,2725,286,1753,2658,4163,79,519,912,564,464,654,32,3854,2578,1697,5499,2305,638,3583,3497,9793,11,731,665,2145,117,260,3299,2308,228,479,512,1,871,184,907,1140,17,50,99,2972,6,908,3,3451,90,1,1036,2,3136,4469,2,1800,2726,1539,1814,38,245,911,3435,1940,618,1260,1194,2,3775,528,397,30,2859,424,286,77,1694,2,1112,285,112,623,678,145,778,2,465,845,701,5,164,2,488,1922,647,732,2,744,282,92,660,36,2697,609,116,914,809,640,392,2,810,2,214,930,278,356,1516,2,61,618,9,244,274,387,350,1,1,1,596,240,1189,79,13,316,1542,186,286,415,183,677,327,494,715,625,372,12,475,1558,1240,340,3,1051,35,687,5,336,190,13,2510,10,983,124,5665594,12,3858,35,139,46,41,5997078,2800707,882,444,1,2,80,1,1796,1,9,2,2551,1,748,141,795,563,1,4265,1,1,2,1331,3299,843,1,2608,172,13,72,338,13,16,43,8,37,99,41,4,8,20,4,47,38,4,4,102,9,3,6,2,2,2,2,2,2,2,2,2,6,2,2,2,2,2,2,2,11,1,10,2,16,10,8,29,29,13,21,14,23956349,150,4010123,267,247,26529,608,2,189,771,260\\',kBL:\\'IGRE\\'};google.sn=\\'webhp\\';google.kHL=\\'ko\\';})();(function(){\\nvar f,h=[];function k(a){for(var b;a&&(!a.getAttribute||!(b=a.getAttribute(\"eid\")));)a=a.parentNode;return b||f}function l(a){for(var b=null;a&&(!a.getAttribute||!(b=a.getAttribute(\"leid\")));)a=a.parentNode;return b}\\nfunction m(a,b,c,d,g){var e=\"\";c||-1!=b.search(\"&ei=\")||(e=\"&ei=\"+k(d),-1==b.search(\"&lei=\")&&(d=l(d))&&(e+=\"&lei=\"+d));d=\"\";!c&&window._cshid&&-1==b.search(\"&cshid=\")&&\"slh\"!=a&&(d=\"&cshid=\"+window._cshid);c=c||\"/\"+(g||\"gen_204\")+\"?atyp=i&ct=\"+a+\"&cad=\"+b+e+\"&zx=\"+Date.now()+d;/^http:/i.test(c)&&\"https:\"==window.location.protocol&&(google.ml(Error(\"a\"),!1,{src:c,glmm:1}),c=\"\");return c};f=google.kEI;google.getEI=k;google.getLEI=l;google.ml=function(){return null};google.log=function(a,b,c,d,g){if(c=m(a,b,c,d,g)){a=new Image;var e=h.length;h[e]=a;a.onerror=a.onload=a.onabort=function(){delete h[e]};a.src=c}};google.logUrl=m;}).call(this);(function(){google.y={};google.sy=[];google.x=function(a,b){if(a)var c=a.id;else{do c=Math.random();while(google.y[c])}google.y[c]=[a,b];return!1};google.sx=function(a){google.sy.push(a)};google.lm=[];google.plm=function(a){google.lm.push.apply(google.lm,a)};google.lq=[];google.load=function(a,b,c){google.lq.push([[a],b,c])};google.loadAll=function(a,b){google.lq.push([a,b])};google.bx=!1;google.lx=function(){};}).call(this);google.f={};(function(){\\ndocument.documentElement.addEventListener(\"submit\",function(b){var a;if(a=b.target){var c=a.getAttribute(\"data-submitfalse\");a=\"1\"==c||\"q\"==c&&!a.elements.q.value?!0:!1}else a=!1;a&&(b.preventDefault(),b.stopPropagation())},!0);document.documentElement.addEventListener(\"click\",function(b){var a;a:{for(a=b.target;a&&a!=document.documentElement;a=a.parentElement)if(\"A\"==a.tagName){a=\"1\"==a.getAttribute(\"data-nohref\");break a}a=!1}a&&b.preventDefault()},!0);}).call(this);</script><style>#gbar,#guser{font-size:13px;padding-top:1px !important;}#gbar{height:22px}#guser{padding-bottom:7px !important;text-align:right}.gbh,.gbd{border-top:1px solid #c9d7f1;font-size:1px}.gbh{height:0;position:absolute;top:24px;width:100%}@media all{.gb1{height:22px;margin-right:.5em;vertical-align:top}#gbar{float:left}}a.gb1,a.gb4{text-decoration:underline !important}a.gb1,a.gb4{color:#00c !important}.gbi .gb4{color:#dd8e27 !important}.gbf .gb4{color:#900 !important}\\n</style><style>body,td,a,p,.h{font-family:&#44404;&#47548;,&#46027;&#50880;,arial,sans-serif}.ko{font-size:9pt}body{margin:0;overflow-y:scroll}#gog{padding:3px 8px 0}td{line-height:.8em}.gac_m td{line-height:17px}form{margin-bottom:20px}.h{color:#1558d6}em{font-weight:bold;font-style:normal}.lst{height:25px;width:496px}.gsfi,.lst{font:18px arial,sans-serif}.gsfs{font:17px arial,sans-serif}.ds{display:inline-box;display:inline-block;margin:3px 0 4px;margin-left:4px}input{font-family:inherit}body{background:#fff;color:#000}a{color:#4b11a8;text-decoration:none}a:hover,a:active{text-decoration:underline}.fl a{color:#1558d6}a:visited{color:#4b11a8}.sblc{padding-top:5px}.sblc a{display:block;margin:2px 0;margin-left:13px;font-size:11px}.lsbb{background:#f8f9fa;border:solid 1px;border-color:#dadce0 #70757a #70757a #dadce0;height:30px}.lsbb{display:block}#WqQANb a{display:inline-block;margin:0 12px}.lsb{background:url(/images/nav_logo229.png) 0 -261px repeat-x;border:none;color:#000;cursor:pointer;height:30px;margin:0;outline:0;font:15px arial,sans-serif;vertical-align:top}.lsb:active{background:#dadce0}.lst:focus{outline:none}.tiah{width:458px}</style><script nonce=\"CRO2R9p0MU9d18eSLDO5PQ==\"></script></head><body bgcolor=\"#fff\"><script nonce=\"CRO2R9p0MU9d18eSLDO5PQ==\">(function(){var src=\\'/images/nav_logo229.png\\';var iesg=false;document.body.onload = function(){window.n && window.n();if (document.images){new Image().src=src;}\\nif (!iesg){document.f&&document.f.q.focus();document.gbqf&&document.gbqf.q.focus();}\\n}\\n})();</script><div id=\"mngb\"><div id=gbar><nobr><b class=gb1>&#44160;&#49353;</b> <a class=gb1 href=\"https://www.google.co.kr/imghp?hl=ko&tab=wi\">&#51060;&#48120;&#51648;</a> <a class=gb1 href=\"https://maps.google.co.kr/maps?hl=ko&tab=wl\">&#51648;&#46020;</a> <a class=gb1 href=\"https://play.google.com/?hl=ko&tab=w8\">Play</a> <a class=gb1 href=\"https://www.youtube.com/?gl=KR&tab=w1\">YouTube</a> <a class=gb1 href=\"https://news.google.com/?tab=wn\">&#45684;&#49828;</a> <a class=gb1 href=\"https://mail.google.com/mail/?tab=wm\">Gmail</a> <a class=gb1 href=\"https://drive.google.com/?tab=wo\">&#46300;&#46972;&#51060;&#48652;</a> <a class=gb1 style=\"text-decoration:none\" href=\"https://www.google.co.kr/intl/ko/about/products?tab=wh\"><u>&#45908;&#48372;&#44592;</u> &raquo;</a></nobr></div><div id=guser width=100%><nobr><span id=gbn class=gbi></span><span id=gbf class=gbf></span><span id=gbe></span><a href=\"http://www.google.co.kr/history/optout?hl=ko\" class=gb4>&#50937; &#44592;&#47197;</a> | <a  href=\"/preferences?hl=ko\" class=gb4>&#49444;&#51221;</a> | <a target=_top id=gb_70 href=\"https://accounts.google.com/ServiceLogin?hl=ko&passive=true&continue=https://www.google.com/&ec=GAZAAQ\" class=gb4>&#47196;&#44536;&#51064;</a></nobr></div><div class=gbh style=left:0></div><div class=gbh style=right:0></div></div><center><br clear=\"all\" id=\"lgpd\"><div id=\"lga\"><img alt=\"Google\" height=\"92\" src=\"/images/branding/googlelogo/1x/googlelogo_white_background_color_272x92dp.png\" style=\"padding:28px 0 14px\" width=\"272\" id=\"hplogo\"><br><br></div><form action=\"/search\" name=\"f\"><table cellpadding=\"0\" cellspacing=\"0\"><tr valign=\"top\"><td width=\"25%\">&nbsp;</td><td align=\"center\" nowrap=\"\"><input name=\"ie\" value=\"ISO-8859-1\" type=\"hidden\"><input value=\"ko\" name=\"hl\" type=\"hidden\"><input name=\"source\" type=\"hidden\" value=\"hp\"><input name=\"biw\" type=\"hidden\"><input name=\"bih\" type=\"hidden\"><div class=\"ds\" style=\"height:32px;margin:4px 0\"><div style=\"position:relative;zoom:1\"><input class=\"lst tiah\" style=\"margin:0;padding:5px 8px 0 6px;vertical-align:top;color:#000;padding-right:38px\" autocomplete=\"off\" value=\"\" title=\"Google &#44160;&#49353;\" maxlength=\"2048\" name=\"q\" size=\"57\"><img src=\"/textinputassistant/tia.png\" style=\"position:absolute;cursor:pointer;right:5px;top:4px;z-index:300\" data-script-url=\"/textinputassistant/11/ko_tia.js\" id=\"tsuid1\" alt=\"\" height=\"23\" width=\"27\"><script nonce=\"CRO2R9p0MU9d18eSLDO5PQ==\">(function(){var id=\\'tsuid1\\';document.getElementById(id).onclick = function(){var s = document.createElement(\\'script\\');s.src = this.getAttribute(\\'data-script-url\\');(document.getElementById(\\'xjsc\\')||document.body).appendChild(s);};})();</script></div></div><br style=\"line-height:0\"><span class=\"ds\"><span class=\"lsbb\"><input class=\"lsb\" value=\"Google &#44160;&#49353;\" name=\"btnG\" type=\"submit\"></span></span><span class=\"ds\"><span class=\"lsbb\"><input class=\"lsb\" id=\"tsuid2\" value=\"I&#8217;m Feeling Lucky\" name=\"btnI\" type=\"submit\"><script nonce=\"CRO2R9p0MU9d18eSLDO5PQ==\">(function(){var id=\\'tsuid2\\';document.getElementById(id).onclick = function(){if (this.form.q.value){this.checked = 1;if (this.form.iflsig)this.form.iflsig.disabled = false;}\\nelse top.location=\\'/doodles/\\';};})();</script><input value=\"AINFCbYAAAAAYGcniHyiDN3auDdQESnPK4KI-8B3fOGT\" name=\"iflsig\" type=\"hidden\"></span></span></td><td class=\"fl sblc\" align=\"left\" nowrap=\"\" width=\"25%\"><a href=\"/advanced_search?hl=ko&amp;authuser=0\">&#44256;&#44553;&#44160;&#49353;</a></td></tr></table><input id=\"gbv\" name=\"gbv\" type=\"hidden\" value=\"1\"><script nonce=\"CRO2R9p0MU9d18eSLDO5PQ==\">(function(){var a,b=\"1\";if(document&&document.getElementById)if(\"undefined\"!=typeof XMLHttpRequest)b=\"2\";else if(\"undefined\"!=typeof ActiveXObject){var c,d,e=[\"MSXML2.XMLHTTP.6.0\",\"MSXML2.XMLHTTP.3.0\",\"MSXML2.XMLHTTP\",\"Microsoft.XMLHTTP\"];for(c=0;d=e[c++];)try{new ActiveXObject(d),b=\"2\"}catch(h){}}a=b;if(\"2\"==a&&-1==location.search.indexOf(\"&gbv=2\")){var f=google.gbvu,g=document.getElementById(\"gbv\");g&&(g.value=a);f&&window.setTimeout(function(){location.href=f},0)};}).call(this);</script></form><div id=\"gac_scont\"></div><div style=\"font-size:83%;min-height:3.5em\"><br></div><span id=\"footer\"><div style=\"font-size:10pt\"><div style=\"margin:19px auto;text-align:center\" id=\"WqQANb\"><a href=\"/intl/ko/ads/\">&#44305;&#44256; &#54532;&#47196;&#44536;&#47016;</a><a href=\"http://www.google.co.kr/intl/ko/services/\">&#48708;&#51592;&#45768;&#49828; &#49556;&#47336;&#49496;</a><a href=\"/intl/ko/about.html\">Google &#51221;&#48372;</a><a href=\"https://www.google.com/setprefdomain?prefdom=KR&amp;prev=https://www.google.co.kr/&amp;sig=K_JDP9CpVLA9jfR58ehoS3AVQ6AF4%3D\">Google.co.kr</a></div></div><p style=\"font-size:8pt;color:#70757a\">&copy; 2021 - <a href=\"/intl/ko/policies/privacy/\">&#44060;&#51064;&#51221;&#48372;&#52376;&#47532;&#48169;&#52840;</a> - <a href=\"/intl/ko/policies/terms/\">&#50557;&#44288;</a></p></span></center><script nonce=\"CRO2R9p0MU9d18eSLDO5PQ==\">(function(){window.google.cdo={height:0,width:0};(function(){var a=window.innerWidth,b=window.innerHeight;if(!a||!b){var c=window.document,d=\"CSS1Compat\"==c.compatMode?c.documentElement:c.body;a=d.clientWidth;b=d.clientHeight}a&&b&&(a!=google.cdo.width||b!=google.cdo.height)&&google.log(\"\",\"\",\"/client_204?&atyp=i&biw=\"+a+\"&bih=\"+b+\"&ei=\"+google.kEI);}).call(this);})();(function(){var u=\\'/xjs/_/js/k\\\\x3dxjs.hp.en.BxHjRa3OgwA.O/m\\\\x3dsb_he,d/am\\\\x3dAHiCOA/d\\\\x3d1/rs\\\\x3dACT90oGILtRA5FPgbkaLQWCKM5XqMdmRQw\\';\\nvar d=this||self,e=/^[\\\\w+/_-]+[=]{0,2}$/,f=null,g=function(a){return(a=a.querySelector&&a.querySelector(\"script[nonce]\"))&&(a=a.nonce||a.getAttribute(\"nonce\"))&&e.test(a)?a:\"\"},h=function(a){return a};var l;var n=function(a,b){this.g=b===m?a:\"\"};n.prototype.toString=function(){return this.g+\"\"};var m={};function p(){var a=u;google.lx=function(){q(a);google.lx=function(){}};google.bx||google.lx()}\\nfunction q(a){var b=document;var c=\"SCRIPT\";\"application/xhtml+xml\"===b.contentType&&(c=c.toLowerCase());c=b.createElement(c);if(void 0===l){b=null;var k=d.trustedTypes;if(k&&k.createPolicy){try{b=k.createPolicy(\"goog#html\",{createHTML:h,createScript:h,createScriptURL:h})}catch(r){d.console&&d.console.error(r.message)}l=b}else l=b}a=(b=l)?b.createScriptURL(a):a;a=new n(a,m);c.src=a instanceof n&&a.constructor===n?a.g:\"type_error:TrustedResourceUrl\";(a=c.ownerDocument&&c.ownerDocument.defaultView)&&\\na!=d?a=g(a.document):(null===f&&(f=g(d.document)),a=f);a&&c.setAttribute(\"nonce\",a);google.timers&&google.timers.load&&google.tick&&google.tick(\"load\",\"xjsls\");document.body.appendChild(c)};setTimeout(function(){p()},0);})();(function(){window.google.xjsu=\\'/xjs/_/js/k\\\\x3dxjs.hp.en.BxHjRa3OgwA.O/m\\\\x3dsb_he,d/am\\\\x3dAHiCOA/d\\\\x3d1/rs\\\\x3dACT90oGILtRA5FPgbkaLQWCKM5XqMdmRQw\\';})();function _DumpException(e){throw e;}\\nfunction _F_installCss(c){}\\n(function(){google.jl={blt:\\'none\\',dw:false,em:[],emtn:0,ine:false,lls:\\'default\\',pdt:0,snet:true,uwp:true};})();(function(){var pmc=\\'{\\\\x22d\\\\x22:{},\\\\x22sb_he\\\\x22:{\\\\x22agen\\\\x22:false,\\\\x22cgen\\\\x22:false,\\\\x22client\\\\x22:\\\\x22heirloom-hp\\\\x22,\\\\x22dh\\\\x22:true,\\\\x22dhqt\\\\x22:true,\\\\x22ds\\\\x22:\\\\x22\\\\x22,\\\\x22ffql\\\\x22:\\\\x22ko\\\\x22,\\\\x22fl\\\\x22:true,\\\\x22host\\\\x22:\\\\x22google.com\\\\x22,\\\\x22isbh\\\\x22:28,\\\\x22jsonp\\\\x22:true,\\\\x22msgs\\\\x22:{\\\\x22cibl\\\\x22:\\\\x22&#44160;&#49353;&#50612; &#51648;&#50864;&#44592;\\\\x22,\\\\x22dym\\\\x22:\\\\x22&#51060;&#44163;&#51012; &#52286;&#51004;&#49512;&#45208;&#50836;?\\\\x22,\\\\x22lcky\\\\x22:\\\\x22I&#8217;m Feeling Lucky\\\\x22,\\\\x22lml\\\\x22:\\\\x22&#51088;&#49464;&#55176; &#50508;&#50500;&#48372;&#44592;\\\\x22,\\\\x22oskt\\\\x22:\\\\x22&#51077;&#47141; &#46020;&#44396;\\\\x22,\\\\x22psrc\\\\x22:\\\\x22&#44160;&#49353;&#50612;&#44032; \\\\\\\\u003Ca href\\\\x3d\\\\\\\\\\\\x22/history\\\\\\\\\\\\x22\\\\\\\\u003E&#50937; &#44592;&#47197;\\\\\\\\u003C/a\\\\\\\\u003E&#50640;&#49436; &#49325;&#51228;&#46104;&#50632;&#49845;&#45768;&#45796;.\\\\x22,\\\\x22psrl\\\\x22:\\\\x22&#49325;&#51228;\\\\x22,\\\\x22sbit\\\\x22:\\\\x22&#51060;&#48120;&#51648;&#47196; &#44160;&#49353;\\\\x22,\\\\x22srch\\\\x22:\\\\x22Google &#44160;&#49353;\\\\x22},\\\\x22nrft\\\\x22:false,\\\\x22ovr\\\\x22:{},\\\\x22pq\\\\x22:\\\\x22\\\\x22,\\\\x22refpd\\\\x22:true,\\\\x22refspre\\\\x22:true,\\\\x22rfs\\\\x22:[],\\\\x22sbas\\\\x22:\\\\x220 3px 8px 0 rgba(0,0,0,0.2),0 0 0 1px rgba(0,0,0,0.08)\\\\x22,\\\\x22sbpl\\\\x22:16,\\\\x22sbpr\\\\x22:16,\\\\x22scd\\\\x22:10,\\\\x22stok\\\\x22:\\\\x223zQwf7vbS9sPGvoc6XL99xK8LWQ\\\\x22,\\\\x22uhde\\\\x22:false}}\\';google.pmc=JSON.parse(pmc);})();</script>        </body></html>'\n"
     ]
    }
   ],
   "source": [
    "# url module\n",
    "from urllib import request\n",
    "# urlopen()\n",
    "target = request.urlopen('https://google.com') # url 주소의 페이지 열기\n",
    "output = target.read()\n",
    "print(output)"
   ]
  },
  {
   "cell_type": "code",
   "execution_count": 24,
   "metadata": {},
   "outputs": [
    {
     "name": "stdout",
     "output_type": "stream",
     "text": [
      "<h1>1.Hello External Module '수프'</h1>\n",
      "1.Hello External Module '수프'\n",
      "[<h1>1.Hello External Module '수프'</h1>, <h1>2.Hello External Module '수프'</h1>, <h1>3.Hello External Module '수프'</h1>]\n"
     ]
    }
   ],
   "source": [
    "# 외부 모듈 사용하기\n",
    "from bs4 import BeautifulSoup\n",
    "# https://www.crummy.com/software/BeautifulSoup/bs4/doc/\n",
    "html_doc = \"\"\"\n",
    "<html><head><title>The Dormouse's story</title></head>\n",
    "<body>\n",
    "<h1>1.Hello External Module '수프'</h1>\n",
    "<h1>2.Hello External Module '수프'</h1>\n",
    "<h1>3.Hello External Module '수프'</h1>\n",
    "<p class=\"title\"><b>The Dormouse's story</b></p>\n",
    "\n",
    "<p class=\"story\">Once upon a time there were three little sisters; and their names were\n",
    "<a href=\"http://example.com/elsie\" class=\"sister\" id=\"link1\">Elsie</a>,\n",
    "<a href=\"http://example.com/lacie\" class=\"sister\" id=\"link2\">Lacie</a> and\n",
    "<a href=\"http://example.com/tillie\" class=\"sister\" id=\"link3\">Tillie</a>;\n",
    "and they lived at the bottom of a well.</p>\n",
    "\n",
    "<p class=\"story\">...</p>\n",
    "\"\"\"\n",
    "\n",
    "soup = BeautifulSoup(html_doc, 'html.parser') # BeautifulSoup 객체 생성\n",
    "# print(soup.prettify())\n",
    "print(soup.h1)\n",
    "print(soup.h1.string)\n",
    "print(soup.find_all('h1'))"
   ]
  },
  {
   "cell_type": "code",
   "execution_count": 25,
   "metadata": {},
   "outputs": [
    {
     "name": "stdout",
     "output_type": "stream",
     "text": [
      "도시: 서울\n",
      "날씨: 맑음\n",
      "최저기온: 5\n",
      "최고기온 18\n",
      "----------------------\n",
      "도시: 인천\n",
      "날씨: 맑음\n",
      "최저기온: 5\n",
      "최고기온 15\n",
      "----------------------\n",
      "도시: 수원\n",
      "날씨: 맑음\n",
      "최저기온: 4\n",
      "최고기온 18\n",
      "----------------------\n",
      "도시: 파주\n",
      "날씨: 맑음\n",
      "최저기온: 2\n",
      "최고기온 17\n",
      "----------------------\n",
      "도시: 이천\n",
      "날씨: 맑음\n",
      "최저기온: 3\n",
      "최고기온 18\n",
      "----------------------\n",
      "도시: 평택\n",
      "날씨: 맑음\n",
      "최저기온: 3\n",
      "최고기온 17\n",
      "----------------------\n",
      "도시: 백령도\n",
      "날씨: 맑음\n",
      "최저기온: 5\n",
      "최고기온 17\n",
      "----------------------\n",
      "도시: 과천\n",
      "날씨: 맑음\n",
      "최저기온: 2\n",
      "최고기온 18\n",
      "----------------------\n",
      "도시: 광명\n",
      "날씨: 맑음\n",
      "최저기온: 5\n",
      "최고기온 17\n",
      "----------------------\n",
      "도시: 강화\n",
      "날씨: 맑음\n",
      "최저기온: 2\n",
      "최고기온 16\n",
      "----------------------\n",
      "도시: 김포\n",
      "날씨: 맑음\n",
      "최저기온: 3\n",
      "최고기온 17\n",
      "----------------------\n",
      "도시: 시흥\n",
      "날씨: 맑음\n",
      "최저기온: 2\n",
      "최고기온 16\n",
      "----------------------\n",
      "도시: 안산\n",
      "날씨: 맑음\n",
      "최저기온: 3\n",
      "최고기온 18\n",
      "----------------------\n",
      "도시: 부천\n",
      "날씨: 맑음\n",
      "최저기온: 6\n",
      "최고기온 16\n",
      "----------------------\n",
      "도시: 의정부\n",
      "날씨: 맑음\n",
      "최저기온: 3\n",
      "최고기온 17\n",
      "----------------------\n",
      "도시: 고양\n",
      "날씨: 맑음\n",
      "최저기온: 2\n",
      "최고기온 18\n",
      "----------------------\n",
      "도시: 양주\n",
      "날씨: 맑음\n",
      "최저기온: 0\n",
      "최고기온 17\n",
      "----------------------\n",
      "도시: 동두천\n",
      "날씨: 맑음\n",
      "최저기온: 2\n",
      "최고기온 19\n",
      "----------------------\n",
      "도시: 연천\n",
      "날씨: 맑음\n",
      "최저기온: -1\n",
      "최고기온 16\n",
      "----------------------\n",
      "도시: 포천\n",
      "날씨: 맑음\n",
      "최저기온: 0\n",
      "최고기온 18\n",
      "----------------------\n",
      "도시: 가평\n",
      "날씨: 맑음\n",
      "최저기온: -2\n",
      "최고기온 21\n",
      "----------------------\n",
      "도시: 구리\n",
      "날씨: 맑음\n",
      "최저기온: 4\n",
      "최고기온 19\n",
      "----------------------\n",
      "도시: 남양주\n",
      "날씨: 맑음\n",
      "최저기온: 1\n",
      "최고기온 19\n",
      "----------------------\n",
      "도시: 양평\n",
      "날씨: 맑음\n",
      "최저기온: 2\n",
      "최고기온 18\n",
      "----------------------\n",
      "도시: 하남\n",
      "날씨: 맑음\n",
      "최저기온: 3\n",
      "최고기온 18\n",
      "----------------------\n",
      "도시: 안양\n",
      "날씨: 맑음\n",
      "최저기온: 5\n",
      "최고기온 16\n",
      "----------------------\n",
      "도시: 오산\n",
      "날씨: 맑음\n",
      "최저기온: 3\n",
      "최고기온 18\n",
      "----------------------\n",
      "도시: 화성\n",
      "날씨: 맑음\n",
      "최저기온: 3\n",
      "최고기온 16\n",
      "----------------------\n",
      "도시: 성남\n",
      "날씨: 맑음\n",
      "최저기온: 3\n",
      "최고기온 18\n",
      "----------------------\n",
      "도시: 의왕\n",
      "날씨: 맑음\n",
      "최저기온: 1\n",
      "최고기온 17\n",
      "----------------------\n",
      "도시: 군포\n",
      "날씨: 맑음\n",
      "최저기온: 4\n",
      "최고기온 18\n",
      "----------------------\n",
      "도시: 안성\n",
      "날씨: 맑음\n",
      "최저기온: 2\n",
      "최고기온 17\n",
      "----------------------\n",
      "도시: 용인\n",
      "날씨: 맑음\n",
      "최저기온: 3\n",
      "최고기온 17\n",
      "----------------------\n",
      "도시: 광주\n",
      "날씨: 맑음\n",
      "최저기온: 2\n",
      "최고기온 17\n",
      "----------------------\n",
      "도시: 여주\n",
      "날씨: 맑음\n",
      "최저기온: 2\n",
      "최고기온 18\n",
      "----------------------\n"
     ]
    }
   ],
   "source": [
    "from bs4 import BeautifulSoup\n",
    "from urllib import request\n",
    "\n",
    "target = request.urlopen('http://www.kma.go.kr/weather/forecast/mid-term-rss3.jsp?stnId=109')\n",
    "soup = BeautifulSoup(target, 'html.parser')\n",
    "# print(soup)\n",
    "location = soup.select('location')\n",
    "for location in soup.select('location'):\n",
    "    print('도시:', location.select_one('city').string)\n",
    "    print('날씨:', location.select_one('wf').string)\n",
    "    print('최저기온:', location.select_one('tmn').string)\n",
    "    print('최고기온', location.select_one('tmx').string)\n",
    "    print('----------------------')\n"
   ]
  },
  {
   "cell_type": "code",
   "execution_count": null,
   "metadata": {},
   "outputs": [],
   "source": []
  }
 ],
 "metadata": {
  "kernelspec": {
   "display_name": "Python 3",
   "language": "python",
   "name": "python3"
  },
  "language_info": {
   "codemirror_mode": {
    "name": "ipython",
    "version": 3
   },
   "file_extension": ".py",
   "mimetype": "text/x-python",
   "name": "python",
   "nbconvert_exporter": "python",
   "pygments_lexer": "ipython3",
   "version": "3.8.5"
  }
 },
 "nbformat": 4,
 "nbformat_minor": 4
}
