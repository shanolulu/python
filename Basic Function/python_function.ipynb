{
 "cells": [
  {
   "cell_type": "code",
   "execution_count": 1,
   "metadata": {},
   "outputs": [],
   "source": [
    "# swapping\n",
    "a=10\n",
    "b=20\n",
    "\n",
    "a,b = b,a # 변수의 값을 서로 변경\n",
    "# temp = a\n",
    "# a = b\n",
    "# b = temp\n",
    "\n",
    "print('a = {0}, b = {1}'.format(a,b))"
   ]
  },
  {
   "cell_type": "code",
   "execution_count": 2,
   "metadata": {},
   "outputs": [],
   "source": [
    "# lambda : 함수를 매개변수로 사용할 수 있다.\n",
    "def increase(value, original):\n",
    "    return original+value\n",
    "\n",
    "original_list = [10, 20, 30, 40, 50]\n",
    "print('Before : {0}'.format(original_list))\n",
    "\n",
    "for index, value in enumerate(original_list):\n",
    "    original_list[index] = increase(5, value)\n",
    "print('After : {0}'.format(original_list))"
   ]
  },
  {
   "cell_type": "code",
   "execution_count": 3,
   "metadata": {},
   "outputs": [],
   "source": [
    "# stream data value만큼 증가하는 역할\n",
    "def increase(value, original):\n",
    "    return original+value\n",
    "# stream data value만큼 감소하는 역할\n",
    "def decrease(value, original):\n",
    "    return original-value\n",
    "# stream data iterate(반복)해서 값 변경\n",
    "def call_change_data(func, change_value):\n",
    "    for index, value in enumerate(original_list):\n",
    "        original_list[index] = func(change_value, value)\n",
    "    print('After : {0}'.format(original_list))\n",
    "\n",
    "print('Before : {0}'.format(original_list))\n",
    "original_list = [10, 20, 30, 40, 50]\n",
    "\n",
    "call_change_data(increase, 10)\n",
    "call_change_data(decrease, 5)"
   ]
  },
  {
   "cell_type": "code",
   "execution_count": 4,
   "metadata": {},
   "outputs": [
    {
     "name": "stdout",
     "output_type": "stream",
     "text": [
      "Before : [10, 20, 30, 40, 50]\n",
      "new_list : [20, 30, 40, 50, 60]\n",
      "new_list : [5, 15, 25, 35, 45]\n",
      "original_list : [10, 20, 30, 40, 50]\n"
     ]
    }
   ],
   "source": [
    "def increase(value):\n",
    "    return value+10\n",
    "# stream data value만큼 감소하는 역할\n",
    "def decrease(value):\n",
    "    return value-5\n",
    "# stream data iterate(반복)해서 값 변경\n",
    "def call_change_data(func, change_list): # map에서 동일하게 돌아가는 함수\n",
    "    new_list = []\n",
    "    for index, value in enumerate(original_list):\n",
    "        new_list.append(func(value))\n",
    "    return new_list\n",
    "\n",
    "original_list = [10, 20, 30, 40, 50]\n",
    "print('Before : {0}'.format(original_list))\n",
    "\n",
    "print('new_list : {0}'.format(call_change_data(increase, original_list)) )\n",
    "print('new_list : {0}'.format(call_change_data(decrease, original_list)))\n",
    "print('original_list : {0}'.format(original_list))"
   ]
  },
  {
   "cell_type": "code",
   "execution_count": 5,
   "metadata": {},
   "outputs": [
    {
     "name": "stdout",
     "output_type": "stream",
     "text": [
      "Before : [10, 20, 30, 40, 50]\n",
      "new_list : [20, 30, 40, 50, 60]\n",
      "new_list : [5, 15, 25, 35, 45]\n"
     ]
    }
   ],
   "source": [
    "# 함수를 매개변수로 전달하는 대표적 표준함수\n",
    "\n",
    "# map(함수, 리스트)\n",
    "# filter(함수, 리스트)\n",
    "\n",
    "\n",
    "# map을 이용 call_change_data 대신\n",
    "\n",
    "def increase(value):\n",
    "    return value+10\n",
    "# stream data value만큼 감소하는 역할\n",
    "def decrease(value):\n",
    "    return value-5\n",
    "\n",
    "original_list = [10, 20, 30, 40, 50]\n",
    "print('Before : {0}'.format(original_list))\n",
    "\n",
    "print('new_list : {0}'.format(list(map(increase, original_list)))) # map형태로 출력되니 list로 묶어줘 list형태로 출력한다.\n",
    "print('new_list : {0}'.format(list(map(decrease, original_list))))"
   ]
  },
  {
   "cell_type": "code",
   "execution_count": 6,
   "metadata": {},
   "outputs": [
    {
     "name": "stdout",
     "output_type": "stream",
     "text": [
      "Before : [10, 20, 30, 40, 50]\n",
      "new_list : [20, 30, 40, 50, 60]\n",
      "new_list : [5, 15, 25, 35, 45]\n",
      "new_list : [10, 20]\n"
     ]
    }
   ],
   "source": [
    "# lambda (지속적으로 남아있는 함수가 아닌 한 번만 사용하는 함수\n",
    "lambda x : x + 10 # 위에서 사용한 increase 함수와 같다\n",
    "original_list = [10, 20, 30, 40, 50]\n",
    "print('Before : {0}'.format(original_list))\n",
    "\n",
    "print('new_list : {0}'.format(list(map(lambda x:x+10, original_list))))\n",
    "print('new_list : {0}'.format(list(map(lambda x:x-5, original_list))))\n",
    "\n",
    "# map 대신에 filter를 사용!!\n",
    "# filter는 조건에 맞는 경우\n",
    "# (map <-> filter : map은 조작하는 경우에 filter는 조건을 거는 경우에 사용)\n",
    "print('new_list : {0}'.format(list(filter(lambda x:x < 30, original_list))))\n"
   ]
  },
  {
   "cell_type": "markdown",
   "metadata": {},
   "source": []
  }
 ],
 "metadata": {
  "kernelspec": {
   "display_name": "Python 3",
   "language": "python",
   "name": "python3"
  },
  "language_info": {
   "codemirror_mode": {
    "name": "ipython",
    "version": 3
   },
   "file_extension": ".py",
   "mimetype": "text/x-python",
   "name": "python",
   "nbconvert_exporter": "python",
   "pygments_lexer": "ipython3",
   "version": "3.8.5"
  }
 },
 "nbformat": 4,
 "nbformat_minor": 4
}
