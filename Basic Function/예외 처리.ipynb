{
 "cells": [
  {
   "cell_type": "markdown",
   "metadata": {},
   "source": [
    "# 예외처리\n",
    "try:\n",
    "\n",
    "    * 예외발생 가능한 실행문\n",
    "    * 정상흐름 실행문\n",
    "except:\n",
    "\n",
    "    비정상흐름 시 발생하는 실행문\n",
    "finally:\n",
    "\n",
    "    예외발생 여부 상관없이 항상 실행되는 실행문"
   ]
  },
  {
   "cell_type": "code",
   "execution_count": 2,
   "metadata": {},
   "outputs": [
    {
     "name": "stdout",
     "output_type": "stream",
     "text": [
      "정수입력 > 13\n",
      "원의 반지름:  13\n",
      "원의 둘레:  81.64\n",
      "원의 넓이:  530.66\n"
     ]
    }
   ],
   "source": [
    "user_input_a = input('정수입력 > ')\n",
    "# isdigit을 사용하여 숫자로만 이뤄졌는지 확인 isdigit: True, False로 출력\n",
    "if user_input_a.isdigit():\n",
    "    number_input_a = int(user_input_a)\n",
    "\n",
    "    print('원의 반지름: ', number_input_a)\n",
    "    print('원의 둘레: ', 2 * 3.14 * number_input_a)\n",
    "    print('원의 넓이: ', 3.14 * number_input_a * number_input_a)\n",
    "else:\n",
    "    print('정수를 입력하지 않았습니다.')"
   ]
  },
  {
   "cell_type": "code",
   "execution_count": 3,
   "metadata": {},
   "outputs": [
    {
     "name": "stdout",
     "output_type": "stream",
     "text": [
      "정수입력> 정수\n",
      "무언가 잘못되었습니다.\n"
     ]
    }
   ],
   "source": [
    "# try-except\n",
    "try:\n",
    "    number_input_a = int(input('정수입력> '))\n",
    "\n",
    "    print('원의 반지름: ', number_input_a)\n",
    "    print('원의 둘레: ', 2 * 3.14 * number_input_a)\n",
    "    print('원의 넓이: ', 3.14 * number_input_a * number_input_a)\n",
    "except:\n",
    "    print('무언가 잘못되었습니다.')"
   ]
  },
  {
   "cell_type": "code",
   "execution_count": 4,
   "metadata": {},
   "outputs": [
    {
     "name": "stdout",
     "output_type": "stream",
     "text": [
      "list_a >> ['23', '33', '샤놀', '42', 'A']\n",
      "list_b >> ['23']\n",
      "list_a >> ['23', '33', '샤놀', '42', 'A']\n",
      "list_b >> ['23', '33']\n",
      "오류 발생: 샤놀 는 정수가 아닙니다.\n",
      "list_a >> ['23', '33', '샤놀', '42', 'A']\n",
      "list_b >> ['23', '33']\n",
      "list_a >> ['23', '33', '샤놀', '42', 'A']\n",
      "list_b >> ['23', '33', '42']\n",
      "오류 발생: A 는 정수가 아닙니다.\n",
      "list_a >> ['23', '33', '샤놀', '42', 'A']\n",
      "list_b >> ['23', '33', '42']\n"
     ]
    }
   ],
   "source": [
    "# try-except-finally + pass\n",
    "list_a = ['23', '33', '샤놀', '42', 'A']\n",
    "list_b = []\n",
    "\n",
    "for i in list_a:\n",
    "    # try에서 오류가 발생하면 except에 가서 실행되고 종료\n",
    "    try:\n",
    "        float(i) # list_a 요소의 타입을 float타입으로 변경\n",
    "        list_b.append(i) # 위에서 오류가 발생되면 실행되지 못하게 된다.\n",
    "    except:\n",
    "        print('오류 발생:', i, '는 정수가 아닙니다.')\n",
    "    finally:\n",
    "        print('list_a >>', list_a)\n",
    "        print('list_b >>', list_b)"
   ]
  },
  {
   "cell_type": "code",
   "execution_count": 5,
   "metadata": {},
   "outputs": [
    {
     "name": "stdout",
     "output_type": "stream",
     "text": [
      "리스트의 몇 번째 원소를 알고 싶으신가요? >> 3\n",
      "3번째 요소: 52\n"
     ]
    }
   ],
   "source": [
    "# 모든 예외 잡기\n",
    "list_n = [24, 64, 262, 52, 88, 100]\n",
    "\n",
    "try:\n",
    "    num = int(input('리스트의 몇 번째 원소를 알고 싶으신가요? >> '))\n",
    "    print('{}번째 요소: {}'.format(num, list_n[num]))\n",
    "#     오류발생기!!\n",
    "except ValueError as exception:\n",
    "    print(exception, ' >> valueError')\n",
    "except Exception as Error:\n",
    "    print(Error, ' >> Exception')\n",
    "except ExceptionType as error2:\n",
    "    print(error2, ' >> typeError')\n"
   ]
  },
  {
   "cell_type": "code",
   "execution_count": 6,
   "metadata": {},
   "outputs": [
    {
     "name": "stdout",
     "output_type": "stream",
     "text": [
      "정수형 데이터 입력: 13\n",
      "0번 째 데이터 : 10\n",
      "1번 째 데이터 : 20\n",
      "2번 째 데이터 : 30\n",
      "3번 째 데이터 : 13\n"
     ]
    }
   ],
   "source": [
    "# 자식 type의 ExceptionType부터 처리 : 주의!!\n",
    "list_data=[10, 20, 30]\n",
    "int_data = input('정수형 데이터 입력: ')\n",
    "list_data.append(int_data)\n",
    "for index in range(len(list_data)):\n",
    "    print('{}번 째 데이터 : {}'.format(index, list_data[index]))"
   ]
  },
  {
   "cell_type": "code",
   "execution_count": 7,
   "metadata": {},
   "outputs": [
    {
     "name": "stdout",
     "output_type": "stream",
     "text": [
      "정수형 데이터 입력: 14\n",
      "0번 째 데이터 : 10\n",
      "1번 째 데이터 : 20\n",
      "2번 째 데이터 : 30\n",
      "3번 째 데이터 : 14\n"
     ]
    }
   ],
   "source": [
    "try:\n",
    "    list_data=[10, 20, 30]\n",
    "\n",
    "    int_data = int(input('정수형 데이터 입력: ')) # ValueError\n",
    "    list_data.append(int_data)\n",
    "    for index in range(len(list_data)): # IndexError\n",
    "        divide_sum = list_data[index]+list_data[index]/(index+1) # index=0, ZeroDivisionError\n",
    "        print('{0}번 째 데이터 : {1}'.format(index, list_data[index]))\n",
    "except ValueError:\n",
    "    print('ValueError: 정수형 데이터를 입력하세요')\n",
    "except IndexError:\n",
    "    print('IndexError: 데이터 접근은 0~{0}까지 입니다.'.format(len(list_data)-1))\n",
    "except Exception as error: # 부모타입: 먼저사용시 안됨\n",
    "    print(error, '프로그램에 문제가 있어 종료합니다.')\n"
   ]
  },
  {
   "cell_type": "code",
   "execution_count": 8,
   "metadata": {},
   "outputs": [
    {
     "name": "stdout",
     "output_type": "stream",
     "text": [
      "정수형 데이터 입력: 정수\n",
      "ValueError: 정수형 데이터를 입력하세요\n"
     ]
    }
   ],
   "source": [
    "list_data=[10, 20, 30]\n",
    "try:\n",
    "    int_data = int(input('정수형 데이터 입력: ')) # ValueError\n",
    "    list_data.append(int_data)\n",
    "    for index in range(len(list_data)): # IndexError\n",
    "        divide_sum = list_data[index]+list_data[index]/(index+1) # index=0, ZeroDivisionError\n",
    "        print('{0}번 째 데이터 : {1}'.format(index, list_data[index]))\n",
    "except ValueError:\n",
    "    print('ValueError: 정수형 데이터를 입력하세요')\n",
    "except IndexError:\n",
    "    print('IndexError: 데이터 접근은 0~{0}까지 입니다.'.format(len(list_data)-1))\n",
    "except Exception as error: # 부모타입: 먼저사용시 안됨\n",
    "    print(error, '프로그램에 문제가 있어 종료합니다.')"
   ]
  },
  {
   "cell_type": "code",
   "execution_count": null,
   "metadata": {},
   "outputs": [],
   "source": []
  }
 ],
 "metadata": {
  "kernelspec": {
   "display_name": "Python 3",
   "language": "python",
   "name": "python3"
  },
  "language_info": {
   "codemirror_mode": {
    "name": "ipython",
    "version": 3
   },
   "file_extension": ".py",
   "mimetype": "text/x-python",
   "name": "python",
   "nbconvert_exporter": "python",
   "pygments_lexer": "ipython3",
   "version": "3.8.5"
  }
 },
 "nbformat": 4,
 "nbformat_minor": 4
}
