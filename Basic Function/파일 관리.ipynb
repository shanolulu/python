{
 "cells": [
  {
   "cell_type": "markdown",
   "metadata": {},
   "source": [
    "# 텍스트 파일 다루기"
   ]
  },
  {
   "cell_type": "markdown",
   "metadata": {},
   "source": [
    "open: 파일을 다루기 위해 사용 (r, w) 등을 통해 읽거나 쓰는 모드 설정\n",
    "!만약, 파일이 존재하지 않는 경우! => 해당 파일을 생성한다."
   ]
  },
  {
   "cell_type": "code",
   "execution_count": 4,
   "metadata": {},
   "outputs": [],
   "source": [
    "# text write\n",
    "write_file = open('test1.txt', 'w')\n",
    "write_file.write('Hello Python....')\n",
    "write_file.close()"
   ]
  },
  {
   "cell_type": "code",
   "execution_count": 5,
   "metadata": {},
   "outputs": [
    {
     "name": "stdout",
     "output_type": "stream",
     "text": [
      "test1.txt >> Hello Python....\n"
     ]
    }
   ],
   "source": [
    "# text read\n",
    "read_file = open('test1.txt', 'r')\n",
    "print(read_file.name, '>>', read_file.read())\n",
    "read_file.close()"
   ]
  },
  {
   "cell_type": "code",
   "execution_count": 7,
   "metadata": {},
   "outputs": [
    {
     "name": "stdout",
     "output_type": "stream",
     "text": [
      "파일에 저장할 데이터를 입력하세요 >> 파일\n",
      "test2.txt 파일저장 했습니다.\n"
     ]
    }
   ],
   "source": [
    "# text input => file open => console write\n",
    "read_data = input('파일에 저장할 데이터를 입력하세요 >> ')\n",
    "write_file = open('test2.txt', 'w')\n",
    "write_file.write(read_data)\n",
    "write_file.close()\n",
    "print(write_file.name, '저장 했습니다.')"
   ]
  },
  {
   "cell_type": "code",
   "execution_count": 17,
   "metadata": {},
   "outputs": [],
   "source": [
    "# write file2 in file1\n",
    "read_file = open('hello.txt', 'r')\n",
    "write_file = open('copy_hello.txt', 'w')\n",
    "write_file.write(read_file.read())\n",
    "read_file.close()\n",
    "write_file.close()"
   ]
  },
  {
   "cell_type": "markdown",
   "metadata": {},
   "source": [
    "## with open\n",
    "파일을 사용이 끝나면 자동으로 close가 된다.\n",
    "\n",
    "=> 변수 명 지정도 쉽게 가능"
   ]
  },
  {
   "cell_type": "code",
   "execution_count": 18,
   "metadata": {},
   "outputs": [],
   "source": [
    "with open('hello.txt', 'w') as file:\n",
    "    file.write('Hello Python Programming...')"
   ]
  },
  {
   "cell_type": "code",
   "execution_count": 20,
   "metadata": {},
   "outputs": [
    {
     "name": "stdout",
     "output_type": "stream",
     "text": [
      "Hello Python Programming...\n"
     ]
    }
   ],
   "source": [
    "with open('hello.txt', 'r') as file:\n",
    "    print(file.read())"
   ]
  },
  {
   "cell_type": "code",
   "execution_count": null,
   "metadata": {},
   "outputs": [],
   "source": []
  }
 ],
 "metadata": {
  "kernelspec": {
   "display_name": "Python 3",
   "language": "python",
   "name": "python3"
  },
  "language_info": {
   "codemirror_mode": {
    "name": "ipython",
    "version": 3
   },
   "file_extension": ".py",
   "mimetype": "text/x-python",
   "name": "python",
   "nbconvert_exporter": "python",
   "pygments_lexer": "ipython3",
   "version": "3.8.5"
  }
 },
 "nbformat": 4,
 "nbformat_minor": 4
}
